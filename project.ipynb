{
 "cells": [
  {
   "cell_type": "markdown",
   "metadata": {},
   "source": [
    "# Предсказание стоимости автомобиля по его VIN-номеру"
   ]
  },
  {
   "cell_type": "markdown",
   "metadata": {},
   "source": [
    "## Описание"
   ]
  },
  {
   "cell_type": "markdown",
   "metadata": {},
   "source": [
    "## Импорты"
   ]
  },
  {
   "cell_type": "code",
   "execution_count": 1,
   "metadata": {},
   "outputs": [],
   "source": [
    "import pandas as pd\n",
    "import numpy as np\n",
    "import re\n",
    "import time\n",
    "import skimpy\n",
    "\n",
    "import matplotlib.pyplot as plt\n",
    "plt.style.use(('dark_background'))\n",
    "\n",
    "from pycaret.regression import *\n",
    "from sklearn.model_selection import train_test_split\n",
    "\n",
    "import chime\n",
    "chime.theme('mario')\n",
    "\n",
    "S = 100500"
   ]
  },
  {
   "cell_type": "code",
   "execution_count": 2,
   "metadata": {},
   "outputs": [],
   "source": [
    "%load_ext chime"
   ]
  },
  {
   "cell_type": "markdown",
   "metadata": {},
   "source": [
    "## Загрузка и обзор данных"
   ]
  },
  {
   "cell_type": "code",
   "execution_count": 3,
   "metadata": {},
   "outputs": [
    {
     "name": "stdout",
     "output_type": "stream",
     "text": [
      "('2FMDK3JC4BBA41556', '12500')\n",
      "('3FA6P0H75ER208976', '14500')\n",
      "('3FAHP08Z17R268380', '1300')\n",
      "('1FMCU0GX3DUC59421', '15200')\n",
      "('1FAHP2E89DG119368', '11600')\n"
     ]
    }
   ],
   "source": [
    "pattern = r\"\\[(\\w{17}):(\\d+)\\]\"\n",
    "\n",
    "with open(\"vin_ford_train.txt\", \"r\") as file:\n",
    "    data = file.readline()\n",
    "    matches = re.findall(pattern, data)\n",
    "    \n",
    "    for match in matches[:5]:\n",
    "        print(match)"
   ]
  },
  {
   "cell_type": "code",
   "execution_count": 4,
   "metadata": {},
   "outputs": [
    {
     "data": {
      "text/html": [
       "<div>\n",
       "<style scoped>\n",
       "    .dataframe tbody tr th:only-of-type {\n",
       "        vertical-align: middle;\n",
       "    }\n",
       "\n",
       "    .dataframe tbody tr th {\n",
       "        vertical-align: top;\n",
       "    }\n",
       "\n",
       "    .dataframe thead th {\n",
       "        text-align: right;\n",
       "    }\n",
       "</style>\n",
       "<table border=\"1\" class=\"dataframe\">\n",
       "  <thead>\n",
       "    <tr style=\"text-align: right;\">\n",
       "      <th></th>\n",
       "      <th>VIN</th>\n",
       "      <th>Price</th>\n",
       "    </tr>\n",
       "  </thead>\n",
       "  <tbody>\n",
       "    <tr>\n",
       "      <th>0</th>\n",
       "      <td>2FMDK3JC4BBA41556</td>\n",
       "      <td>12500</td>\n",
       "    </tr>\n",
       "    <tr>\n",
       "      <th>1</th>\n",
       "      <td>3FA6P0H75ER208976</td>\n",
       "      <td>14500</td>\n",
       "    </tr>\n",
       "    <tr>\n",
       "      <th>2</th>\n",
       "      <td>3FAHP08Z17R268380</td>\n",
       "      <td>1300</td>\n",
       "    </tr>\n",
       "    <tr>\n",
       "      <th>3</th>\n",
       "      <td>1FMCU0GX3DUC59421</td>\n",
       "      <td>15200</td>\n",
       "    </tr>\n",
       "    <tr>\n",
       "      <th>4</th>\n",
       "      <td>1FAHP2E89DG119368</td>\n",
       "      <td>11600</td>\n",
       "    </tr>\n",
       "  </tbody>\n",
       "</table>\n",
       "</div>"
      ],
      "text/plain": [
       "                 VIN  Price\n",
       "0  2FMDK3JC4BBA41556  12500\n",
       "1  3FA6P0H75ER208976  14500\n",
       "2  3FAHP08Z17R268380   1300\n",
       "3  1FMCU0GX3DUC59421  15200\n",
       "4  1FAHP2E89DG119368  11600"
      ]
     },
     "execution_count": 4,
     "metadata": {},
     "output_type": "execute_result"
    }
   ],
   "source": [
    "df = pd.DataFrame(matches, columns=[\"VIN\", \"Price\"])\n",
    "df.head()"
   ]
  },
  {
   "cell_type": "code",
   "execution_count": 5,
   "metadata": {},
   "outputs": [
    {
     "name": "stdout",
     "output_type": "stream",
     "text": [
      "Информация о VIN-коде:\n"
     ]
    },
    {
     "data": {
      "text/plain": [
       "manufacturer         2FM\n",
       "security_codes         D\n",
       "model                K3J\n",
       "engine                 C\n",
       "check_digit            4\n",
       "model_year             B\n",
       "plant_code             B\n",
       "serial_number     A41556\n",
       "dtype: object"
      ]
     },
     "execution_count": 5,
     "metadata": {},
     "output_type": "execute_result"
    }
   ],
   "source": [
    "def extract_vin_info(vin):\n",
    "    \"\"\"Извлекает информацию из VIN-кода:\n",
    "\n",
    "manufacturer         Производитель\n",
    "security_codes       Ремни безопаности / тормоза\n",
    "model                Модель\n",
    "engine               Двигатель\n",
    "check_digit          Контрольный знак\n",
    "model_year           Год\n",
    "plant_code           Завод\n",
    "serial_number        Серийный номер\"\"\"\n",
    "    \n",
    "    pattern = r\"(\\w{3})(\\w)(\\w{3})(\\w)(\\w)(\\w)(\\w)(\\w{6})\"\n",
    "    match = re.match(pattern, vin)\n",
    "    if match:\n",
    "        manufacturer = match.group(1)\n",
    "        security_codes = match.group(2)\n",
    "        model = match.group(3)\n",
    "        engine = match.group(4)\n",
    "        check_digit = match.group(5)\n",
    "        model_year = match.group(6)\n",
    "        plant_code = match.group(7)\n",
    "        serial_number = match.group(8)\n",
    "        return pd.Series(\n",
    "            {\n",
    "                \"manufacturer\": manufacturer,\n",
    "                \"security_codes\": security_codes,\n",
    "                \"model\": model,\n",
    "                \"engine\": engine,\n",
    "                \"check_digit\": check_digit,\n",
    "                \"model_year\": model_year,\n",
    "                \"plant_code\": plant_code,\n",
    "                \"serial_number\": serial_number,\n",
    "            }\n",
    "        )\n",
    "    else:\n",
    "        return pd.Series(\n",
    "            {\n",
    "                \"manufacturer\": None,\n",
    "                \"security_codes\": None,\n",
    "                \"model\": None,\n",
    "                \"engine\": None,\n",
    "                \"check_digit\": None,\n",
    "                \"model_year\": None,\n",
    "                \"plant_code\": None,\n",
    "                \"serial_number\": None,\n",
    "            }\n",
    "        )\n",
    "\n",
    "vin_example = df[\"VIN\"][0]\n",
    "\n",
    "print('Информация о VIN-коде:')\n",
    "extract_vin_info(vin_example)"
   ]
  },
  {
   "cell_type": "code",
   "execution_count": 6,
   "metadata": {},
   "outputs": [
    {
     "name": "stdout",
     "output_type": "stream",
     "text": [
      "CPU times: total: 18.6 s\n",
      "Wall time: 19.6 s\n"
     ]
    }
   ],
   "source": [
    "%%time\n",
    "%%chime\n",
    "\n",
    "df[\n",
    "    [\n",
    "        \"manufacturer\",\n",
    "        \"security_codes\",\n",
    "        \"model\",\n",
    "        \"engine\",\n",
    "        \"check_digit\",\n",
    "        \"model_year\",\n",
    "        \"plant_code\",\n",
    "        \"serial_number\",\n",
    "    ]\n",
    "] = df[\"VIN\"].apply(extract_vin_info)\n",
    "\n",
    "df.head()"
   ]
  },
  {
   "cell_type": "markdown",
   "metadata": {},
   "source": [
    "## EDA (разведочный анализ)"
   ]
  },
  {
   "cell_type": "code",
   "execution_count": 7,
   "metadata": {},
   "outputs": [
    {
     "data": {
      "text/html": [
       "<pre style=\"white-space:pre;overflow-x:auto;line-height:normal;font-family:Menlo,'DejaVu Sans Mono',consolas,'Courier New',monospace\">╭──────────────────────────────────────────────── skimpy summary ─────────────────────────────────────────────────╮\n",
       "│ <span style=\"font-style: italic\">         Data Summary         </span> <span style=\"font-style: italic\">      Data Types       </span>                                                          │\n",
       "│ ┏━━━━━━━━━━━━━━━━━━━┳━━━━━━━━┓ ┏━━━━━━━━━━━━━┳━━━━━━━┓                                                          │\n",
       "│ ┃<span style=\"color: #008080; text-decoration-color: #008080; font-weight: bold\"> dataframe         </span>┃<span style=\"color: #008080; text-decoration-color: #008080; font-weight: bold\"> Values </span>┃ ┃<span style=\"color: #008080; text-decoration-color: #008080; font-weight: bold\"> Column Type </span>┃<span style=\"color: #008080; text-decoration-color: #008080; font-weight: bold\"> Count </span>┃                                                          │\n",
       "│ ┡━━━━━━━━━━━━━━━━━━━╇━━━━━━━━┩ ┡━━━━━━━━━━━━━╇━━━━━━━┩                                                          │\n",
       "│ │ Number of rows    │ 71884  │ │ string      │ 10    │                                                          │\n",
       "│ │ Number of columns │ 10     │ └─────────────┴───────┘                                                          │\n",
       "│ └───────────────────┴────────┘                                                                                  │\n",
       "│ <span style=\"font-style: italic\">                                                    string                                                    </span>  │\n",
       "│ ┏━━━━━━━━━━━━━━━━━━━━━━━━━━━━━━━┳━━━━━━━━┳━━━━━━━━━━━━┳━━━━━━━━━━━━━━━━━━━━━━━━━━━━━┳━━━━━━━━━━━━━━━━━━━━━━━━┓  │\n",
       "│ ┃<span style=\"font-weight: bold\"> column_name                   </span>┃<span style=\"font-weight: bold\"> NA     </span>┃<span style=\"font-weight: bold\"> NA %       </span>┃<span style=\"font-weight: bold\"> words per row               </span>┃<span style=\"font-weight: bold\"> total words            </span>┃  │\n",
       "│ ┡━━━━━━━━━━━━━━━━━━━━━━━━━━━━━━━╇━━━━━━━━╇━━━━━━━━━━━━╇━━━━━━━━━━━━━━━━━━━━━━━━━━━━━╇━━━━━━━━━━━━━━━━━━━━━━━━┩  │\n",
       "│ │ <span style=\"color: #af87ff; text-decoration-color: #af87ff\">VIN                          </span> │ <span style=\"color: #008080; text-decoration-color: #008080\">     0</span> │ <span style=\"color: #008080; text-decoration-color: #008080\">         0</span> │ <span style=\"color: #008080; text-decoration-color: #008080\">                          1</span> │ <span style=\"color: #008080; text-decoration-color: #008080\">                 71884</span> │  │\n",
       "│ │ <span style=\"color: #af87ff; text-decoration-color: #af87ff\">Price                        </span> │ <span style=\"color: #008080; text-decoration-color: #008080\">     0</span> │ <span style=\"color: #008080; text-decoration-color: #008080\">         0</span> │ <span style=\"color: #008080; text-decoration-color: #008080\">                          1</span> │ <span style=\"color: #008080; text-decoration-color: #008080\">                 71884</span> │  │\n",
       "│ │ <span style=\"color: #af87ff; text-decoration-color: #af87ff\">manufacturer                 </span> │ <span style=\"color: #008080; text-decoration-color: #008080\">     0</span> │ <span style=\"color: #008080; text-decoration-color: #008080\">         0</span> │ <span style=\"color: #008080; text-decoration-color: #008080\">                          1</span> │ <span style=\"color: #008080; text-decoration-color: #008080\">                 71884</span> │  │\n",
       "│ │ <span style=\"color: #af87ff; text-decoration-color: #af87ff\">security_codes               </span> │ <span style=\"color: #008080; text-decoration-color: #008080\">     0</span> │ <span style=\"color: #008080; text-decoration-color: #008080\">         0</span> │ <span style=\"color: #008080; text-decoration-color: #008080\">                          1</span> │ <span style=\"color: #008080; text-decoration-color: #008080\">                 71884</span> │  │\n",
       "│ │ <span style=\"color: #af87ff; text-decoration-color: #af87ff\">model                        </span> │ <span style=\"color: #008080; text-decoration-color: #008080\">     0</span> │ <span style=\"color: #008080; text-decoration-color: #008080\">         0</span> │ <span style=\"color: #008080; text-decoration-color: #008080\">                          1</span> │ <span style=\"color: #008080; text-decoration-color: #008080\">                 71884</span> │  │\n",
       "│ │ <span style=\"color: #af87ff; text-decoration-color: #af87ff\">engine                       </span> │ <span style=\"color: #008080; text-decoration-color: #008080\">     0</span> │ <span style=\"color: #008080; text-decoration-color: #008080\">         0</span> │ <span style=\"color: #008080; text-decoration-color: #008080\">                          1</span> │ <span style=\"color: #008080; text-decoration-color: #008080\">                 71884</span> │  │\n",
       "│ │ <span style=\"color: #af87ff; text-decoration-color: #af87ff\">check_digit                  </span> │ <span style=\"color: #008080; text-decoration-color: #008080\">     0</span> │ <span style=\"color: #008080; text-decoration-color: #008080\">         0</span> │ <span style=\"color: #008080; text-decoration-color: #008080\">                          1</span> │ <span style=\"color: #008080; text-decoration-color: #008080\">                 71884</span> │  │\n",
       "│ │ <span style=\"color: #af87ff; text-decoration-color: #af87ff\">model_year                   </span> │ <span style=\"color: #008080; text-decoration-color: #008080\">     0</span> │ <span style=\"color: #008080; text-decoration-color: #008080\">         0</span> │ <span style=\"color: #008080; text-decoration-color: #008080\">                          1</span> │ <span style=\"color: #008080; text-decoration-color: #008080\">                 71884</span> │  │\n",
       "│ │ <span style=\"color: #af87ff; text-decoration-color: #af87ff\">plant_code                   </span> │ <span style=\"color: #008080; text-decoration-color: #008080\">     0</span> │ <span style=\"color: #008080; text-decoration-color: #008080\">         0</span> │ <span style=\"color: #008080; text-decoration-color: #008080\">                          1</span> │ <span style=\"color: #008080; text-decoration-color: #008080\">                 71884</span> │  │\n",
       "│ │ <span style=\"color: #af87ff; text-decoration-color: #af87ff\">serial_number                </span> │ <span style=\"color: #008080; text-decoration-color: #008080\">     0</span> │ <span style=\"color: #008080; text-decoration-color: #008080\">         0</span> │ <span style=\"color: #008080; text-decoration-color: #008080\">                          1</span> │ <span style=\"color: #008080; text-decoration-color: #008080\">                 71884</span> │  │\n",
       "│ └───────────────────────────────┴────────┴────────────┴─────────────────────────────┴────────────────────────┘  │\n",
       "╰────────────────────────────────────────────────────── End ──────────────────────────────────────────────────────╯\n",
       "</pre>\n"
      ],
      "text/plain": [
       "╭──────────────────────────────────────────────── skimpy summary ─────────────────────────────────────────────────╮\n",
       "│ \u001b[3m         Data Summary         \u001b[0m \u001b[3m      Data Types       \u001b[0m                                                          │\n",
       "│ ┏━━━━━━━━━━━━━━━━━━━┳━━━━━━━━┓ ┏━━━━━━━━━━━━━┳━━━━━━━┓                                                          │\n",
       "│ ┃\u001b[1;36m \u001b[0m\u001b[1;36mdataframe        \u001b[0m\u001b[1;36m \u001b[0m┃\u001b[1;36m \u001b[0m\u001b[1;36mValues\u001b[0m\u001b[1;36m \u001b[0m┃ ┃\u001b[1;36m \u001b[0m\u001b[1;36mColumn Type\u001b[0m\u001b[1;36m \u001b[0m┃\u001b[1;36m \u001b[0m\u001b[1;36mCount\u001b[0m\u001b[1;36m \u001b[0m┃                                                          │\n",
       "│ ┡━━━━━━━━━━━━━━━━━━━╇━━━━━━━━┩ ┡━━━━━━━━━━━━━╇━━━━━━━┩                                                          │\n",
       "│ │ Number of rows    │ 71884  │ │ string      │ 10    │                                                          │\n",
       "│ │ Number of columns │ 10     │ └─────────────┴───────┘                                                          │\n",
       "│ └───────────────────┴────────┘                                                                                  │\n",
       "│ \u001b[3m                                                    string                                                    \u001b[0m  │\n",
       "│ ┏━━━━━━━━━━━━━━━━━━━━━━━━━━━━━━━┳━━━━━━━━┳━━━━━━━━━━━━┳━━━━━━━━━━━━━━━━━━━━━━━━━━━━━┳━━━━━━━━━━━━━━━━━━━━━━━━┓  │\n",
       "│ ┃\u001b[1m \u001b[0m\u001b[1mcolumn_name                  \u001b[0m\u001b[1m \u001b[0m┃\u001b[1m \u001b[0m\u001b[1mNA    \u001b[0m\u001b[1m \u001b[0m┃\u001b[1m \u001b[0m\u001b[1mNA %      \u001b[0m\u001b[1m \u001b[0m┃\u001b[1m \u001b[0m\u001b[1mwords per row              \u001b[0m\u001b[1m \u001b[0m┃\u001b[1m \u001b[0m\u001b[1mtotal words           \u001b[0m\u001b[1m \u001b[0m┃  │\n",
       "│ ┡━━━━━━━━━━━━━━━━━━━━━━━━━━━━━━━╇━━━━━━━━╇━━━━━━━━━━━━╇━━━━━━━━━━━━━━━━━━━━━━━━━━━━━╇━━━━━━━━━━━━━━━━━━━━━━━━┩  │\n",
       "│ │ \u001b[38;5;141mVIN                          \u001b[0m │ \u001b[36m     0\u001b[0m │ \u001b[36m         0\u001b[0m │ \u001b[36m                          1\u001b[0m │ \u001b[36m                 71884\u001b[0m │  │\n",
       "│ │ \u001b[38;5;141mPrice                        \u001b[0m │ \u001b[36m     0\u001b[0m │ \u001b[36m         0\u001b[0m │ \u001b[36m                          1\u001b[0m │ \u001b[36m                 71884\u001b[0m │  │\n",
       "│ │ \u001b[38;5;141mmanufacturer                 \u001b[0m │ \u001b[36m     0\u001b[0m │ \u001b[36m         0\u001b[0m │ \u001b[36m                          1\u001b[0m │ \u001b[36m                 71884\u001b[0m │  │\n",
       "│ │ \u001b[38;5;141msecurity_codes               \u001b[0m │ \u001b[36m     0\u001b[0m │ \u001b[36m         0\u001b[0m │ \u001b[36m                          1\u001b[0m │ \u001b[36m                 71884\u001b[0m │  │\n",
       "│ │ \u001b[38;5;141mmodel                        \u001b[0m │ \u001b[36m     0\u001b[0m │ \u001b[36m         0\u001b[0m │ \u001b[36m                          1\u001b[0m │ \u001b[36m                 71884\u001b[0m │  │\n",
       "│ │ \u001b[38;5;141mengine                       \u001b[0m │ \u001b[36m     0\u001b[0m │ \u001b[36m         0\u001b[0m │ \u001b[36m                          1\u001b[0m │ \u001b[36m                 71884\u001b[0m │  │\n",
       "│ │ \u001b[38;5;141mcheck_digit                  \u001b[0m │ \u001b[36m     0\u001b[0m │ \u001b[36m         0\u001b[0m │ \u001b[36m                          1\u001b[0m │ \u001b[36m                 71884\u001b[0m │  │\n",
       "│ │ \u001b[38;5;141mmodel_year                   \u001b[0m │ \u001b[36m     0\u001b[0m │ \u001b[36m         0\u001b[0m │ \u001b[36m                          1\u001b[0m │ \u001b[36m                 71884\u001b[0m │  │\n",
       "│ │ \u001b[38;5;141mplant_code                   \u001b[0m │ \u001b[36m     0\u001b[0m │ \u001b[36m         0\u001b[0m │ \u001b[36m                          1\u001b[0m │ \u001b[36m                 71884\u001b[0m │  │\n",
       "│ │ \u001b[38;5;141mserial_number                \u001b[0m │ \u001b[36m     0\u001b[0m │ \u001b[36m         0\u001b[0m │ \u001b[36m                          1\u001b[0m │ \u001b[36m                 71884\u001b[0m │  │\n",
       "│ └───────────────────────────────┴────────┴────────────┴─────────────────────────────┴────────────────────────┘  │\n",
       "╰────────────────────────────────────────────────────── End ──────────────────────────────────────────────────────╯\n"
      ]
     },
     "metadata": {},
     "output_type": "display_data"
    }
   ],
   "source": [
    "skimpy.skim(df)"
   ]
  },
  {
   "cell_type": "code",
   "execution_count": 8,
   "metadata": {},
   "outputs": [
    {
     "name": "stdout",
     "output_type": "stream",
     "text": [
      "<class 'pandas.core.frame.DataFrame'>\n",
      "RangeIndex: 71884 entries, 0 to 71883\n",
      "Data columns (total 10 columns):\n",
      " #   Column          Non-Null Count  Dtype \n",
      "---  ------          --------------  ----- \n",
      " 0   VIN             71884 non-null  object\n",
      " 1   Price           71884 non-null  object\n",
      " 2   manufacturer    71884 non-null  object\n",
      " 3   security_codes  71884 non-null  object\n",
      " 4   model           71884 non-null  object\n",
      " 5   engine          71884 non-null  object\n",
      " 6   check_digit     71884 non-null  object\n",
      " 7   model_year      71884 non-null  object\n",
      " 8   plant_code      71884 non-null  object\n",
      " 9   serial_number   71884 non-null  object\n",
      "dtypes: object(10)\n",
      "memory usage: 5.5+ MB\n"
     ]
    }
   ],
   "source": [
    "df.info()"
   ]
  },
  {
   "cell_type": "code",
   "execution_count": 9,
   "metadata": {},
   "outputs": [
    {
     "data": {
      "text/html": [
       "<div>\n",
       "<style scoped>\n",
       "    .dataframe tbody tr th:only-of-type {\n",
       "        vertical-align: middle;\n",
       "    }\n",
       "\n",
       "    .dataframe tbody tr th {\n",
       "        vertical-align: top;\n",
       "    }\n",
       "\n",
       "    .dataframe thead th {\n",
       "        text-align: right;\n",
       "    }\n",
       "</style>\n",
       "<table border=\"1\" class=\"dataframe\">\n",
       "  <thead>\n",
       "    <tr style=\"text-align: right;\">\n",
       "      <th></th>\n",
       "      <th>VIN</th>\n",
       "      <th>Price</th>\n",
       "      <th>manufacturer</th>\n",
       "      <th>security_codes</th>\n",
       "      <th>model</th>\n",
       "      <th>engine</th>\n",
       "      <th>check_digit</th>\n",
       "      <th>model_year</th>\n",
       "      <th>plant_code</th>\n",
       "      <th>serial_number</th>\n",
       "    </tr>\n",
       "  </thead>\n",
       "  <tbody>\n",
       "    <tr>\n",
       "      <th>count</th>\n",
       "      <td>71884</td>\n",
       "      <td>71884</td>\n",
       "      <td>71884</td>\n",
       "      <td>71884</td>\n",
       "      <td>71884</td>\n",
       "      <td>71884</td>\n",
       "      <td>71884</td>\n",
       "      <td>71884</td>\n",
       "      <td>71884</td>\n",
       "      <td>71884</td>\n",
       "    </tr>\n",
       "    <tr>\n",
       "      <th>unique</th>\n",
       "      <td>71884</td>\n",
       "      <td>643</td>\n",
       "      <td>14</td>\n",
       "      <td>26</td>\n",
       "      <td>365</td>\n",
       "      <td>32</td>\n",
       "      <td>11</td>\n",
       "      <td>25</td>\n",
       "      <td>21</td>\n",
       "      <td>68215</td>\n",
       "    </tr>\n",
       "    <tr>\n",
       "      <th>top</th>\n",
       "      <td>2FMDK3JC4BBA41556</td>\n",
       "      <td>11000</td>\n",
       "      <td>1FM</td>\n",
       "      <td>D</td>\n",
       "      <td>P0H</td>\n",
       "      <td>2</td>\n",
       "      <td>1</td>\n",
       "      <td>D</td>\n",
       "      <td>R</td>\n",
       "      <td>B55197</td>\n",
       "    </tr>\n",
       "    <tr>\n",
       "      <th>freq</th>\n",
       "      <td>1</td>\n",
       "      <td>574</td>\n",
       "      <td>18347</td>\n",
       "      <td>12370</td>\n",
       "      <td>6171</td>\n",
       "      <td>7015</td>\n",
       "      <td>6622</td>\n",
       "      <td>17286</td>\n",
       "      <td>10535</td>\n",
       "      <td>4</td>\n",
       "    </tr>\n",
       "  </tbody>\n",
       "</table>\n",
       "</div>"
      ],
      "text/plain": [
       "                      VIN  Price manufacturer security_codes  model engine  \\\n",
       "count               71884  71884        71884          71884  71884  71884   \n",
       "unique              71884    643           14             26    365     32   \n",
       "top     2FMDK3JC4BBA41556  11000          1FM              D    P0H      2   \n",
       "freq                    1    574        18347          12370   6171   7015   \n",
       "\n",
       "       check_digit model_year plant_code serial_number  \n",
       "count        71884      71884      71884         71884  \n",
       "unique          11         25         21         68215  \n",
       "top              1          D          R        B55197  \n",
       "freq          6622      17286      10535             4  "
      ]
     },
     "execution_count": 9,
     "metadata": {},
     "output_type": "execute_result"
    }
   ],
   "source": [
    "df.describe()"
   ]
  },
  {
   "cell_type": "code",
   "execution_count": 10,
   "metadata": {},
   "outputs": [
    {
     "data": {
      "text/html": [
       "<div>\n",
       "<style scoped>\n",
       "    .dataframe tbody tr th:only-of-type {\n",
       "        vertical-align: middle;\n",
       "    }\n",
       "\n",
       "    .dataframe tbody tr th {\n",
       "        vertical-align: top;\n",
       "    }\n",
       "\n",
       "    .dataframe thead th {\n",
       "        text-align: right;\n",
       "    }\n",
       "</style>\n",
       "<table border=\"1\" class=\"dataframe\">\n",
       "  <thead>\n",
       "    <tr style=\"text-align: right;\">\n",
       "      <th></th>\n",
       "      <th>Price</th>\n",
       "    </tr>\n",
       "  </thead>\n",
       "  <tbody>\n",
       "    <tr>\n",
       "      <th>count</th>\n",
       "      <td>71884.000000</td>\n",
       "    </tr>\n",
       "    <tr>\n",
       "      <th>mean</th>\n",
       "      <td>14321.449377</td>\n",
       "    </tr>\n",
       "    <tr>\n",
       "      <th>std</th>\n",
       "      <td>7827.057238</td>\n",
       "    </tr>\n",
       "    <tr>\n",
       "      <th>min</th>\n",
       "      <td>1000.000000</td>\n",
       "    </tr>\n",
       "    <tr>\n",
       "      <th>25%</th>\n",
       "      <td>8800.000000</td>\n",
       "    </tr>\n",
       "    <tr>\n",
       "      <th>50%</th>\n",
       "      <td>13500.000000</td>\n",
       "    </tr>\n",
       "    <tr>\n",
       "      <th>75%</th>\n",
       "      <td>19500.000000</td>\n",
       "    </tr>\n",
       "    <tr>\n",
       "      <th>max</th>\n",
       "      <td>36500.000000</td>\n",
       "    </tr>\n",
       "  </tbody>\n",
       "</table>\n",
       "</div>"
      ],
      "text/plain": [
       "              Price\n",
       "count  71884.000000\n",
       "mean   14321.449377\n",
       "std     7827.057238\n",
       "min     1000.000000\n",
       "25%     8800.000000\n",
       "50%    13500.000000\n",
       "75%    19500.000000\n",
       "max    36500.000000"
      ]
     },
     "execution_count": 10,
     "metadata": {},
     "output_type": "execute_result"
    }
   ],
   "source": [
    "(df[['Price']].astype('float')).describe()"
   ]
  },
  {
   "cell_type": "code",
   "execution_count": 11,
   "metadata": {},
   "outputs": [],
   "source": [
    "df['Price'] = df['Price'].astype('uint')"
   ]
  },
  {
   "cell_type": "code",
   "execution_count": 12,
   "metadata": {},
   "outputs": [
    {
     "data": {
      "text/plain": [
       "0"
      ]
     },
     "execution_count": 12,
     "metadata": {},
     "output_type": "execute_result"
    }
   ],
   "source": [
    "df.drop(columns='VIN').duplicated().sum()"
   ]
  },
  {
   "cell_type": "markdown",
   "metadata": {},
   "source": [
    "- Пропусков не обнаружено.\n",
    "\n",
    "- Price представляет собой целочисленные значения в диопозоне от 1000 дл 36500\n",
    "\n",
    "- Есть дубликаты в serial_number, но полные дубликаты отсуствуют. "
   ]
  },
  {
   "cell_type": "markdown",
   "metadata": {},
   "source": [
    "### Price"
   ]
  },
  {
   "cell_type": "code",
   "execution_count": 13,
   "metadata": {},
   "outputs": [
    {
     "data": {
      "image/png": "[encoded data removed]",
      "text/plain": [
       "<Figure size 800x550 with 1 Axes>"
      ]
     },
     "metadata": {},
     "output_type": "display_data"
    }
   ],
   "source": [
    "plt.hist(df['Price'], bins=20,color='coral')\n",
    "plt.xlabel('Цена')\n",
    "plt.ylabel('Количество автомобилей')\n",
    "plt.title('Распределение цен автомобилей')\n",
    "plt.show()"
   ]
  },
  {
   "cell_type": "markdown",
   "metadata": {},
   "source": [
    "Судя по гистограмме, распределение цен имеет вид, близкий к нормальному, но с некоторым смещением вправо. Большинство автомобилей имеют цену в диапазоне от 5000 до 15000, но есть и более дорогие варианты."
   ]
  },
  {
   "cell_type": "markdown",
   "metadata": {},
   "source": [
    "### Соотношение моделей и производителей"
   ]
  },
  {
   "cell_type": "code",
   "execution_count": 14,
   "metadata": {},
   "outputs": [
    {
     "data": {
      "text/plain": [
       "manufacturer\n",
       "1FM             18347\n",
       "1FT             17177\n",
       "1FA             12844\n",
       "3FA             12404\n",
       "2FM              5829\n",
       "1ZV              3257\n",
       "1FB              1124\n",
       "4F2               263\n",
       "1FD               242\n",
       "2FA               199\n",
       "2FT               145\n",
       "4N2                22\n",
       "4F4                16\n",
       "3FT                15\n",
       "Name: count, dtype: int64"
      ]
     },
     "metadata": {},
     "output_type": "display_data"
    },
    {
     "name": "stdout",
     "output_type": "stream",
     "text": [
      "\n"
     ]
    },
    {
     "data": {
      "text/plain": [
       "model\n",
       "P0H      6171\n",
       "P3F      3931\n",
       "W1E      3897\n",
       "P3K      1958\n",
       "P0J      1487\n",
       "         ... \n",
       "X27         1\n",
       "U07         1\n",
       "X15         1\n",
       "P30         1\n",
       "P66         1\n",
       "Name: count, Length: 365, dtype: int64"
      ]
     },
     "execution_count": 14,
     "metadata": {},
     "output_type": "execute_result"
    }
   ],
   "source": [
    "display(df[['manufacturer']].value_counts())\n",
    "print()\n",
    "df[['model']].value_counts()"
   ]
  },
  {
   "cell_type": "code",
   "execution_count": 15,
   "metadata": {},
   "outputs": [
    {
     "data": {
      "text/plain": [
       "model\n",
       "P0H      6171\n",
       "P3F      3931\n",
       "W1E      3897\n",
       "P3K      1958\n",
       "P0J      1487\n",
       "U0G      1465\n",
       "K8D      1253\n",
       "K3J      1190\n",
       "P8E      1173\n",
       "U9G      1141\n",
       "W1C      1119\n",
       "X1E      1026\n",
       "W14       997\n",
       "E2E       996\n",
       "P2E       994\n",
       "Name: count, dtype: int64"
      ]
     },
     "execution_count": 15,
     "metadata": {},
     "output_type": "execute_result"
    }
   ],
   "source": [
    "df[['model']].value_counts().head(15)"
   ]
  },
  {
   "cell_type": "code",
   "execution_count": 16,
   "metadata": {},
   "outputs": [
    {
     "data": {
      "text/plain": [
       "model\n",
       "P54      1\n",
       "P51      1\n",
       "Y0C      1\n",
       "U14      1\n",
       "K30      1\n",
       "U8F      1\n",
       "F46      1\n",
       "T89      1\n",
       "X2C      1\n",
       "F25      1\n",
       "X27      1\n",
       "U07      1\n",
       "X15      1\n",
       "P30      1\n",
       "P66      1\n",
       "Name: count, dtype: int64"
      ]
     },
     "execution_count": 16,
     "metadata": {},
     "output_type": "execute_result"
    }
   ],
   "source": [
    "df[['model']].value_counts().tail(15)"
   ]
  },
  {
   "cell_type": "code",
   "execution_count": 17,
   "metadata": {},
   "outputs": [
    {
     "data": {
      "text/plain": [
       "72"
      ]
     },
     "execution_count": 17,
     "metadata": {},
     "output_type": "execute_result"
    }
   ],
   "source": [
    "round(df.shape[0]/1000)"
   ]
  },
  {
   "cell_type": "code",
   "execution_count": 18,
   "metadata": {},
   "outputs": [
    {
     "name": "stdout",
     "output_type": "stream",
     "text": [
      "0.1% данных: 72\n",
      "Модели которые встречаються реже: 207\n",
      "----------------------------------\n",
      "0.1% данных: 7\n",
      "Модели которые встречаються реже: 78\n",
      "----------------------------------\n",
      "Модели которые встречаються 1 раз: 19\n"
     ]
    }
   ],
   "source": [
    "percentage = round(df.shape[0]/1000)\n",
    "\n",
    "print(f'0.1% данных: {percentage}')\n",
    "print(f'Модели которые встречаються реже: {(df.model.value_counts() < percentage).sum()}')\n",
    "print('----------------------------------')\n",
    "print(f'0.1% данных: {round(percentage/10)}')\n",
    "print(f'Модели которые встречаються реже: {(df.model.value_counts() < percentage/10).sum()}')\n",
    "print('----------------------------------')\n",
    "print(f'Модели которые встречаються 1 раз: {(df.model.value_counts() == 1).sum()}')"
   ]
  },
  {
   "cell_type": "markdown",
   "metadata": {},
   "source": [
    "Судя по результатам, в данных представлено 15 разных производителей и 365 разных моделей.\n",
    "\n",
    "* **Производители**: Наиболее представленными производителями являются `1FM`, `1FT` и `1FA`. Остальные производители представлены в значительно меньшем количестве.\n",
    "* **Модели**: Среди моделей наблюдается большее разнообразие. Модель `P0H` является самой распространенной, но есть много моделей, которые представленые в небольшом количестве."
   ]
  },
  {
   "cell_type": "markdown",
   "metadata": {},
   "source": [
    "### Зависимость цены от признаков"
   ]
  },
  {
   "cell_type": "markdown",
   "metadata": {},
   "source": [
    "#### Год"
   ]
  },
  {
   "cell_type": "code",
   "execution_count": 19,
   "metadata": {},
   "outputs": [
    {
     "data": {
      "text/plain": [
       "model_year\n",
       "D             17286\n",
       "E             14990\n",
       "C             12254\n",
       "B              5860\n",
       "8              3277\n",
       "A              3262\n",
       "7              2652\n",
       "6              2555\n",
       "5              2105\n",
       "9              1736\n",
       "4              1559\n",
       "3              1274\n",
       "2               951\n",
       "F               653\n",
       "1               601\n",
       "Y               415\n",
       "X               194\n",
       "W               113\n",
       "V                88\n",
       "T                30\n",
       "S                20\n",
       "R                 6\n",
       "H                 1\n",
       "K                 1\n",
       "P                 1\n",
       "Name: count, dtype: int64"
      ]
     },
     "execution_count": 19,
     "metadata": {},
     "output_type": "execute_result"
    }
   ],
   "source": [
    "df[['model_year']].value_counts()"
   ]
  },
  {
   "cell_type": "code",
   "execution_count": 20,
   "metadata": {},
   "outputs": [
    {
     "data": {
      "image/png": "[encoded data removed]",
      "text/plain": [
       "<Figure size 800x550 with 1 Axes>"
      ]
     },
     "metadata": {},
     "output_type": "display_data"
    }
   ],
   "source": [
    "sns.boxplot(x='model_year',y='Price', data=df)\n",
    "plt.xlabel('Год выпуска')\n",
    "plt.ylabel('Цена')\n",
    "plt.title('Зависимость цены от года выпуска (Box Plot)')\n",
    "plt.show()"
   ]
  },
  {
   "cell_type": "markdown",
   "metadata": {},
   "source": [
    "Можно сделать следующие наблюдения:\n",
    "\n",
    "* Больше всего автомобилей распределены по годам D, E, C, B.\n",
    "* Есть годы в которых всего 1 автомобиль (H,K,P)\n",
    "* Год F обладает самыми дорогими автомобилями\n",
    "* Цены на автомобили варьируются в зависимости от года выпуска.\n",
    "* Наблюдается значительный разброс цен внутри каждого года выпуска. Это может быть связано с разными моделями, комплектациями и состоянием автомобилей.\n"
   ]
  },
  {
   "cell_type": "markdown",
   "metadata": {},
   "source": [
    "#### Производитель"
   ]
  },
  {
   "cell_type": "code",
   "execution_count": 21,
   "metadata": {},
   "outputs": [
    {
     "data": {
      "image/png": "[encoded data removed]",
      "text/plain": [
       "<Figure size 800x550 with 1 Axes>"
      ]
     },
     "metadata": {},
     "output_type": "display_data"
    }
   ],
   "source": [
    "sns.boxplot(x='manufacturer',y='Price', data=df)\n",
    "plt.xlabel('Производитель')\n",
    "plt.ylabel('Цена')\n",
    "plt.title('Зависимость цены от производителя (Box Plot)')\n",
    "plt.xticks(rotation=30)\n",
    "plt.show()"
   ]
  },
  {
   "cell_type": "markdown",
   "metadata": {},
   "source": [
    "* Цены на автомобили варьируются в зависимости от производителя.\n",
    "* Производители `2FM` и `1FB` имеют в среднем более высокие цены, чем остальные.\n",
    "* Наблюдается значительный разброс цен внутри каждого производителя. Это может быть связано с разными моделями, комплектациями и состоянием автомобилей."
   ]
  },
  {
   "cell_type": "markdown",
   "metadata": {},
   "source": [
    "#### Модель"
   ]
  },
  {
   "cell_type": "code",
   "execution_count": 22,
   "metadata": {},
   "outputs": [
    {
     "data": {
      "text/html": [
       "<div>\n",
       "<style scoped>\n",
       "    .dataframe tbody tr th:only-of-type {\n",
       "        vertical-align: middle;\n",
       "    }\n",
       "\n",
       "    .dataframe tbody tr th {\n",
       "        vertical-align: top;\n",
       "    }\n",
       "\n",
       "    .dataframe thead th {\n",
       "        text-align: right;\n",
       "    }\n",
       "</style>\n",
       "<table border=\"1\" class=\"dataframe\">\n",
       "  <thead>\n",
       "    <tr style=\"text-align: right;\">\n",
       "      <th></th>\n",
       "      <th>mean</th>\n",
       "      <th>median</th>\n",
       "      <th>std</th>\n",
       "      <th>count</th>\n",
       "    </tr>\n",
       "    <tr>\n",
       "      <th>model</th>\n",
       "      <th></th>\n",
       "      <th></th>\n",
       "      <th></th>\n",
       "      <th></th>\n",
       "    </tr>\n",
       "  </thead>\n",
       "  <tbody>\n",
       "    <tr>\n",
       "      <th>P0H</th>\n",
       "      <td>12764.0</td>\n",
       "      <td>13300.0</td>\n",
       "      <td>3138.0</td>\n",
       "      <td>6171</td>\n",
       "    </tr>\n",
       "    <tr>\n",
       "      <th>P3F</th>\n",
       "      <td>10166.0</td>\n",
       "      <td>10400.0</td>\n",
       "      <td>2460.0</td>\n",
       "      <td>3931</td>\n",
       "    </tr>\n",
       "    <tr>\n",
       "      <th>W1E</th>\n",
       "      <td>25589.0</td>\n",
       "      <td>25900.0</td>\n",
       "      <td>5647.0</td>\n",
       "      <td>3897</td>\n",
       "    </tr>\n",
       "    <tr>\n",
       "      <th>P3K</th>\n",
       "      <td>11125.0</td>\n",
       "      <td>11300.0</td>\n",
       "      <td>2281.0</td>\n",
       "      <td>1958</td>\n",
       "    </tr>\n",
       "    <tr>\n",
       "      <th>P0J</th>\n",
       "      <td>11506.0</td>\n",
       "      <td>11600.0</td>\n",
       "      <td>2265.0</td>\n",
       "      <td>1487</td>\n",
       "    </tr>\n",
       "    <tr>\n",
       "      <th>U0G</th>\n",
       "      <td>15562.0</td>\n",
       "      <td>16000.0</td>\n",
       "      <td>2516.0</td>\n",
       "      <td>1465</td>\n",
       "    </tr>\n",
       "    <tr>\n",
       "      <th>K8D</th>\n",
       "      <td>24344.0</td>\n",
       "      <td>24500.0</td>\n",
       "      <td>3958.0</td>\n",
       "      <td>1253</td>\n",
       "    </tr>\n",
       "    <tr>\n",
       "      <th>K3J</th>\n",
       "      <td>19953.0</td>\n",
       "      <td>20600.0</td>\n",
       "      <td>3504.0</td>\n",
       "      <td>1190</td>\n",
       "    </tr>\n",
       "    <tr>\n",
       "      <th>P8E</th>\n",
       "      <td>14968.0</td>\n",
       "      <td>14100.0</td>\n",
       "      <td>3481.0</td>\n",
       "      <td>1173</td>\n",
       "    </tr>\n",
       "    <tr>\n",
       "      <th>U9G</th>\n",
       "      <td>16629.0</td>\n",
       "      <td>17100.0</td>\n",
       "      <td>3433.0</td>\n",
       "      <td>1141</td>\n",
       "    </tr>\n",
       "    <tr>\n",
       "      <th>W1C</th>\n",
       "      <td>22219.0</td>\n",
       "      <td>23000.0</td>\n",
       "      <td>5366.0</td>\n",
       "      <td>1119</td>\n",
       "    </tr>\n",
       "    <tr>\n",
       "      <th>X1E</th>\n",
       "      <td>21428.0</td>\n",
       "      <td>22700.0</td>\n",
       "      <td>5567.0</td>\n",
       "      <td>1026</td>\n",
       "    </tr>\n",
       "    <tr>\n",
       "      <th>W14</th>\n",
       "      <td>13005.0</td>\n",
       "      <td>12800.0</td>\n",
       "      <td>5207.0</td>\n",
       "      <td>997</td>\n",
       "    </tr>\n",
       "    <tr>\n",
       "      <th>E2E</th>\n",
       "      <td>20047.0</td>\n",
       "      <td>20300.0</td>\n",
       "      <td>3114.0</td>\n",
       "      <td>996</td>\n",
       "    </tr>\n",
       "    <tr>\n",
       "      <th>P2E</th>\n",
       "      <td>13623.0</td>\n",
       "      <td>13100.0</td>\n",
       "      <td>2943.0</td>\n",
       "      <td>994</td>\n",
       "    </tr>\n",
       "    <tr>\n",
       "      <th>P8A</th>\n",
       "      <td>15921.0</td>\n",
       "      <td>16500.0</td>\n",
       "      <td>3279.0</td>\n",
       "      <td>957</td>\n",
       "    </tr>\n",
       "    <tr>\n",
       "      <th>U0D</th>\n",
       "      <td>11689.0</td>\n",
       "      <td>11800.0</td>\n",
       "      <td>3065.0</td>\n",
       "      <td>933</td>\n",
       "    </tr>\n",
       "    <tr>\n",
       "      <th>F1C</th>\n",
       "      <td>16988.0</td>\n",
       "      <td>17900.0</td>\n",
       "      <td>3252.0</td>\n",
       "      <td>915</td>\n",
       "    </tr>\n",
       "    <tr>\n",
       "      <th>P0K</th>\n",
       "      <td>17742.0</td>\n",
       "      <td>18300.0</td>\n",
       "      <td>3033.0</td>\n",
       "      <td>899</td>\n",
       "    </tr>\n",
       "    <tr>\n",
       "      <th>K7D</th>\n",
       "      <td>23855.0</td>\n",
       "      <td>24600.0</td>\n",
       "      <td>3699.0</td>\n",
       "      <td>841</td>\n",
       "    </tr>\n",
       "    <tr>\n",
       "      <th>U9D</th>\n",
       "      <td>13439.0</td>\n",
       "      <td>14000.0</td>\n",
       "      <td>3399.0</td>\n",
       "      <td>806</td>\n",
       "    </tr>\n",
       "    <tr>\n",
       "      <th>K4K</th>\n",
       "      <td>22142.0</td>\n",
       "      <td>22500.0</td>\n",
       "      <td>4182.0</td>\n",
       "      <td>798</td>\n",
       "    </tr>\n",
       "    <tr>\n",
       "      <th>P4E</th>\n",
       "      <td>9394.0</td>\n",
       "      <td>9900.0</td>\n",
       "      <td>2262.0</td>\n",
       "      <td>785</td>\n",
       "    </tr>\n",
       "    <tr>\n",
       "      <th>K8F</th>\n",
       "      <td>27358.0</td>\n",
       "      <td>27500.0</td>\n",
       "      <td>3910.0</td>\n",
       "      <td>760</td>\n",
       "    </tr>\n",
       "    <tr>\n",
       "      <th>K4J</th>\n",
       "      <td>20998.0</td>\n",
       "      <td>21650.0</td>\n",
       "      <td>3664.0</td>\n",
       "      <td>758</td>\n",
       "    </tr>\n",
       "    <tr>\n",
       "      <th>P2F</th>\n",
       "      <td>18469.0</td>\n",
       "      <td>18700.0</td>\n",
       "      <td>3374.0</td>\n",
       "      <td>751</td>\n",
       "    </tr>\n",
       "    <tr>\n",
       "      <th>P4B</th>\n",
       "      <td>9125.0</td>\n",
       "      <td>9300.0</td>\n",
       "      <td>2196.0</td>\n",
       "      <td>694</td>\n",
       "    </tr>\n",
       "    <tr>\n",
       "      <th>U73</th>\n",
       "      <td>3856.0</td>\n",
       "      <td>3200.0</td>\n",
       "      <td>2388.0</td>\n",
       "      <td>632</td>\n",
       "    </tr>\n",
       "    <tr>\n",
       "      <th>X14</th>\n",
       "      <td>8973.0</td>\n",
       "      <td>8300.0</td>\n",
       "      <td>3945.0</td>\n",
       "      <td>608</td>\n",
       "    </tr>\n",
       "    <tr>\n",
       "      <th>K3K</th>\n",
       "      <td>20839.0</td>\n",
       "      <td>21600.0</td>\n",
       "      <td>3696.0</td>\n",
       "      <td>597</td>\n",
       "    </tr>\n",
       "  </tbody>\n",
       "</table>\n",
       "</div>"
      ],
      "text/plain": [
       "          mean   median     std  count\n",
       "model                                 \n",
       "P0H    12764.0  13300.0  3138.0   6171\n",
       "P3F    10166.0  10400.0  2460.0   3931\n",
       "W1E    25589.0  25900.0  5647.0   3897\n",
       "P3K    11125.0  11300.0  2281.0   1958\n",
       "P0J    11506.0  11600.0  2265.0   1487\n",
       "U0G    15562.0  16000.0  2516.0   1465\n",
       "K8D    24344.0  24500.0  3958.0   1253\n",
       "K3J    19953.0  20600.0  3504.0   1190\n",
       "P8E    14968.0  14100.0  3481.0   1173\n",
       "U9G    16629.0  17100.0  3433.0   1141\n",
       "W1C    22219.0  23000.0  5366.0   1119\n",
       "X1E    21428.0  22700.0  5567.0   1026\n",
       "W14    13005.0  12800.0  5207.0    997\n",
       "E2E    20047.0  20300.0  3114.0    996\n",
       "P2E    13623.0  13100.0  2943.0    994\n",
       "P8A    15921.0  16500.0  3279.0    957\n",
       "U0D    11689.0  11800.0  3065.0    933\n",
       "F1C    16988.0  17900.0  3252.0    915\n",
       "P0K    17742.0  18300.0  3033.0    899\n",
       "K7D    23855.0  24600.0  3699.0    841\n",
       "U9D    13439.0  14000.0  3399.0    806\n",
       "K4K    22142.0  22500.0  4182.0    798\n",
       "P4E     9394.0   9900.0  2262.0    785\n",
       "K8F    27358.0  27500.0  3910.0    760\n",
       "K4J    20998.0  21650.0  3664.0    758\n",
       "P2F    18469.0  18700.0  3374.0    751\n",
       "P4B     9125.0   9300.0  2196.0    694\n",
       "U73     3856.0   3200.0  2388.0    632\n",
       "X14     8973.0   8300.0  3945.0    608\n",
       "K3K    20839.0  21600.0  3696.0    597"
      ]
     },
     "execution_count": 22,
     "metadata": {},
     "output_type": "execute_result"
    }
   ],
   "source": [
    "model_groups = (round(df.groupby('model')['Price'].agg(['mean', 'median', 'std', 'count']))\n",
    "                .sort_values(by='count', ascending=False))\n",
    "model_groups.head(30)"
   ]
  },
  {
   "cell_type": "code",
   "execution_count": 23,
   "metadata": {},
   "outputs": [
    {
     "data": {
      "image/png": "[encoded data removed]",
      "text/plain": [
       "<Figure size 1200x600 with 2 Axes>"
      ]
     },
     "metadata": {},
     "output_type": "display_data"
    }
   ],
   "source": [
    "top_30_models = model_groups.head(30)\n",
    "\n",
    "plt.figure(figsize=(12, 6))\n",
    "\n",
    "plt.subplot(1, 2, 1)\n",
    "top_30_models['mean'].plot(kind='bar',colormap='summer')\n",
    "plt.xlabel('Модель')\n",
    "plt.ylabel('Средняя цена')\n",
    "plt.title('Средняя цена для топ-30 моделей')\n",
    "\n",
    "plt.subplot(1, 2, 2)\n",
    "top_30_models['median'].plot(kind='bar')\n",
    "plt.xlabel('Модель')\n",
    "plt.ylabel('Медианная цена')\n",
    "plt.title('Медианная цена для топ-30 моделей')\n",
    "\n",
    "plt.tight_layout() \n",
    "plt.show()"
   ]
  },
  {
   "cell_type": "markdown",
   "metadata": {},
   "source": [
    "* **Распределение цен:** Как средние, так и медианные цены варьируются в зависимости от модели. Это указывает на то, что модель автомобиля является важным фактором, влияющим на его цену.\n",
    "* **Сходство между средней и медианной:** В большинстве случаев средняя цена и медианная цена для каждой модели довольно близки. Это говорит о том, что распределение цен внутри каждой модели относительно симметрично и не имеет сильных выбросов.\n"
   ]
  },
  {
   "cell_type": "markdown",
   "metadata": {},
   "source": [
    "#### Двигатель"
   ]
  },
  {
   "cell_type": "code",
   "execution_count": 24,
   "metadata": {},
   "outputs": [
    {
     "data": {
      "text/plain": [
       "engine\n",
       "2         7015\n",
       "8         6101\n",
       "C         4806\n",
       "7         4564\n",
       "9         4512\n",
       "W         4128\n",
       "F         4067\n",
       "A         3358\n",
       "5         3099\n",
       "T         2959\n",
       "M         2772\n",
       "X         2563\n",
       "L         2258\n",
       "G         2064\n",
       "1         1941\n",
       "N         1914\n",
       "J         1849\n",
       "V         1844\n",
       "E         1701\n",
       "U         1588\n",
       "R         1523\n",
       "D          915\n",
       "K          849\n",
       "Z          804\n",
       "6          767\n",
       "P          731\n",
       "3          369\n",
       "4          309\n",
       "H          298\n",
       "S          178\n",
       "Y           29\n",
       "B            9\n",
       "Name: count, dtype: int64"
      ]
     },
     "execution_count": 24,
     "metadata": {},
     "output_type": "execute_result"
    }
   ],
   "source": [
    "df[['engine']].value_counts()"
   ]
  },
  {
   "cell_type": "code",
   "execution_count": 25,
   "metadata": {},
   "outputs": [
    {
     "data": {
      "image/png": "[encoded data removed]",
      "text/plain": [
       "<Figure size 1200x600 with 1 Axes>"
      ]
     },
     "metadata": {},
     "output_type": "display_data"
    }
   ],
   "source": [
    "plt.figure(figsize=(12, 6))\n",
    "sns.boxplot(x='engine', y='Price', data=df)\n",
    "plt.xlabel('Код двигателя')\n",
    "plt.ylabel('Цена')\n",
    "plt.title('Зависимость цены от кода двигателя (Box Plot)')\n",
    "plt.show()"
   ]
  },
  {
   "cell_type": "markdown",
   "metadata": {},
   "source": [
    "* **Распределение цен:** Цены на автомобили варьируются в зависимости от кода двигателя. Это может указывать на то, что разные коды соответствуют разным типам двигателей с разной стоимостью.\n",
    "* **Разброс цен:** Наблюдается значительный разброс цен внутри каждого кода двигателя. Это может быть связано с разными моделями, комплектациями и состоянием автомобилей.\n",
    "* **Выбросы:** Для некоторых кодов двигателя (например, 'B', 'S', 'V') наблюдаются выбросы, то есть автомобили с очень высокой ценой. Это может быть связано с редкими или особенными типами двигателей.\n",
    "* **Самые дорогие автомобилии** имеет двигатели `T`, `F`, `8`.\n"
   ]
  },
  {
   "cell_type": "markdown",
   "metadata": {},
   "source": [
    "#### Безопасность (Ремни/тормоза)"
   ]
  },
  {
   "cell_type": "code",
   "execution_count": 26,
   "metadata": {},
   "outputs": [
    {
     "data": {
      "text/plain": [
       "security_codes\n",
       "D    12370\n",
       "H    12012\n",
       "C     9034\n",
       "F     8376\n",
       "6     5890\n",
       "N     3652\n",
       "5     3078\n",
       "B     2704\n",
       "P     2289\n",
       "E     2038\n",
       "R     1876\n",
       "S     1781\n",
       "Z     1599\n",
       "Y     1439\n",
       "J      915\n",
       "7      634\n",
       "K      525\n",
       "G      497\n",
       "W      434\n",
       "8      209\n",
       "L      192\n",
       "M      189\n",
       "V       80\n",
       "X       67\n",
       "A        3\n",
       "4        1\n",
       "Name: count, dtype: int64"
      ]
     },
     "execution_count": 26,
     "metadata": {},
     "output_type": "execute_result"
    }
   ],
   "source": [
    "df['security_codes'].value_counts()"
   ]
  },
  {
   "cell_type": "code",
   "execution_count": 27,
   "metadata": {},
   "outputs": [
    {
     "data": {
      "image/png": "[encoded data removed]",
      "text/plain": [
       "<Figure size 800x550 with 1 Axes>"
      ]
     },
     "metadata": {},
     "output_type": "display_data"
    }
   ],
   "source": [
    "sns.boxplot(x='security_codes', y='Price', data=df)\n",
    "plt.xlabel('Безопасноть (4-й символ в VIN)')\n",
    "plt.ylabel('Цена')\n",
    "plt.title('Зависимость цены от производителя (Box Plot)')\n",
    "plt.xticks(rotation=30) \n",
    "plt.show()"
   ]
  },
  {
   "cell_type": "code",
   "execution_count": 28,
   "metadata": {},
   "outputs": [
    {
     "data": {
      "text/html": [
       "<div>\n",
       "<style scoped>\n",
       "    .dataframe tbody tr th:only-of-type {\n",
       "        vertical-align: middle;\n",
       "    }\n",
       "\n",
       "    .dataframe tbody tr th {\n",
       "        vertical-align: top;\n",
       "    }\n",
       "\n",
       "    .dataframe thead th {\n",
       "        text-align: right;\n",
       "    }\n",
       "</style>\n",
       "<table border=\"1\" class=\"dataframe\">\n",
       "  <thead>\n",
       "    <tr style=\"text-align: right;\">\n",
       "      <th></th>\n",
       "      <th>mean</th>\n",
       "      <th>median</th>\n",
       "      <th>std</th>\n",
       "      <th>count</th>\n",
       "    </tr>\n",
       "    <tr>\n",
       "      <th>security_codes</th>\n",
       "      <th></th>\n",
       "      <th></th>\n",
       "      <th></th>\n",
       "      <th></th>\n",
       "    </tr>\n",
       "  </thead>\n",
       "  <tbody>\n",
       "    <tr>\n",
       "      <th>D</th>\n",
       "      <td>13617.0</td>\n",
       "      <td>11800.0</td>\n",
       "      <td>5962.0</td>\n",
       "      <td>12370</td>\n",
       "    </tr>\n",
       "    <tr>\n",
       "      <th>H</th>\n",
       "      <td>11470.0</td>\n",
       "      <td>10500.0</td>\n",
       "      <td>5831.0</td>\n",
       "      <td>12012</td>\n",
       "    </tr>\n",
       "    <tr>\n",
       "      <th>C</th>\n",
       "      <td>14492.0</td>\n",
       "      <td>15200.0</td>\n",
       "      <td>5136.0</td>\n",
       "      <td>9034</td>\n",
       "    </tr>\n",
       "    <tr>\n",
       "      <th>F</th>\n",
       "      <td>17733.0</td>\n",
       "      <td>21100.0</td>\n",
       "      <td>10921.0</td>\n",
       "      <td>8376</td>\n",
       "    </tr>\n",
       "    <tr>\n",
       "      <th>6</th>\n",
       "      <td>15371.0</td>\n",
       "      <td>14900.0</td>\n",
       "      <td>3345.0</td>\n",
       "      <td>5890</td>\n",
       "    </tr>\n",
       "    <tr>\n",
       "      <th>N</th>\n",
       "      <td>15529.0</td>\n",
       "      <td>18200.0</td>\n",
       "      <td>6335.0</td>\n",
       "      <td>3652</td>\n",
       "    </tr>\n",
       "    <tr>\n",
       "      <th>5</th>\n",
       "      <td>25983.0</td>\n",
       "      <td>26300.0</td>\n",
       "      <td>4524.0</td>\n",
       "      <td>3078</td>\n",
       "    </tr>\n",
       "    <tr>\n",
       "      <th>B</th>\n",
       "      <td>16768.0</td>\n",
       "      <td>16200.0</td>\n",
       "      <td>5182.0</td>\n",
       "      <td>2704</td>\n",
       "    </tr>\n",
       "    <tr>\n",
       "      <th>P</th>\n",
       "      <td>9608.0</td>\n",
       "      <td>8500.0</td>\n",
       "      <td>5299.0</td>\n",
       "      <td>2289</td>\n",
       "    </tr>\n",
       "    <tr>\n",
       "      <th>E</th>\n",
       "      <td>12376.0</td>\n",
       "      <td>10650.0</td>\n",
       "      <td>7380.0</td>\n",
       "      <td>2038</td>\n",
       "    </tr>\n",
       "    <tr>\n",
       "      <th>R</th>\n",
       "      <td>5996.0</td>\n",
       "      <td>4800.0</td>\n",
       "      <td>4224.0</td>\n",
       "      <td>1876</td>\n",
       "    </tr>\n",
       "    <tr>\n",
       "      <th>S</th>\n",
       "      <td>14994.0</td>\n",
       "      <td>14900.0</td>\n",
       "      <td>7672.0</td>\n",
       "      <td>1781</td>\n",
       "    </tr>\n",
       "    <tr>\n",
       "      <th>Z</th>\n",
       "      <td>3469.0</td>\n",
       "      <td>2400.0</td>\n",
       "      <td>3508.0</td>\n",
       "      <td>1599</td>\n",
       "    </tr>\n",
       "    <tr>\n",
       "      <th>Y</th>\n",
       "      <td>3940.0</td>\n",
       "      <td>3200.0</td>\n",
       "      <td>3014.0</td>\n",
       "      <td>1439</td>\n",
       "    </tr>\n",
       "    <tr>\n",
       "      <th>J</th>\n",
       "      <td>27669.0</td>\n",
       "      <td>30000.0</td>\n",
       "      <td>6551.0</td>\n",
       "      <td>915</td>\n",
       "    </tr>\n",
       "    <tr>\n",
       "      <th>7</th>\n",
       "      <td>24083.0</td>\n",
       "      <td>24950.0</td>\n",
       "      <td>8074.0</td>\n",
       "      <td>634</td>\n",
       "    </tr>\n",
       "    <tr>\n",
       "      <th>K</th>\n",
       "      <td>9454.0</td>\n",
       "      <td>9500.0</td>\n",
       "      <td>3302.0</td>\n",
       "      <td>525</td>\n",
       "    </tr>\n",
       "    <tr>\n",
       "      <th>G</th>\n",
       "      <td>19075.0</td>\n",
       "      <td>19700.0</td>\n",
       "      <td>5187.0</td>\n",
       "      <td>497</td>\n",
       "    </tr>\n",
       "    <tr>\n",
       "      <th>W</th>\n",
       "      <td>16061.0</td>\n",
       "      <td>15350.0</td>\n",
       "      <td>7082.0</td>\n",
       "      <td>434</td>\n",
       "    </tr>\n",
       "    <tr>\n",
       "      <th>8</th>\n",
       "      <td>27281.0</td>\n",
       "      <td>27700.0</td>\n",
       "      <td>6873.0</td>\n",
       "      <td>209</td>\n",
       "    </tr>\n",
       "    <tr>\n",
       "      <th>L</th>\n",
       "      <td>12209.0</td>\n",
       "      <td>14600.0</td>\n",
       "      <td>6035.0</td>\n",
       "      <td>192</td>\n",
       "    </tr>\n",
       "    <tr>\n",
       "      <th>M</th>\n",
       "      <td>13698.0</td>\n",
       "      <td>13200.0</td>\n",
       "      <td>5928.0</td>\n",
       "      <td>189</td>\n",
       "    </tr>\n",
       "    <tr>\n",
       "      <th>V</th>\n",
       "      <td>10184.0</td>\n",
       "      <td>8600.0</td>\n",
       "      <td>6333.0</td>\n",
       "      <td>80</td>\n",
       "    </tr>\n",
       "    <tr>\n",
       "      <th>X</th>\n",
       "      <td>19472.0</td>\n",
       "      <td>24200.0</td>\n",
       "      <td>10421.0</td>\n",
       "      <td>67</td>\n",
       "    </tr>\n",
       "    <tr>\n",
       "      <th>A</th>\n",
       "      <td>31233.0</td>\n",
       "      <td>33000.0</td>\n",
       "      <td>3502.0</td>\n",
       "      <td>3</td>\n",
       "    </tr>\n",
       "    <tr>\n",
       "      <th>4</th>\n",
       "      <td>10900.0</td>\n",
       "      <td>10900.0</td>\n",
       "      <td>NaN</td>\n",
       "      <td>1</td>\n",
       "    </tr>\n",
       "  </tbody>\n",
       "</table>\n",
       "</div>"
      ],
      "text/plain": [
       "                   mean   median      std  count\n",
       "security_codes                                  \n",
       "D               13617.0  11800.0   5962.0  12370\n",
       "H               11470.0  10500.0   5831.0  12012\n",
       "C               14492.0  15200.0   5136.0   9034\n",
       "F               17733.0  21100.0  10921.0   8376\n",
       "6               15371.0  14900.0   3345.0   5890\n",
       "N               15529.0  18200.0   6335.0   3652\n",
       "5               25983.0  26300.0   4524.0   3078\n",
       "B               16768.0  16200.0   5182.0   2704\n",
       "P                9608.0   8500.0   5299.0   2289\n",
       "E               12376.0  10650.0   7380.0   2038\n",
       "R                5996.0   4800.0   4224.0   1876\n",
       "S               14994.0  14900.0   7672.0   1781\n",
       "Z                3469.0   2400.0   3508.0   1599\n",
       "Y                3940.0   3200.0   3014.0   1439\n",
       "J               27669.0  30000.0   6551.0    915\n",
       "7               24083.0  24950.0   8074.0    634\n",
       "K                9454.0   9500.0   3302.0    525\n",
       "G               19075.0  19700.0   5187.0    497\n",
       "W               16061.0  15350.0   7082.0    434\n",
       "8               27281.0  27700.0   6873.0    209\n",
       "L               12209.0  14600.0   6035.0    192\n",
       "M               13698.0  13200.0   5928.0    189\n",
       "V               10184.0   8600.0   6333.0     80\n",
       "X               19472.0  24200.0  10421.0     67\n",
       "A               31233.0  33000.0   3502.0      3\n",
       "4               10900.0  10900.0      NaN      1"
      ]
     },
     "execution_count": 28,
     "metadata": {},
     "output_type": "execute_result"
    }
   ],
   "source": [
    "security_codes_groups = (round(df.groupby('security_codes')['Price'].agg(['mean', 'median', 'std', 'count']))\n",
    "                .sort_values(by='count', ascending=False))\n",
    "security_codes_groups"
   ]
  },
  {
   "cell_type": "code",
   "execution_count": 29,
   "metadata": {},
   "outputs": [
    {
     "data": {
      "image/png": "[encoded data removed]",
      "text/plain": [
       "<Figure size 1200x600 with 2 Axes>"
      ]
     },
     "metadata": {},
     "output_type": "display_data"
    }
   ],
   "source": [
    "plt.figure(figsize=(12, 6))\n",
    "\n",
    "plt.subplot(1, 2, 1)\n",
    "security_codes_groups['mean'].plot(kind='bar',colormap='summer',rot=0)\n",
    "plt.xlabel('Код безопасности')\n",
    "plt.ylabel('Средняя цена')\n",
    "plt.title('Средняя цена')\n",
    "\n",
    "plt.subplot(1, 2, 2)\n",
    "security_codes_groups['median'].plot(kind='bar',rot=0)\n",
    "plt.xlabel('Код безопасности')\n",
    "plt.ylabel('Медианная цена')\n",
    "plt.title('Медианная цена')\n",
    "\n",
    "plt.tight_layout() \n",
    "plt.show()"
   ]
  },
  {
   "cell_type": "markdown",
   "metadata": {},
   "source": [
    "* **Распределение цен:** Цены на автомобили варьируются в зависимости от кода безопасности.\n",
    "* **Разброс цен:** Наблюдается значительный разброс цен внутри некоторых кодов.\n",
    "* **Выбросы:** Для некоторых кодов безопасности наблюдаются выбросы, то есть автомобили с очень высокой ценой. Это может быть связано с редкими или особенными типами двигателей.\n",
    "* **Самые дорогие автомобилии** среди топ-10 по количеству имеют код безопасности `5`, `J`, `8` \n"
   ]
  },
  {
   "cell_type": "markdown",
   "metadata": {},
   "source": [
    "#### Контрольный знак"
   ]
  },
  {
   "cell_type": "code",
   "execution_count": 30,
   "metadata": {},
   "outputs": [
    {
     "data": {
      "text/plain": [
       "check_digit\n",
       "1              6622\n",
       "5              6581\n",
       "2              6579\n",
       "9              6567\n",
       "0              6565\n",
       "7              6547\n",
       "X              6542\n",
       "4              6503\n",
       "6              6465\n",
       "8              6460\n",
       "3              6453\n",
       "Name: count, dtype: int64"
      ]
     },
     "execution_count": 30,
     "metadata": {},
     "output_type": "execute_result"
    }
   ],
   "source": [
    "df[['check_digit']].value_counts()"
   ]
  },
  {
   "cell_type": "code",
   "execution_count": 31,
   "metadata": {},
   "outputs": [
    {
     "data": {
      "image/png": "[encoded data removed]",
      "text/plain": [
       "<Figure size 800x550 with 1 Axes>"
      ]
     },
     "metadata": {},
     "output_type": "display_data"
    }
   ],
   "source": [
    "sns.boxplot(x='check_digit', y='Price', data=df)\n",
    "plt.xlabel('Контрольный знак')\n",
    "plt.ylabel('Цена')\n",
    "plt.title('Зависимость цены от Контрольный знака (Box Plot)')\n",
    "plt.xticks(rotation=0) \n",
    "plt.show()"
   ]
  },
  {
   "cell_type": "markdown",
   "metadata": {},
   "source": [
    "* **Распределение цен и автомобилей:** одинаково для всех контрольных знаков.\n",
    "* Этот признак не несёт ценности для обучения модели\n"
   ]
  },
  {
   "cell_type": "markdown",
   "metadata": {},
   "source": [
    "#### Завод"
   ]
  },
  {
   "cell_type": "code",
   "execution_count": 32,
   "metadata": {},
   "outputs": [
    {
     "data": {
      "text/plain": [
       "plant_code\n",
       "R             10535\n",
       "K              9112\n",
       "L              8225\n",
       "G              7265\n",
       "U              6732\n",
       "F              6481\n",
       "B              5841\n",
       "5              3692\n",
       "E              3587\n",
       "D              3104\n",
       "M              1884\n",
       "W              1467\n",
       "P              1398\n",
       "N               801\n",
       "A               453\n",
       "Z               436\n",
       "H               362\n",
       "X               199\n",
       "C               133\n",
       "T                97\n",
       "Y                80\n",
       "Name: count, dtype: int64"
      ]
     },
     "execution_count": 32,
     "metadata": {},
     "output_type": "execute_result"
    }
   ],
   "source": [
    "df[['plant_code']].value_counts()"
   ]
  },
  {
   "cell_type": "code",
   "execution_count": 33,
   "metadata": {},
   "outputs": [
    {
     "data": {
      "image/png": "[encoded data removed]",
      "text/plain": [
       "<Figure size 800x550 with 1 Axes>"
      ]
     },
     "metadata": {},
     "output_type": "display_data"
    }
   ],
   "source": [
    "sns.boxplot(x='plant_code', y='Price', data=df)\n",
    "plt.xlabel('Завод')\n",
    "plt.ylabel('Цена')\n",
    "plt.title('Зависимость цены от Завода (Box Plot)')\n",
    "plt.xticks(rotation=0) \n",
    "plt.show()"
   ]
  },
  {
   "cell_type": "markdown",
   "metadata": {},
   "source": [
    "* **Влияние завода на цену:** Цены на автомобили демонстрируют заметную зависимость от завода-изготовителя.\n",
    "* **Разброс цен:** Наблюдается значительная вариация цен внутри продукции некоторых заводов (особенно завода E), что может указывать на разнообразие моделей или комплектаций.\n",
    "* **Объемы производства:** Наибольшее количество автомобилей производится на заводах R, K и L.\n",
    "* **Ценовой сегмент:**\n",
    "* **Премиум сегмент:** Самые дорогие автомобили (с точки зрения медианной цены) производятся на заводах F, G и B.\n",
    "* **Бюджетный сегмент:** Самые доступные автомобили производятся на заводах с наименьшим объемом выпуска, что может свидетельствовать о специализации на нишевых моделях или о меньшей эффективности производства."
   ]
  },
  {
   "cell_type": "markdown",
   "metadata": {},
   "source": [
    "### Серийный номер"
   ]
  },
  {
   "cell_type": "code",
   "execution_count": 34,
   "metadata": {},
   "outputs": [
    {
     "name": "stdout",
     "output_type": "stream",
     "text": [
      "Количество дубликатов серийного номера\n"
     ]
    },
    {
     "data": {
      "text/plain": [
       "7206"
      ]
     },
     "execution_count": 34,
     "metadata": {},
     "output_type": "execute_result"
    }
   ],
   "source": [
    "print('Количество дубликатов серийного номера')\n",
    "df.duplicated('serial_number',False).sum()"
   ]
  },
  {
   "cell_type": "code",
   "execution_count": 35,
   "metadata": {},
   "outputs": [
    {
     "data": {
      "text/html": [
       "<div>\n",
       "<style scoped>\n",
       "    .dataframe tbody tr th:only-of-type {\n",
       "        vertical-align: middle;\n",
       "    }\n",
       "\n",
       "    .dataframe tbody tr th {\n",
       "        vertical-align: top;\n",
       "    }\n",
       "\n",
       "    .dataframe thead th {\n",
       "        text-align: right;\n",
       "    }\n",
       "</style>\n",
       "<table border=\"1\" class=\"dataframe\">\n",
       "  <thead>\n",
       "    <tr style=\"text-align: right;\">\n",
       "      <th></th>\n",
       "      <th>VIN</th>\n",
       "      <th>Price</th>\n",
       "      <th>manufacturer</th>\n",
       "      <th>security_codes</th>\n",
       "      <th>model</th>\n",
       "      <th>engine</th>\n",
       "      <th>check_digit</th>\n",
       "      <th>model_year</th>\n",
       "      <th>plant_code</th>\n",
       "      <th>serial_number</th>\n",
       "    </tr>\n",
       "  </thead>\n",
       "  <tbody>\n",
       "    <tr>\n",
       "      <th>23165</th>\n",
       "      <td>2FAHP71W76X100736</td>\n",
       "      <td>2000</td>\n",
       "      <td>2FA</td>\n",
       "      <td>H</td>\n",
       "      <td>P71</td>\n",
       "      <td>W</td>\n",
       "      <td>7</td>\n",
       "      <td>6</td>\n",
       "      <td>X</td>\n",
       "      <td>100736</td>\n",
       "    </tr>\n",
       "    <tr>\n",
       "      <th>21965</th>\n",
       "      <td>1FAHP60A42Y100736</td>\n",
       "      <td>13200</td>\n",
       "      <td>1FA</td>\n",
       "      <td>H</td>\n",
       "      <td>P60</td>\n",
       "      <td>A</td>\n",
       "      <td>4</td>\n",
       "      <td>2</td>\n",
       "      <td>Y</td>\n",
       "      <td>100736</td>\n",
       "    </tr>\n",
       "    <tr>\n",
       "      <th>17161</th>\n",
       "      <td>3FA6P0D91FR100993</td>\n",
       "      <td>25800</td>\n",
       "      <td>3FA</td>\n",
       "      <td>6</td>\n",
       "      <td>P0D</td>\n",
       "      <td>9</td>\n",
       "      <td>1</td>\n",
       "      <td>F</td>\n",
       "      <td>R</td>\n",
       "      <td>100993</td>\n",
       "    </tr>\n",
       "    <tr>\n",
       "      <th>10904</th>\n",
       "      <td>1FAHP2F81FG100993</td>\n",
       "      <td>19500</td>\n",
       "      <td>1FA</td>\n",
       "      <td>H</td>\n",
       "      <td>P2F</td>\n",
       "      <td>8</td>\n",
       "      <td>1</td>\n",
       "      <td>F</td>\n",
       "      <td>G</td>\n",
       "      <td>100993</td>\n",
       "    </tr>\n",
       "    <tr>\n",
       "      <th>9280</th>\n",
       "      <td>1FAFP34N76W100993</td>\n",
       "      <td>1000</td>\n",
       "      <td>1FA</td>\n",
       "      <td>F</td>\n",
       "      <td>P34</td>\n",
       "      <td>N</td>\n",
       "      <td>7</td>\n",
       "      <td>6</td>\n",
       "      <td>W</td>\n",
       "      <td>100993</td>\n",
       "    </tr>\n",
       "    <tr>\n",
       "      <th>29904</th>\n",
       "      <td>1ZVBP8AM6B5101356</td>\n",
       "      <td>13700</td>\n",
       "      <td>1ZV</td>\n",
       "      <td>B</td>\n",
       "      <td>P8A</td>\n",
       "      <td>M</td>\n",
       "      <td>6</td>\n",
       "      <td>B</td>\n",
       "      <td>5</td>\n",
       "      <td>101356</td>\n",
       "    </tr>\n",
       "    <tr>\n",
       "      <th>69273</th>\n",
       "      <td>1FAHP2F80EG101356</td>\n",
       "      <td>15800</td>\n",
       "      <td>1FA</td>\n",
       "      <td>H</td>\n",
       "      <td>P2F</td>\n",
       "      <td>8</td>\n",
       "      <td>0</td>\n",
       "      <td>E</td>\n",
       "      <td>G</td>\n",
       "      <td>101356</td>\n",
       "    </tr>\n",
       "    <tr>\n",
       "      <th>61928</th>\n",
       "      <td>1FAHP2F87EG101600</td>\n",
       "      <td>18300</td>\n",
       "      <td>1FA</td>\n",
       "      <td>H</td>\n",
       "      <td>P2F</td>\n",
       "      <td>8</td>\n",
       "      <td>7</td>\n",
       "      <td>E</td>\n",
       "      <td>G</td>\n",
       "      <td>101600</td>\n",
       "    </tr>\n",
       "    <tr>\n",
       "      <th>27464</th>\n",
       "      <td>1ZVBP8EMXB5101600</td>\n",
       "      <td>10000</td>\n",
       "      <td>1ZV</td>\n",
       "      <td>B</td>\n",
       "      <td>P8E</td>\n",
       "      <td>M</td>\n",
       "      <td>X</td>\n",
       "      <td>B</td>\n",
       "      <td>5</td>\n",
       "      <td>101600</td>\n",
       "    </tr>\n",
       "    <tr>\n",
       "      <th>35908</th>\n",
       "      <td>3FADP4BJXFM101729</td>\n",
       "      <td>11000</td>\n",
       "      <td>3FA</td>\n",
       "      <td>D</td>\n",
       "      <td>P4B</td>\n",
       "      <td>J</td>\n",
       "      <td>X</td>\n",
       "      <td>F</td>\n",
       "      <td>M</td>\n",
       "      <td>101729</td>\n",
       "    </tr>\n",
       "    <tr>\n",
       "      <th>16884</th>\n",
       "      <td>2FAFP73W05X101729</td>\n",
       "      <td>1500</td>\n",
       "      <td>2FA</td>\n",
       "      <td>F</td>\n",
       "      <td>P73</td>\n",
       "      <td>W</td>\n",
       "      <td>0</td>\n",
       "      <td>5</td>\n",
       "      <td>X</td>\n",
       "      <td>101729</td>\n",
       "    </tr>\n",
       "    <tr>\n",
       "      <th>7722</th>\n",
       "      <td>1FAHP3GN7BW101771</td>\n",
       "      <td>4600</td>\n",
       "      <td>1FA</td>\n",
       "      <td>H</td>\n",
       "      <td>P3G</td>\n",
       "      <td>N</td>\n",
       "      <td>7</td>\n",
       "      <td>B</td>\n",
       "      <td>W</td>\n",
       "      <td>101771</td>\n",
       "    </tr>\n",
       "    <tr>\n",
       "      <th>5672</th>\n",
       "      <td>3FADP4BJ4CM101771</td>\n",
       "      <td>9100</td>\n",
       "      <td>3FA</td>\n",
       "      <td>D</td>\n",
       "      <td>P4B</td>\n",
       "      <td>J</td>\n",
       "      <td>4</td>\n",
       "      <td>C</td>\n",
       "      <td>M</td>\n",
       "      <td>101771</td>\n",
       "    </tr>\n",
       "    <tr>\n",
       "      <th>37566</th>\n",
       "      <td>1FAHP3F21CL101792</td>\n",
       "      <td>5300</td>\n",
       "      <td>1FA</td>\n",
       "      <td>H</td>\n",
       "      <td>P3F</td>\n",
       "      <td>2</td>\n",
       "      <td>1</td>\n",
       "      <td>C</td>\n",
       "      <td>L</td>\n",
       "      <td>101792</td>\n",
       "    </tr>\n",
       "    <tr>\n",
       "      <th>26764</th>\n",
       "      <td>1FAHP2J81DG101792</td>\n",
       "      <td>17300</td>\n",
       "      <td>1FA</td>\n",
       "      <td>H</td>\n",
       "      <td>P2J</td>\n",
       "      <td>8</td>\n",
       "      <td>1</td>\n",
       "      <td>D</td>\n",
       "      <td>G</td>\n",
       "      <td>101792</td>\n",
       "    </tr>\n",
       "    <tr>\n",
       "      <th>52357</th>\n",
       "      <td>1FAHP3FN9BW101854</td>\n",
       "      <td>7000</td>\n",
       "      <td>1FA</td>\n",
       "      <td>H</td>\n",
       "      <td>P3F</td>\n",
       "      <td>N</td>\n",
       "      <td>9</td>\n",
       "      <td>B</td>\n",
       "      <td>W</td>\n",
       "      <td>101854</td>\n",
       "    </tr>\n",
       "    <tr>\n",
       "      <th>57465</th>\n",
       "      <td>3FADP4BJ2FM101854</td>\n",
       "      <td>11000</td>\n",
       "      <td>3FA</td>\n",
       "      <td>D</td>\n",
       "      <td>P4B</td>\n",
       "      <td>J</td>\n",
       "      <td>2</td>\n",
       "      <td>F</td>\n",
       "      <td>M</td>\n",
       "      <td>101854</td>\n",
       "    </tr>\n",
       "    <tr>\n",
       "      <th>18581</th>\n",
       "      <td>1FAHP27125G101862</td>\n",
       "      <td>3100</td>\n",
       "      <td>1FA</td>\n",
       "      <td>H</td>\n",
       "      <td>P27</td>\n",
       "      <td>1</td>\n",
       "      <td>2</td>\n",
       "      <td>5</td>\n",
       "      <td>G</td>\n",
       "      <td>101862</td>\n",
       "    </tr>\n",
       "    <tr>\n",
       "      <th>4255</th>\n",
       "      <td>1FAFP24147G101862</td>\n",
       "      <td>3500</td>\n",
       "      <td>1FA</td>\n",
       "      <td>F</td>\n",
       "      <td>P24</td>\n",
       "      <td>1</td>\n",
       "      <td>4</td>\n",
       "      <td>7</td>\n",
       "      <td>G</td>\n",
       "      <td>101862</td>\n",
       "    </tr>\n",
       "    <tr>\n",
       "      <th>53256</th>\n",
       "      <td>1FAHP2D8XDG102001</td>\n",
       "      <td>12100</td>\n",
       "      <td>1FA</td>\n",
       "      <td>H</td>\n",
       "      <td>P2D</td>\n",
       "      <td>8</td>\n",
       "      <td>X</td>\n",
       "      <td>D</td>\n",
       "      <td>G</td>\n",
       "      <td>102001</td>\n",
       "    </tr>\n",
       "  </tbody>\n",
       "</table>\n",
       "</div>"
      ],
      "text/plain": [
       "                     VIN  Price manufacturer security_codes model engine  \\\n",
       "23165  2FAHP71W76X100736   2000          2FA              H   P71      W   \n",
       "21965  1FAHP60A42Y100736  13200          1FA              H   P60      A   \n",
       "17161  3FA6P0D91FR100993  25800          3FA              6   P0D      9   \n",
       "10904  1FAHP2F81FG100993  19500          1FA              H   P2F      8   \n",
       "9280   1FAFP34N76W100993   1000          1FA              F   P34      N   \n",
       "29904  1ZVBP8AM6B5101356  13700          1ZV              B   P8A      M   \n",
       "69273  1FAHP2F80EG101356  15800          1FA              H   P2F      8   \n",
       "61928  1FAHP2F87EG101600  18300          1FA              H   P2F      8   \n",
       "27464  1ZVBP8EMXB5101600  10000          1ZV              B   P8E      M   \n",
       "35908  3FADP4BJXFM101729  11000          3FA              D   P4B      J   \n",
       "16884  2FAFP73W05X101729   1500          2FA              F   P73      W   \n",
       "7722   1FAHP3GN7BW101771   4600          1FA              H   P3G      N   \n",
       "5672   3FADP4BJ4CM101771   9100          3FA              D   P4B      J   \n",
       "37566  1FAHP3F21CL101792   5300          1FA              H   P3F      2   \n",
       "26764  1FAHP2J81DG101792  17300          1FA              H   P2J      8   \n",
       "52357  1FAHP3FN9BW101854   7000          1FA              H   P3F      N   \n",
       "57465  3FADP4BJ2FM101854  11000          3FA              D   P4B      J   \n",
       "18581  1FAHP27125G101862   3100          1FA              H   P27      1   \n",
       "4255   1FAFP24147G101862   3500          1FA              F   P24      1   \n",
       "53256  1FAHP2D8XDG102001  12100          1FA              H   P2D      8   \n",
       "\n",
       "      check_digit model_year plant_code serial_number  \n",
       "23165           7          6          X        100736  \n",
       "21965           4          2          Y        100736  \n",
       "17161           1          F          R        100993  \n",
       "10904           1          F          G        100993  \n",
       "9280            7          6          W        100993  \n",
       "29904           6          B          5        101356  \n",
       "69273           0          E          G        101356  \n",
       "61928           7          E          G        101600  \n",
       "27464           X          B          5        101600  \n",
       "35908           X          F          M        101729  \n",
       "16884           0          5          X        101729  \n",
       "7722            7          B          W        101771  \n",
       "5672            4          C          M        101771  \n",
       "37566           1          C          L        101792  \n",
       "26764           1          D          G        101792  \n",
       "52357           9          B          W        101854  \n",
       "57465           2          F          M        101854  \n",
       "18581           2          5          G        101862  \n",
       "4255            4          7          G        101862  \n",
       "53256           X          D          G        102001  "
      ]
     },
     "execution_count": 35,
     "metadata": {},
     "output_type": "execute_result"
    }
   ],
   "source": [
    "df[df.duplicated('serial_number',False)].sort_values('serial_number').head(20)"
   ]
  },
  {
   "cell_type": "markdown",
   "metadata": {},
   "source": [
    "* **Дубликаты в серийном номере:** достаточно большое количество (около 10%), но никаких закономерностей с другими признаками не обнаружено.\n",
    "* **Для обучения модели** признак не несёт пользы на данном этапе."
   ]
  },
  {
   "cell_type": "code",
   "execution_count": 36,
   "metadata": {},
   "outputs": [
    {
     "name": "stdout",
     "output_type": "stream",
     "text": [
      "<class 'pandas.core.frame.DataFrame'>\n",
      "RangeIndex: 71884 entries, 0 to 71883\n",
      "Data columns (total 10 columns):\n",
      " #   Column          Non-Null Count  Dtype \n",
      "---  ------          --------------  ----- \n",
      " 0   VIN             71884 non-null  object\n",
      " 1   Price           71884 non-null  uint32\n",
      " 2   manufacturer    71884 non-null  object\n",
      " 3   security_codes  71884 non-null  object\n",
      " 4   model           71884 non-null  object\n",
      " 5   engine          71884 non-null  object\n",
      " 6   check_digit     71884 non-null  object\n",
      " 7   model_year      71884 non-null  object\n",
      " 8   plant_code      71884 non-null  object\n",
      " 9   serial_number   71884 non-null  object\n",
      "dtypes: object(9), uint32(1)\n",
      "memory usage: 5.2+ MB\n"
     ]
    }
   ],
   "source": [
    "df.info()"
   ]
  },
  {
   "cell_type": "code",
   "execution_count": 37,
   "metadata": {},
   "outputs": [],
   "source": [
    "df.to_csv('prepared_df.csv', index=False)"
   ]
  },
  {
   "cell_type": "markdown",
   "metadata": {},
   "source": [
    "## Обучение и выбор модели"
   ]
  },
  {
   "cell_type": "code",
   "execution_count": 38,
   "metadata": {},
   "outputs": [],
   "source": [
    "df = df.set_index('VIN')"
   ]
  },
  {
   "cell_type": "code",
   "execution_count": 39,
   "metadata": {},
   "outputs": [],
   "source": [
    "X = df[[ 'manufacturer', 'security_codes', 'model', 'engine', 'model_year', 'plant_code']]\n",
    "y = df[['Price']]\n",
    "\n",
    "X_train, X_test, y_train, y_test = train_test_split(X, y, test_size = 0.2, random_state=S)"
   ]
  },
  {
   "cell_type": "code",
   "execution_count": 40,
   "metadata": {},
   "outputs": [],
   "source": [
    "train = pd.concat([X_train,y_train],axis=1)"
   ]
  },
  {
   "cell_type": "code",
   "execution_count": 41,
   "metadata": {},
   "outputs": [
    {
     "data": {
      "text/html": [
       "<div>\n",
       "<style scoped>\n",
       "    .dataframe tbody tr th:only-of-type {\n",
       "        vertical-align: middle;\n",
       "    }\n",
       "\n",
       "    .dataframe tbody tr th {\n",
       "        vertical-align: top;\n",
       "    }\n",
       "\n",
       "    .dataframe thead th {\n",
       "        text-align: right;\n",
       "    }\n",
       "</style>\n",
       "<table border=\"1\" class=\"dataframe\">\n",
       "  <thead>\n",
       "    <tr style=\"text-align: right;\">\n",
       "      <th></th>\n",
       "      <th>manufacturer</th>\n",
       "      <th>security_codes</th>\n",
       "      <th>model</th>\n",
       "      <th>engine</th>\n",
       "      <th>model_year</th>\n",
       "      <th>plant_code</th>\n",
       "      <th>Price</th>\n",
       "    </tr>\n",
       "    <tr>\n",
       "      <th>VIN</th>\n",
       "      <th></th>\n",
       "      <th></th>\n",
       "      <th></th>\n",
       "      <th></th>\n",
       "      <th></th>\n",
       "      <th></th>\n",
       "      <th></th>\n",
       "    </tr>\n",
       "  </thead>\n",
       "  <tbody>\n",
       "    <tr>\n",
       "      <th>3FADP4TJ7EM244361</th>\n",
       "      <td>3FA</td>\n",
       "      <td>D</td>\n",
       "      <td>P4T</td>\n",
       "      <td>J</td>\n",
       "      <td>E</td>\n",
       "      <td>M</td>\n",
       "      <td>3100</td>\n",
       "    </tr>\n",
       "    <tr>\n",
       "      <th>3FAHP07Z78R259962</th>\n",
       "      <td>3FA</td>\n",
       "      <td>H</td>\n",
       "      <td>P07</td>\n",
       "      <td>Z</td>\n",
       "      <td>8</td>\n",
       "      <td>R</td>\n",
       "      <td>3000</td>\n",
       "    </tr>\n",
       "    <tr>\n",
       "      <th>3FADP4EJ6EM107456</th>\n",
       "      <td>3FA</td>\n",
       "      <td>D</td>\n",
       "      <td>P4E</td>\n",
       "      <td>J</td>\n",
       "      <td>E</td>\n",
       "      <td>M</td>\n",
       "      <td>9500</td>\n",
       "    </tr>\n",
       "    <tr>\n",
       "      <th>1FTYR10D79PA51467</th>\n",
       "      <td>1FT</td>\n",
       "      <td>Y</td>\n",
       "      <td>R10</td>\n",
       "      <td>D</td>\n",
       "      <td>9</td>\n",
       "      <td>P</td>\n",
       "      <td>2100</td>\n",
       "    </tr>\n",
       "    <tr>\n",
       "      <th>1FAHP3F25CL387498</th>\n",
       "      <td>1FA</td>\n",
       "      <td>H</td>\n",
       "      <td>P3F</td>\n",
       "      <td>2</td>\n",
       "      <td>C</td>\n",
       "      <td>L</td>\n",
       "      <td>9100</td>\n",
       "    </tr>\n",
       "  </tbody>\n",
       "</table>\n",
       "</div>"
      ],
      "text/plain": [
       "                  manufacturer security_codes model engine model_year  \\\n",
       "VIN                                                                     \n",
       "3FADP4TJ7EM244361          3FA              D   P4T      J          E   \n",
       "3FAHP07Z78R259962          3FA              H   P07      Z          8   \n",
       "3FADP4EJ6EM107456          3FA              D   P4E      J          E   \n",
       "1FTYR10D79PA51467          1FT              Y   R10      D          9   \n",
       "1FAHP3F25CL387498          1FA              H   P3F      2          C   \n",
       "\n",
       "                  plant_code  Price  \n",
       "VIN                                  \n",
       "3FADP4TJ7EM244361          M   3100  \n",
       "3FAHP07Z78R259962          R   3000  \n",
       "3FADP4EJ6EM107456          M   9500  \n",
       "1FTYR10D79PA51467          P   2100  \n",
       "1FAHP3F25CL387498          L   9100  "
      ]
     },
     "execution_count": 41,
     "metadata": {},
     "output_type": "execute_result"
    }
   ],
   "source": [
    "train.sample(5)"
   ]
  },
  {
   "cell_type": "code",
   "execution_count": 42,
   "metadata": {},
   "outputs": [
    {
     "data": {
      "text/html": [
       "<div>\n",
       "<style scoped>\n",
       "    .dataframe tbody tr th:only-of-type {\n",
       "        vertical-align: middle;\n",
       "    }\n",
       "\n",
       "    .dataframe tbody tr th {\n",
       "        vertical-align: top;\n",
       "    }\n",
       "\n",
       "    .dataframe thead th {\n",
       "        text-align: right;\n",
       "    }\n",
       "</style>\n",
       "<table border=\"1\" class=\"dataframe\">\n",
       "  <thead>\n",
       "    <tr style=\"text-align: right;\">\n",
       "      <th></th>\n",
       "      <th>manufacturer</th>\n",
       "      <th>security_codes</th>\n",
       "      <th>model</th>\n",
       "      <th>engine</th>\n",
       "      <th>model_year</th>\n",
       "      <th>plant_code</th>\n",
       "    </tr>\n",
       "    <tr>\n",
       "      <th>VIN</th>\n",
       "      <th></th>\n",
       "      <th></th>\n",
       "      <th></th>\n",
       "      <th></th>\n",
       "      <th></th>\n",
       "      <th></th>\n",
       "    </tr>\n",
       "  </thead>\n",
       "  <tbody>\n",
       "    <tr>\n",
       "      <th>1ZVBP8AM6C5279138</th>\n",
       "      <td>1ZV</td>\n",
       "      <td>B</td>\n",
       "      <td>P8A</td>\n",
       "      <td>M</td>\n",
       "      <td>C</td>\n",
       "      <td>5</td>\n",
       "    </tr>\n",
       "    <tr>\n",
       "      <th>1FTFW1EF6CKD36871</th>\n",
       "      <td>1FT</td>\n",
       "      <td>F</td>\n",
       "      <td>W1E</td>\n",
       "      <td>F</td>\n",
       "      <td>C</td>\n",
       "      <td>K</td>\n",
       "    </tr>\n",
       "    <tr>\n",
       "      <th>1ZVBP8AM4C5268039</th>\n",
       "      <td>1ZV</td>\n",
       "      <td>B</td>\n",
       "      <td>P8A</td>\n",
       "      <td>M</td>\n",
       "      <td>C</td>\n",
       "      <td>5</td>\n",
       "    </tr>\n",
       "  </tbody>\n",
       "</table>\n",
       "</div>"
      ],
      "text/plain": [
       "                  manufacturer security_codes model engine model_year  \\\n",
       "VIN                                                                     \n",
       "1ZVBP8AM6C5279138          1ZV              B   P8A      M          C   \n",
       "1FTFW1EF6CKD36871          1FT              F   W1E      F          C   \n",
       "1ZVBP8AM4C5268039          1ZV              B   P8A      M          C   \n",
       "\n",
       "                  plant_code  \n",
       "VIN                           \n",
       "1ZVBP8AM6C5279138          5  \n",
       "1FTFW1EF6CKD36871          K  \n",
       "1ZVBP8AM4C5268039          5  "
      ]
     },
     "execution_count": 42,
     "metadata": {},
     "output_type": "execute_result"
    }
   ],
   "source": [
    "X_test.head(3)"
   ]
  },
  {
   "cell_type": "code",
   "execution_count": 43,
   "metadata": {},
   "outputs": [
    {
     "data": {
      "text/html": [
       "<div>\n",
       "<style scoped>\n",
       "    .dataframe tbody tr th:only-of-type {\n",
       "        vertical-align: middle;\n",
       "    }\n",
       "\n",
       "    .dataframe tbody tr th {\n",
       "        vertical-align: top;\n",
       "    }\n",
       "\n",
       "    .dataframe thead th {\n",
       "        text-align: right;\n",
       "    }\n",
       "</style>\n",
       "<table border=\"1\" class=\"dataframe\">\n",
       "  <thead>\n",
       "    <tr style=\"text-align: right;\">\n",
       "      <th></th>\n",
       "      <th>Price</th>\n",
       "    </tr>\n",
       "    <tr>\n",
       "      <th>VIN</th>\n",
       "      <th></th>\n",
       "    </tr>\n",
       "  </thead>\n",
       "  <tbody>\n",
       "    <tr>\n",
       "      <th>1ZVBP8AM6C5279138</th>\n",
       "      <td>14000</td>\n",
       "    </tr>\n",
       "    <tr>\n",
       "      <th>1FTFW1EF6CKD36871</th>\n",
       "      <td>20000</td>\n",
       "    </tr>\n",
       "    <tr>\n",
       "      <th>1ZVBP8AM4C5268039</th>\n",
       "      <td>8700</td>\n",
       "    </tr>\n",
       "  </tbody>\n",
       "</table>\n",
       "</div>"
      ],
      "text/plain": [
       "                   Price\n",
       "VIN                     \n",
       "1ZVBP8AM6C5279138  14000\n",
       "1FTFW1EF6CKD36871  20000\n",
       "1ZVBP8AM4C5268039   8700"
      ]
     },
     "execution_count": 43,
     "metadata": {},
     "output_type": "execute_result"
    }
   ],
   "source": [
    "\n",
    "y_test.head(3)"
   ]
  },
  {
   "cell_type": "markdown",
   "metadata": {},
   "source": [
    "### OHE"
   ]
  },
  {
   "cell_type": "code",
   "execution_count": 246,
   "metadata": {},
   "outputs": [
    {
     "data": {
      "text/html": [
       "<style type=\"text/css\">\n",
       "#T_48112_row8_col1 {\n",
       "  background-color: lightgreen;\n",
       "}\n",
       "</style>\n",
       "<table id=\"T_48112\">\n",
       "  <thead>\n",
       "    <tr>\n",
       "      <th class=\"blank level0\" >&nbsp;</th>\n",
       "      <th id=\"T_48112_level0_col0\" class=\"col_heading level0 col0\" >Description</th>\n",
       "      <th id=\"T_48112_level0_col1\" class=\"col_heading level0 col1\" >Value</th>\n",
       "    </tr>\n",
       "  </thead>\n",
       "  <tbody>\n",
       "    <tr>\n",
       "      <th id=\"T_48112_level0_row0\" class=\"row_heading level0 row0\" >0</th>\n",
       "      <td id=\"T_48112_row0_col0\" class=\"data row0 col0\" >Session id</td>\n",
       "      <td id=\"T_48112_row0_col1\" class=\"data row0 col1\" >100500</td>\n",
       "    </tr>\n",
       "    <tr>\n",
       "      <th id=\"T_48112_level0_row1\" class=\"row_heading level0 row1\" >1</th>\n",
       "      <td id=\"T_48112_row1_col0\" class=\"data row1 col0\" >Target</td>\n",
       "      <td id=\"T_48112_row1_col1\" class=\"data row1 col1\" >Price</td>\n",
       "    </tr>\n",
       "    <tr>\n",
       "      <th id=\"T_48112_level0_row2\" class=\"row_heading level0 row2\" >2</th>\n",
       "      <td id=\"T_48112_row2_col0\" class=\"data row2 col0\" >Target type</td>\n",
       "      <td id=\"T_48112_row2_col1\" class=\"data row2 col1\" >Regression</td>\n",
       "    </tr>\n",
       "    <tr>\n",
       "      <th id=\"T_48112_level0_row3\" class=\"row_heading level0 row3\" >3</th>\n",
       "      <td id=\"T_48112_row3_col0\" class=\"data row3 col0\" >Original data shape</td>\n",
       "      <td id=\"T_48112_row3_col1\" class=\"data row3 col1\" >(57507, 7)</td>\n",
       "    </tr>\n",
       "    <tr>\n",
       "      <th id=\"T_48112_level0_row4\" class=\"row_heading level0 row4\" >4</th>\n",
       "      <td id=\"T_48112_row4_col0\" class=\"data row4 col0\" >Transformed data shape</td>\n",
       "      <td id=\"T_48112_row4_col1\" class=\"data row4 col1\" >(57507, 410)</td>\n",
       "    </tr>\n",
       "    <tr>\n",
       "      <th id=\"T_48112_level0_row5\" class=\"row_heading level0 row5\" >5</th>\n",
       "      <td id=\"T_48112_row5_col0\" class=\"data row5 col0\" >Transformed train set shape</td>\n",
       "      <td id=\"T_48112_row5_col1\" class=\"data row5 col1\" >(46005, 410)</td>\n",
       "    </tr>\n",
       "    <tr>\n",
       "      <th id=\"T_48112_level0_row6\" class=\"row_heading level0 row6\" >6</th>\n",
       "      <td id=\"T_48112_row6_col0\" class=\"data row6 col0\" >Transformed test set shape</td>\n",
       "      <td id=\"T_48112_row6_col1\" class=\"data row6 col1\" >(11502, 410)</td>\n",
       "    </tr>\n",
       "    <tr>\n",
       "      <th id=\"T_48112_level0_row7\" class=\"row_heading level0 row7\" >7</th>\n",
       "      <td id=\"T_48112_row7_col0\" class=\"data row7 col0\" >Categorical features</td>\n",
       "      <td id=\"T_48112_row7_col1\" class=\"data row7 col1\" >6</td>\n",
       "    </tr>\n",
       "    <tr>\n",
       "      <th id=\"T_48112_level0_row8\" class=\"row_heading level0 row8\" >8</th>\n",
       "      <td id=\"T_48112_row8_col0\" class=\"data row8 col0\" >Preprocess</td>\n",
       "      <td id=\"T_48112_row8_col1\" class=\"data row8 col1\" >True</td>\n",
       "    </tr>\n",
       "    <tr>\n",
       "      <th id=\"T_48112_level0_row9\" class=\"row_heading level0 row9\" >9</th>\n",
       "      <td id=\"T_48112_row9_col0\" class=\"data row9 col0\" >Imputation type</td>\n",
       "      <td id=\"T_48112_row9_col1\" class=\"data row9 col1\" >simple</td>\n",
       "    </tr>\n",
       "    <tr>\n",
       "      <th id=\"T_48112_level0_row10\" class=\"row_heading level0 row10\" >10</th>\n",
       "      <td id=\"T_48112_row10_col0\" class=\"data row10 col0\" >Numeric imputation</td>\n",
       "      <td id=\"T_48112_row10_col1\" class=\"data row10 col1\" >mean</td>\n",
       "    </tr>\n",
       "    <tr>\n",
       "      <th id=\"T_48112_level0_row11\" class=\"row_heading level0 row11\" >11</th>\n",
       "      <td id=\"T_48112_row11_col0\" class=\"data row11 col0\" >Categorical imputation</td>\n",
       "      <td id=\"T_48112_row11_col1\" class=\"data row11 col1\" >mode</td>\n",
       "    </tr>\n",
       "    <tr>\n",
       "      <th id=\"T_48112_level0_row12\" class=\"row_heading level0 row12\" >12</th>\n",
       "      <td id=\"T_48112_row12_col0\" class=\"data row12 col0\" >Maximum one-hot encoding</td>\n",
       "      <td id=\"T_48112_row12_col1\" class=\"data row12 col1\" >300</td>\n",
       "    </tr>\n",
       "    <tr>\n",
       "      <th id=\"T_48112_level0_row13\" class=\"row_heading level0 row13\" >13</th>\n",
       "      <td id=\"T_48112_row13_col0\" class=\"data row13 col0\" >Encoding method</td>\n",
       "      <td id=\"T_48112_row13_col1\" class=\"data row13 col1\" >None</td>\n",
       "    </tr>\n",
       "    <tr>\n",
       "      <th id=\"T_48112_level0_row14\" class=\"row_heading level0 row14\" >14</th>\n",
       "      <td id=\"T_48112_row14_col0\" class=\"data row14 col0\" >Fold Generator</td>\n",
       "      <td id=\"T_48112_row14_col1\" class=\"data row14 col1\" >KFold</td>\n",
       "    </tr>\n",
       "    <tr>\n",
       "      <th id=\"T_48112_level0_row15\" class=\"row_heading level0 row15\" >15</th>\n",
       "      <td id=\"T_48112_row15_col0\" class=\"data row15 col0\" >Fold Number</td>\n",
       "      <td id=\"T_48112_row15_col1\" class=\"data row15 col1\" >10</td>\n",
       "    </tr>\n",
       "    <tr>\n",
       "      <th id=\"T_48112_level0_row16\" class=\"row_heading level0 row16\" >16</th>\n",
       "      <td id=\"T_48112_row16_col0\" class=\"data row16 col0\" >CPU Jobs</td>\n",
       "      <td id=\"T_48112_row16_col1\" class=\"data row16 col1\" >-1</td>\n",
       "    </tr>\n",
       "    <tr>\n",
       "      <th id=\"T_48112_level0_row17\" class=\"row_heading level0 row17\" >17</th>\n",
       "      <td id=\"T_48112_row17_col0\" class=\"data row17 col0\" >Use GPU</td>\n",
       "      <td id=\"T_48112_row17_col1\" class=\"data row17 col1\" >False</td>\n",
       "    </tr>\n",
       "    <tr>\n",
       "      <th id=\"T_48112_level0_row18\" class=\"row_heading level0 row18\" >18</th>\n",
       "      <td id=\"T_48112_row18_col0\" class=\"data row18 col0\" >Log Experiment</td>\n",
       "      <td id=\"T_48112_row18_col1\" class=\"data row18 col1\" >False</td>\n",
       "    </tr>\n",
       "    <tr>\n",
       "      <th id=\"T_48112_level0_row19\" class=\"row_heading level0 row19\" >19</th>\n",
       "      <td id=\"T_48112_row19_col0\" class=\"data row19 col0\" >Experiment Name</td>\n",
       "      <td id=\"T_48112_row19_col1\" class=\"data row19 col1\" >reg-default-name</td>\n",
       "    </tr>\n",
       "    <tr>\n",
       "      <th id=\"T_48112_level0_row20\" class=\"row_heading level0 row20\" >20</th>\n",
       "      <td id=\"T_48112_row20_col0\" class=\"data row20 col0\" >USI</td>\n",
       "      <td id=\"T_48112_row20_col1\" class=\"data row20 col1\" >9704</td>\n",
       "    </tr>\n",
       "  </tbody>\n",
       "</table>\n"
      ],
      "text/plain": [
       "<pandas.io.formats.style.Styler at 0x24bf55eca60>"
      ]
     },
     "metadata": {},
     "output_type": "display_data"
    }
   ],
   "source": [
    "exp = setup(train,train_size=0.8,target='Price',rare_to_value=0.0001,max_encoding_ohe=300,session_id=S)"
   ]
  },
  {
   "cell_type": "code",
   "execution_count": 248,
   "metadata": {},
   "outputs": [
    {
     "data": {
      "text/html": [
       "<div>\n",
       "<style scoped>\n",
       "    .dataframe tbody tr th:only-of-type {\n",
       "        vertical-align: middle;\n",
       "    }\n",
       "\n",
       "    .dataframe tbody tr th {\n",
       "        vertical-align: top;\n",
       "    }\n",
       "\n",
       "    .dataframe thead th {\n",
       "        text-align: right;\n",
       "    }\n",
       "</style>\n",
       "<table border=\"1\" class=\"dataframe\">\n",
       "  <thead>\n",
       "    <tr style=\"text-align: right;\">\n",
       "      <th></th>\n",
       "      <th></th>\n",
       "      <th></th>\n",
       "    </tr>\n",
       "    <tr>\n",
       "      <th></th>\n",
       "      <th></th>\n",
       "      <th></th>\n",
       "    </tr>\n",
       "  </thead>\n",
       "  <tbody>\n",
       "    <tr>\n",
       "      <th>Initiated</th>\n",
       "      <td>. . . . . . . . . . . . . . . . . .</td>\n",
       "      <td>00:56:17</td>\n",
       "    </tr>\n",
       "    <tr>\n",
       "      <th>Status</th>\n",
       "      <td>. . . . . . . . . . . . . . . . . .</td>\n",
       "      <td>Loading Estimator</td>\n",
       "    </tr>\n",
       "    <tr>\n",
       "      <th>Estimator</th>\n",
       "      <td>. . . . . . . . . . . . . . . . . .</td>\n",
       "      <td>Dummy Regressor</td>\n",
       "    </tr>\n",
       "  </tbody>\n",
       "</table>\n",
       "</div>"
      ],
      "text/plain": [
       "                                                                 \n",
       "                                                                 \n",
       "Initiated  . . . . . . . . . . . . . . . . . .           00:56:17\n",
       "Status     . . . . . . . . . . . . . . . . . .  Loading Estimator\n",
       "Estimator  . . . . . . . . . . . . . . . . . .    Dummy Regressor"
      ]
     },
     "metadata": {},
     "output_type": "display_data"
    },
    {
     "data": {
      "text/html": [
       "<style type=\"text/css\">\n",
       "#T_19650 th {\n",
       "  text-align: left;\n",
       "}\n",
       "#T_19650_row0_col0, #T_19650_row0_col2, #T_19650_row0_col3, #T_19650_row1_col0, #T_19650_row1_col1, #T_19650_row1_col2, #T_19650_row1_col3, #T_19650_row1_col4, #T_19650_row1_col5, #T_19650_row1_col6, #T_19650_row2_col0, #T_19650_row2_col1, #T_19650_row2_col5, #T_19650_row2_col6, #T_19650_row3_col0, #T_19650_row3_col1, #T_19650_row3_col2, #T_19650_row3_col3, #T_19650_row3_col4, #T_19650_row3_col5, #T_19650_row3_col6, #T_19650_row4_col0, #T_19650_row4_col1, #T_19650_row4_col2, #T_19650_row4_col3, #T_19650_row4_col4, #T_19650_row4_col5, #T_19650_row4_col6, #T_19650_row5_col0, #T_19650_row5_col1, #T_19650_row5_col2, #T_19650_row5_col3, #T_19650_row5_col4, #T_19650_row5_col5, #T_19650_row5_col6 {\n",
       "  text-align: left;\n",
       "}\n",
       "#T_19650_row0_col1, #T_19650_row0_col4, #T_19650_row0_col5, #T_19650_row0_col6, #T_19650_row2_col2, #T_19650_row2_col3, #T_19650_row2_col4 {\n",
       "  text-align: left;\n",
       "  background-color: yellow;\n",
       "}\n",
       "#T_19650_row0_col7, #T_19650_row1_col7, #T_19650_row2_col7, #T_19650_row4_col7, #T_19650_row5_col7 {\n",
       "  text-align: left;\n",
       "  background-color: lightgrey;\n",
       "}\n",
       "#T_19650_row3_col7 {\n",
       "  text-align: left;\n",
       "  background-color: yellow;\n",
       "  background-color: lightgrey;\n",
       "}\n",
       "</style>\n",
       "<table id=\"T_19650\">\n",
       "  <thead>\n",
       "    <tr>\n",
       "      <th class=\"blank level0\" >&nbsp;</th>\n",
       "      <th id=\"T_19650_level0_col0\" class=\"col_heading level0 col0\" >Model</th>\n",
       "      <th id=\"T_19650_level0_col1\" class=\"col_heading level0 col1\" >MAE</th>\n",
       "      <th id=\"T_19650_level0_col2\" class=\"col_heading level0 col2\" >MSE</th>\n",
       "      <th id=\"T_19650_level0_col3\" class=\"col_heading level0 col3\" >RMSE</th>\n",
       "      <th id=\"T_19650_level0_col4\" class=\"col_heading level0 col4\" >R2</th>\n",
       "      <th id=\"T_19650_level0_col5\" class=\"col_heading level0 col5\" >RMSLE</th>\n",
       "      <th id=\"T_19650_level0_col6\" class=\"col_heading level0 col6\" >MAPE</th>\n",
       "      <th id=\"T_19650_level0_col7\" class=\"col_heading level0 col7\" >TT (Sec)</th>\n",
       "    </tr>\n",
       "  </thead>\n",
       "  <tbody>\n",
       "    <tr>\n",
       "      <th id=\"T_19650_level0_row0\" class=\"row_heading level0 row0\" >rf</th>\n",
       "      <td id=\"T_19650_row0_col0\" class=\"data row0 col0\" >Random Forest Regressor</td>\n",
       "      <td id=\"T_19650_row0_col1\" class=\"data row0 col1\" >1930.6348</td>\n",
       "      <td id=\"T_19650_row0_col2\" class=\"data row0 col2\" >7633591.2157</td>\n",
       "      <td id=\"T_19650_row0_col3\" class=\"data row0 col3\" >2762.7149</td>\n",
       "      <td id=\"T_19650_row0_col4\" class=\"data row0 col4\" >0.8756</td>\n",
       "      <td id=\"T_19650_row0_col5\" class=\"data row0 col5\" >0.2669</td>\n",
       "      <td id=\"T_19650_row0_col6\" class=\"data row0 col6\" >0.1989</td>\n",
       "      <td id=\"T_19650_row0_col7\" class=\"data row0 col7\" >36.7440</td>\n",
       "    </tr>\n",
       "    <tr>\n",
       "      <th id=\"T_19650_level0_row1\" class=\"row_heading level0 row1\" >et</th>\n",
       "      <td id=\"T_19650_row1_col0\" class=\"data row1 col0\" >Extra Trees Regressor</td>\n",
       "      <td id=\"T_19650_row1_col1\" class=\"data row1 col1\" >1938.5157</td>\n",
       "      <td id=\"T_19650_row1_col2\" class=\"data row1 col2\" >7705253.0698</td>\n",
       "      <td id=\"T_19650_row1_col3\" class=\"data row1 col3\" >2775.6482</td>\n",
       "      <td id=\"T_19650_row1_col4\" class=\"data row1 col4\" >0.8744</td>\n",
       "      <td id=\"T_19650_row1_col5\" class=\"data row1 col5\" >0.2716</td>\n",
       "      <td id=\"T_19650_row1_col6\" class=\"data row1 col6\" >0.2005</td>\n",
       "      <td id=\"T_19650_row1_col7\" class=\"data row1 col7\" >53.2750</td>\n",
       "    </tr>\n",
       "    <tr>\n",
       "      <th id=\"T_19650_level0_row2\" class=\"row_heading level0 row2\" >catboost</th>\n",
       "      <td id=\"T_19650_row2_col0\" class=\"data row2 col0\" >CatBoost Regressor</td>\n",
       "      <td id=\"T_19650_row2_col1\" class=\"data row2 col1\" >1954.4097</td>\n",
       "      <td id=\"T_19650_row2_col2\" class=\"data row2 col2\" >7631731.1488</td>\n",
       "      <td id=\"T_19650_row2_col3\" class=\"data row2 col3\" >2762.3491</td>\n",
       "      <td id=\"T_19650_row2_col4\" class=\"data row2 col4\" >0.8756</td>\n",
       "      <td id=\"T_19650_row2_col5\" class=\"data row2 col5\" >0.2784</td>\n",
       "      <td id=\"T_19650_row2_col6\" class=\"data row2 col6\" >0.2093</td>\n",
       "      <td id=\"T_19650_row2_col7\" class=\"data row2 col7\" >6.7890</td>\n",
       "    </tr>\n",
       "    <tr>\n",
       "      <th id=\"T_19650_level0_row3\" class=\"row_heading level0 row3\" >lightgbm</th>\n",
       "      <td id=\"T_19650_row3_col0\" class=\"data row3 col0\" >Light Gradient Boosting Machine</td>\n",
       "      <td id=\"T_19650_row3_col1\" class=\"data row3 col1\" >1993.5316</td>\n",
       "      <td id=\"T_19650_row3_col2\" class=\"data row3 col2\" >7976053.7351</td>\n",
       "      <td id=\"T_19650_row3_col3\" class=\"data row3 col3\" >2823.8950</td>\n",
       "      <td id=\"T_19650_row3_col4\" class=\"data row3 col4\" >0.8700</td>\n",
       "      <td id=\"T_19650_row3_col5\" class=\"data row3 col5\" >0.2824</td>\n",
       "      <td id=\"T_19650_row3_col6\" class=\"data row3 col6\" >0.2160</td>\n",
       "      <td id=\"T_19650_row3_col7\" class=\"data row3 col7\" >1.7300</td>\n",
       "    </tr>\n",
       "    <tr>\n",
       "      <th id=\"T_19650_level0_row4\" class=\"row_heading level0 row4\" >xgboost</th>\n",
       "      <td id=\"T_19650_row4_col0\" class=\"data row4 col0\" >Extreme Gradient Boosting</td>\n",
       "      <td id=\"T_19650_row4_col1\" class=\"data row4 col1\" >1985.1838</td>\n",
       "      <td id=\"T_19650_row4_col2\" class=\"data row4 col2\" >7818904.8749</td>\n",
       "      <td id=\"T_19650_row4_col3\" class=\"data row4 col3\" >2796.0335</td>\n",
       "      <td id=\"T_19650_row4_col4\" class=\"data row4 col4\" >0.8725</td>\n",
       "      <td id=\"T_19650_row4_col5\" class=\"data row4 col5\" >0.2817</td>\n",
       "      <td id=\"T_19650_row4_col6\" class=\"data row4 col6\" >0.2161</td>\n",
       "      <td id=\"T_19650_row4_col7\" class=\"data row4 col7\" >3.4750</td>\n",
       "    </tr>\n",
       "    <tr>\n",
       "      <th id=\"T_19650_level0_row5\" class=\"row_heading level0 row5\" >dummy</th>\n",
       "      <td id=\"T_19650_row5_col0\" class=\"data row5 col0\" >Dummy Regressor</td>\n",
       "      <td id=\"T_19650_row5_col1\" class=\"data row5 col1\" >6383.7837</td>\n",
       "      <td id=\"T_19650_row5_col2\" class=\"data row5 col2\" >61362765.8988</td>\n",
       "      <td id=\"T_19650_row5_col3\" class=\"data row5 col3\" >7833.1306</td>\n",
       "      <td id=\"T_19650_row5_col4\" class=\"data row5 col4\" >-0.0004</td>\n",
       "      <td id=\"T_19650_row5_col5\" class=\"data row5 col5\" >0.7665</td>\n",
       "      <td id=\"T_19650_row5_col6\" class=\"data row5 col6\" >1.0279</td>\n",
       "      <td id=\"T_19650_row5_col7\" class=\"data row5 col7\" >2.1830</td>\n",
       "    </tr>\n",
       "  </tbody>\n",
       "</table>\n"
      ],
      "text/plain": [
       "<pandas.io.formats.style.Styler at 0x24bfa5ccd90>"
      ]
     },
     "metadata": {},
     "output_type": "display_data"
    },
    {
     "data": {
      "text/html": [],
      "text/plain": [
       "<IPython.core.display.HTML object>"
      ]
     },
     "metadata": {},
     "output_type": "display_data"
    },
    {
     "name": "stdout",
     "output_type": "stream",
     "text": [
      "CPU times: total: 2min 37s\n",
      "Wall time: 18min 12s\n"
     ]
    }
   ],
   "source": [
    "%%time\n",
    "%%chime\n",
    "best_model = exp.compare_models(sort='MAPE',include=['dummy','lightgbm','xgboost','catboost','et','rf'])"
   ]
  },
  {
   "cell_type": "code",
   "execution_count": null,
   "metadata": {},
   "outputs": [],
   "source": [
    "exp.tune_model()"
   ]
  },
  {
   "cell_type": "code",
   "execution_count": 252,
   "metadata": {},
   "outputs": [
    {
     "data": {
      "text/html": [],
      "text/plain": [
       "<IPython.core.display.HTML object>"
      ]
     },
     "metadata": {},
     "output_type": "display_data"
    },
    {
     "data": {
      "image/png": "[encoded data removed]",
      "text/plain": [
       "<Figure size 800x500 with 1 Axes>"
      ]
     },
     "metadata": {},
     "output_type": "display_data"
    }
   ],
   "source": [
    "exp.plot_model(best_model,'feature')"
   ]
  },
  {
   "cell_type": "markdown",
   "metadata": {},
   "source": [
    "### TargetEncoder"
   ]
  },
  {
   "cell_type": "code",
   "execution_count": 65,
   "metadata": {},
   "outputs": [
    {
     "data": {
      "text/html": [
       "<style type=\"text/css\">\n",
       "#T_32c63_row8_col1, #T_32c63_row14_col1 {\n",
       "  background-color: lightgreen;\n",
       "}\n",
       "</style>\n",
       "<table id=\"T_32c63\">\n",
       "  <thead>\n",
       "    <tr>\n",
       "      <th class=\"blank level0\" >&nbsp;</th>\n",
       "      <th id=\"T_32c63_level0_col0\" class=\"col_heading level0 col0\" >Description</th>\n",
       "      <th id=\"T_32c63_level0_col1\" class=\"col_heading level0 col1\" >Value</th>\n",
       "    </tr>\n",
       "  </thead>\n",
       "  <tbody>\n",
       "    <tr>\n",
       "      <th id=\"T_32c63_level0_row0\" class=\"row_heading level0 row0\" >0</th>\n",
       "      <td id=\"T_32c63_row0_col0\" class=\"data row0 col0\" >Session id</td>\n",
       "      <td id=\"T_32c63_row0_col1\" class=\"data row0 col1\" >100500</td>\n",
       "    </tr>\n",
       "    <tr>\n",
       "      <th id=\"T_32c63_level0_row1\" class=\"row_heading level0 row1\" >1</th>\n",
       "      <td id=\"T_32c63_row1_col0\" class=\"data row1 col0\" >Target</td>\n",
       "      <td id=\"T_32c63_row1_col1\" class=\"data row1 col1\" >Price</td>\n",
       "    </tr>\n",
       "    <tr>\n",
       "      <th id=\"T_32c63_level0_row2\" class=\"row_heading level0 row2\" >2</th>\n",
       "      <td id=\"T_32c63_row2_col0\" class=\"data row2 col0\" >Target type</td>\n",
       "      <td id=\"T_32c63_row2_col1\" class=\"data row2 col1\" >Regression</td>\n",
       "    </tr>\n",
       "    <tr>\n",
       "      <th id=\"T_32c63_level0_row3\" class=\"row_heading level0 row3\" >3</th>\n",
       "      <td id=\"T_32c63_row3_col0\" class=\"data row3 col0\" >Original data shape</td>\n",
       "      <td id=\"T_32c63_row3_col1\" class=\"data row3 col1\" >(57507, 7)</td>\n",
       "    </tr>\n",
       "    <tr>\n",
       "      <th id=\"T_32c63_level0_row4\" class=\"row_heading level0 row4\" >4</th>\n",
       "      <td id=\"T_32c63_row4_col0\" class=\"data row4 col0\" >Transformed data shape</td>\n",
       "      <td id=\"T_32c63_row4_col1\" class=\"data row4 col1\" >(57507, 7)</td>\n",
       "    </tr>\n",
       "    <tr>\n",
       "      <th id=\"T_32c63_level0_row5\" class=\"row_heading level0 row5\" >5</th>\n",
       "      <td id=\"T_32c63_row5_col0\" class=\"data row5 col0\" >Transformed train set shape</td>\n",
       "      <td id=\"T_32c63_row5_col1\" class=\"data row5 col1\" >(46005, 7)</td>\n",
       "    </tr>\n",
       "    <tr>\n",
       "      <th id=\"T_32c63_level0_row6\" class=\"row_heading level0 row6\" >6</th>\n",
       "      <td id=\"T_32c63_row6_col0\" class=\"data row6 col0\" >Transformed test set shape</td>\n",
       "      <td id=\"T_32c63_row6_col1\" class=\"data row6 col1\" >(11502, 7)</td>\n",
       "    </tr>\n",
       "    <tr>\n",
       "      <th id=\"T_32c63_level0_row7\" class=\"row_heading level0 row7\" >7</th>\n",
       "      <td id=\"T_32c63_row7_col0\" class=\"data row7 col0\" >Categorical features</td>\n",
       "      <td id=\"T_32c63_row7_col1\" class=\"data row7 col1\" >6</td>\n",
       "    </tr>\n",
       "    <tr>\n",
       "      <th id=\"T_32c63_level0_row8\" class=\"row_heading level0 row8\" >8</th>\n",
       "      <td id=\"T_32c63_row8_col0\" class=\"data row8 col0\" >Preprocess</td>\n",
       "      <td id=\"T_32c63_row8_col1\" class=\"data row8 col1\" >True</td>\n",
       "    </tr>\n",
       "    <tr>\n",
       "      <th id=\"T_32c63_level0_row9\" class=\"row_heading level0 row9\" >9</th>\n",
       "      <td id=\"T_32c63_row9_col0\" class=\"data row9 col0\" >Imputation type</td>\n",
       "      <td id=\"T_32c63_row9_col1\" class=\"data row9 col1\" >simple</td>\n",
       "    </tr>\n",
       "    <tr>\n",
       "      <th id=\"T_32c63_level0_row10\" class=\"row_heading level0 row10\" >10</th>\n",
       "      <td id=\"T_32c63_row10_col0\" class=\"data row10 col0\" >Numeric imputation</td>\n",
       "      <td id=\"T_32c63_row10_col1\" class=\"data row10 col1\" >mean</td>\n",
       "    </tr>\n",
       "    <tr>\n",
       "      <th id=\"T_32c63_level0_row11\" class=\"row_heading level0 row11\" >11</th>\n",
       "      <td id=\"T_32c63_row11_col0\" class=\"data row11 col0\" >Categorical imputation</td>\n",
       "      <td id=\"T_32c63_row11_col1\" class=\"data row11 col1\" >mode</td>\n",
       "    </tr>\n",
       "    <tr>\n",
       "      <th id=\"T_32c63_level0_row12\" class=\"row_heading level0 row12\" >12</th>\n",
       "      <td id=\"T_32c63_row12_col0\" class=\"data row12 col0\" >Maximum one-hot encoding</td>\n",
       "      <td id=\"T_32c63_row12_col1\" class=\"data row12 col1\" >3</td>\n",
       "    </tr>\n",
       "    <tr>\n",
       "      <th id=\"T_32c63_level0_row13\" class=\"row_heading level0 row13\" >13</th>\n",
       "      <td id=\"T_32c63_row13_col0\" class=\"data row13 col0\" >Encoding method</td>\n",
       "      <td id=\"T_32c63_row13_col1\" class=\"data row13 col1\" >None</td>\n",
       "    </tr>\n",
       "    <tr>\n",
       "      <th id=\"T_32c63_level0_row14\" class=\"row_heading level0 row14\" >14</th>\n",
       "      <td id=\"T_32c63_row14_col0\" class=\"data row14 col0\" >Normalize</td>\n",
       "      <td id=\"T_32c63_row14_col1\" class=\"data row14 col1\" >True</td>\n",
       "    </tr>\n",
       "    <tr>\n",
       "      <th id=\"T_32c63_level0_row15\" class=\"row_heading level0 row15\" >15</th>\n",
       "      <td id=\"T_32c63_row15_col0\" class=\"data row15 col0\" >Normalize method</td>\n",
       "      <td id=\"T_32c63_row15_col1\" class=\"data row15 col1\" >zscore</td>\n",
       "    </tr>\n",
       "    <tr>\n",
       "      <th id=\"T_32c63_level0_row16\" class=\"row_heading level0 row16\" >16</th>\n",
       "      <td id=\"T_32c63_row16_col0\" class=\"data row16 col0\" >Fold Generator</td>\n",
       "      <td id=\"T_32c63_row16_col1\" class=\"data row16 col1\" >KFold</td>\n",
       "    </tr>\n",
       "    <tr>\n",
       "      <th id=\"T_32c63_level0_row17\" class=\"row_heading level0 row17\" >17</th>\n",
       "      <td id=\"T_32c63_row17_col0\" class=\"data row17 col0\" >Fold Number</td>\n",
       "      <td id=\"T_32c63_row17_col1\" class=\"data row17 col1\" >10</td>\n",
       "    </tr>\n",
       "    <tr>\n",
       "      <th id=\"T_32c63_level0_row18\" class=\"row_heading level0 row18\" >18</th>\n",
       "      <td id=\"T_32c63_row18_col0\" class=\"data row18 col0\" >CPU Jobs</td>\n",
       "      <td id=\"T_32c63_row18_col1\" class=\"data row18 col1\" >-1</td>\n",
       "    </tr>\n",
       "    <tr>\n",
       "      <th id=\"T_32c63_level0_row19\" class=\"row_heading level0 row19\" >19</th>\n",
       "      <td id=\"T_32c63_row19_col0\" class=\"data row19 col0\" >Use GPU</td>\n",
       "      <td id=\"T_32c63_row19_col1\" class=\"data row19 col1\" >False</td>\n",
       "    </tr>\n",
       "    <tr>\n",
       "      <th id=\"T_32c63_level0_row20\" class=\"row_heading level0 row20\" >20</th>\n",
       "      <td id=\"T_32c63_row20_col0\" class=\"data row20 col0\" >Log Experiment</td>\n",
       "      <td id=\"T_32c63_row20_col1\" class=\"data row20 col1\" >False</td>\n",
       "    </tr>\n",
       "    <tr>\n",
       "      <th id=\"T_32c63_level0_row21\" class=\"row_heading level0 row21\" >21</th>\n",
       "      <td id=\"T_32c63_row21_col0\" class=\"data row21 col0\" >Experiment Name</td>\n",
       "      <td id=\"T_32c63_row21_col1\" class=\"data row21 col1\" >reg-default-name</td>\n",
       "    </tr>\n",
       "    <tr>\n",
       "      <th id=\"T_32c63_level0_row22\" class=\"row_heading level0 row22\" >22</th>\n",
       "      <td id=\"T_32c63_row22_col0\" class=\"data row22 col0\" >USI</td>\n",
       "      <td id=\"T_32c63_row22_col1\" class=\"data row22 col1\" >b098</td>\n",
       "    </tr>\n",
       "  </tbody>\n",
       "</table>\n"
      ],
      "text/plain": [
       "<pandas.io.formats.style.Styler at 0x1f7c596f220>"
      ]
     },
     "metadata": {},
     "output_type": "display_data"
    },
    {
     "data": {
      "text/html": [],
      "text/plain": [
       "<IPython.core.display.HTML object>"
      ]
     },
     "metadata": {},
     "output_type": "display_data"
    },
    {
     "data": {
      "text/html": [
       "<style type=\"text/css\">\n",
       "#T_27dca th {\n",
       "  text-align: left;\n",
       "}\n",
       "#T_27dca_row0_col0, #T_27dca_row0_col2, #T_27dca_row0_col3, #T_27dca_row0_col4, #T_27dca_row0_col5, #T_27dca_row1_col0, #T_27dca_row1_col1, #T_27dca_row1_col6, #T_27dca_row2_col0, #T_27dca_row2_col1, #T_27dca_row2_col2, #T_27dca_row2_col3, #T_27dca_row2_col4, #T_27dca_row2_col5, #T_27dca_row2_col6, #T_27dca_row3_col0, #T_27dca_row3_col1, #T_27dca_row3_col2, #T_27dca_row3_col3, #T_27dca_row3_col4, #T_27dca_row3_col5, #T_27dca_row3_col6, #T_27dca_row4_col0, #T_27dca_row4_col1, #T_27dca_row4_col2, #T_27dca_row4_col3, #T_27dca_row4_col4, #T_27dca_row4_col5, #T_27dca_row4_col6, #T_27dca_row5_col0, #T_27dca_row5_col1, #T_27dca_row5_col2, #T_27dca_row5_col3, #T_27dca_row5_col4, #T_27dca_row5_col5, #T_27dca_row5_col6 {\n",
       "  text-align: left;\n",
       "}\n",
       "#T_27dca_row0_col1, #T_27dca_row0_col6, #T_27dca_row1_col2, #T_27dca_row1_col3, #T_27dca_row1_col4, #T_27dca_row1_col5 {\n",
       "  text-align: left;\n",
       "  background-color: yellow;\n",
       "}\n",
       "#T_27dca_row0_col7, #T_27dca_row1_col7, #T_27dca_row2_col7, #T_27dca_row3_col7, #T_27dca_row5_col7 {\n",
       "  text-align: left;\n",
       "  background-color: lightgrey;\n",
       "}\n",
       "#T_27dca_row4_col7 {\n",
       "  text-align: left;\n",
       "  background-color: yellow;\n",
       "  background-color: lightgrey;\n",
       "}\n",
       "</style>\n",
       "<table id=\"T_27dca\">\n",
       "  <thead>\n",
       "    <tr>\n",
       "      <th class=\"blank level0\" >&nbsp;</th>\n",
       "      <th id=\"T_27dca_level0_col0\" class=\"col_heading level0 col0\" >Model</th>\n",
       "      <th id=\"T_27dca_level0_col1\" class=\"col_heading level0 col1\" >MAE</th>\n",
       "      <th id=\"T_27dca_level0_col2\" class=\"col_heading level0 col2\" >MSE</th>\n",
       "      <th id=\"T_27dca_level0_col3\" class=\"col_heading level0 col3\" >RMSE</th>\n",
       "      <th id=\"T_27dca_level0_col4\" class=\"col_heading level0 col4\" >R2</th>\n",
       "      <th id=\"T_27dca_level0_col5\" class=\"col_heading level0 col5\" >RMSLE</th>\n",
       "      <th id=\"T_27dca_level0_col6\" class=\"col_heading level0 col6\" >MAPE</th>\n",
       "      <th id=\"T_27dca_level0_col7\" class=\"col_heading level0 col7\" >TT (Sec)</th>\n",
       "    </tr>\n",
       "  </thead>\n",
       "  <tbody>\n",
       "    <tr>\n",
       "      <th id=\"T_27dca_level0_row0\" class=\"row_heading level0 row0\" >xgboost</th>\n",
       "      <td id=\"T_27dca_row0_col0\" class=\"data row0 col0\" >Extreme Gradient Boosting</td>\n",
       "      <td id=\"T_27dca_row0_col1\" class=\"data row0 col1\" >1927.5380</td>\n",
       "      <td id=\"T_27dca_row0_col2\" class=\"data row0 col2\" >7545395.0120</td>\n",
       "      <td id=\"T_27dca_row0_col3\" class=\"data row0 col3\" >2746.7074</td>\n",
       "      <td id=\"T_27dca_row0_col4\" class=\"data row0 col4\" >0.8770</td>\n",
       "      <td id=\"T_27dca_row0_col5\" class=\"data row0 col5\" >0.2672</td>\n",
       "      <td id=\"T_27dca_row0_col6\" class=\"data row0 col6\" >0.2002</td>\n",
       "      <td id=\"T_27dca_row0_col7\" class=\"data row0 col7\" >0.6490</td>\n",
       "    </tr>\n",
       "    <tr>\n",
       "      <th id=\"T_27dca_level0_row1\" class=\"row_heading level0 row1\" >catboost</th>\n",
       "      <td id=\"T_27dca_row1_col0\" class=\"data row1 col0\" >CatBoost Regressor</td>\n",
       "      <td id=\"T_27dca_row1_col1\" class=\"data row1 col1\" >1927.8876</td>\n",
       "      <td id=\"T_27dca_row1_col2\" class=\"data row1 col2\" >7520587.3632</td>\n",
       "      <td id=\"T_27dca_row1_col3\" class=\"data row1 col3\" >2742.1771</td>\n",
       "      <td id=\"T_27dca_row1_col4\" class=\"data row1 col4\" >0.8774</td>\n",
       "      <td id=\"T_27dca_row1_col5\" class=\"data row1 col5\" >0.2659</td>\n",
       "      <td id=\"T_27dca_row1_col6\" class=\"data row1 col6\" >0.2005</td>\n",
       "      <td id=\"T_27dca_row1_col7\" class=\"data row1 col7\" >6.1660</td>\n",
       "    </tr>\n",
       "    <tr>\n",
       "      <th id=\"T_27dca_level0_row2\" class=\"row_heading level0 row2\" >rf</th>\n",
       "      <td id=\"T_27dca_row2_col0\" class=\"data row2 col0\" >Random Forest Regressor</td>\n",
       "      <td id=\"T_27dca_row2_col1\" class=\"data row2 col1\" >1935.8815</td>\n",
       "      <td id=\"T_27dca_row2_col2\" class=\"data row2 col2\" >7672618.2739</td>\n",
       "      <td id=\"T_27dca_row2_col3\" class=\"data row2 col3\" >2769.8092</td>\n",
       "      <td id=\"T_27dca_row2_col4\" class=\"data row2 col4\" >0.8749</td>\n",
       "      <td id=\"T_27dca_row2_col5\" class=\"data row2 col5\" >0.2707</td>\n",
       "      <td id=\"T_27dca_row2_col6\" class=\"data row2 col6\" >0.2027</td>\n",
       "      <td id=\"T_27dca_row2_col7\" class=\"data row2 col7\" >2.2560</td>\n",
       "    </tr>\n",
       "    <tr>\n",
       "      <th id=\"T_27dca_level0_row3\" class=\"row_heading level0 row3\" >et</th>\n",
       "      <td id=\"T_27dca_row3_col0\" class=\"data row3 col0\" >Extra Trees Regressor</td>\n",
       "      <td id=\"T_27dca_row3_col1\" class=\"data row3 col1\" >1941.0713</td>\n",
       "      <td id=\"T_27dca_row3_col2\" class=\"data row3 col2\" >7711620.8962</td>\n",
       "      <td id=\"T_27dca_row3_col3\" class=\"data row3 col3\" >2776.8238</td>\n",
       "      <td id=\"T_27dca_row3_col4\" class=\"data row3 col4\" >0.8743</td>\n",
       "      <td id=\"T_27dca_row3_col5\" class=\"data row3 col5\" >0.2739</td>\n",
       "      <td id=\"T_27dca_row3_col6\" class=\"data row3 col6\" >0.2035</td>\n",
       "      <td id=\"T_27dca_row3_col7\" class=\"data row3 col7\" >1.6340</td>\n",
       "    </tr>\n",
       "    <tr>\n",
       "      <th id=\"T_27dca_level0_row4\" class=\"row_heading level0 row4\" >lightgbm</th>\n",
       "      <td id=\"T_27dca_row4_col0\" class=\"data row4 col0\" >Light Gradient Boosting Machine</td>\n",
       "      <td id=\"T_27dca_row4_col1\" class=\"data row4 col1\" >1956.8416</td>\n",
       "      <td id=\"T_27dca_row4_col2\" class=\"data row4 col2\" >7723003.1417</td>\n",
       "      <td id=\"T_27dca_row4_col3\" class=\"data row4 col3\" >2778.7816</td>\n",
       "      <td id=\"T_27dca_row4_col4\" class=\"data row4 col4\" >0.8741</td>\n",
       "      <td id=\"T_27dca_row4_col5\" class=\"data row4 col5\" >0.2718</td>\n",
       "      <td id=\"T_27dca_row4_col6\" class=\"data row4 col6\" >0.2064</td>\n",
       "      <td id=\"T_27dca_row4_col7\" class=\"data row4 col7\" >0.5050</td>\n",
       "    </tr>\n",
       "    <tr>\n",
       "      <th id=\"T_27dca_level0_row5\" class=\"row_heading level0 row5\" >dummy</th>\n",
       "      <td id=\"T_27dca_row5_col0\" class=\"data row5 col0\" >Dummy Regressor</td>\n",
       "      <td id=\"T_27dca_row5_col1\" class=\"data row5 col1\" >6383.7837</td>\n",
       "      <td id=\"T_27dca_row5_col2\" class=\"data row5 col2\" >61362765.8988</td>\n",
       "      <td id=\"T_27dca_row5_col3\" class=\"data row5 col3\" >7833.1306</td>\n",
       "      <td id=\"T_27dca_row5_col4\" class=\"data row5 col4\" >-0.0004</td>\n",
       "      <td id=\"T_27dca_row5_col5\" class=\"data row5 col5\" >0.7665</td>\n",
       "      <td id=\"T_27dca_row5_col6\" class=\"data row5 col6\" >1.0279</td>\n",
       "      <td id=\"T_27dca_row5_col7\" class=\"data row5 col7\" >1.2320</td>\n",
       "    </tr>\n",
       "  </tbody>\n",
       "</table>\n"
      ],
      "text/plain": [
       "<pandas.io.formats.style.Styler at 0x1f7bae6fc10>"
      ]
     },
     "metadata": {},
     "output_type": "display_data"
    },
    {
     "data": {
      "text/html": [],
      "text/plain": [
       "<IPython.core.display.HTML object>"
      ]
     },
     "metadata": {},
     "output_type": "display_data"
    },
    {
     "name": "stdout",
     "output_type": "stream",
     "text": [
      "CPU times: total: 16.7 s\n",
      "Wall time: 2min 17s\n"
     ]
    }
   ],
   "source": [
    "%%time\n",
    "%%chime\n",
    "\n",
    "exp2 = setup(train,train_size=0.8,target='Price',rare_to_value=0.0001,\n",
    "            max_encoding_ohe=3,session_id=S, normalize = True)\n",
    "            \n",
    "best_model_2 = exp2.compare_models(sort='MAPE',include=['dummy','lightgbm','xgboost','catboost','et','rf'])"
   ]
  },
  {
   "cell_type": "markdown",
   "metadata": {},
   "source": [
    "* Скорость возрала многогратно, метрика не ухудшилась. Оставляем этот варианат.\n",
    "* Константная модель в среднем ошибается на *`102 %`* , наша модель ошибается на *`20 %`* - проверка на адекватность пройдена."
   ]
  },
  {
   "cell_type": "markdown",
   "metadata": {},
   "source": [
    "#### Важность признаков"
   ]
  },
  {
   "cell_type": "code",
   "execution_count": 251,
   "metadata": {},
   "outputs": [
    {
     "data": {
      "text/html": [],
      "text/plain": [
       "<IPython.core.display.HTML object>"
      ]
     },
     "metadata": {},
     "output_type": "display_data"
    },
    {
     "data": {
      "image/png": "[encoded data removed]",
      "text/plain": [
       "<Figure size 800x500 with 1 Axes>"
      ]
     },
     "metadata": {},
     "output_type": "display_data"
    }
   ],
   "source": [
    "# plt.style.use('dark_background')\n",
    "exp2.plot_model(best_model_2,'feature')"
   ]
  },
  {
   "cell_type": "markdown",
   "metadata": {},
   "source": [
    "Видно, что модель считает признак `\"model\"` (модель автомобиля) наиболее важным для предсказания цены. Это вполне логично, так как разные модели автомобилей имеют разную стоимость."
   ]
  },
  {
   "cell_type": "markdown",
   "metadata": {},
   "source": [
    "#### Оптимизация (подбор оптимальных гиперпараметров)"
   ]
  },
  {
   "cell_type": "code",
   "execution_count": 254,
   "metadata": {},
   "outputs": [
    {
     "data": {
      "text/html": [],
      "text/plain": [
       "<IPython.core.display.HTML object>"
      ]
     },
     "metadata": {},
     "output_type": "display_data"
    },
    {
     "data": {
      "text/html": [
       "<style type=\"text/css\">\n",
       "#T_dc855_row10_col0, #T_dc855_row10_col1, #T_dc855_row10_col2, #T_dc855_row10_col3, #T_dc855_row10_col4, #T_dc855_row10_col5 {\n",
       "  background: yellow;\n",
       "}\n",
       "</style>\n",
       "<table id=\"T_dc855\">\n",
       "  <thead>\n",
       "    <tr>\n",
       "      <th class=\"blank level0\" >&nbsp;</th>\n",
       "      <th id=\"T_dc855_level0_col0\" class=\"col_heading level0 col0\" >MAE</th>\n",
       "      <th id=\"T_dc855_level0_col1\" class=\"col_heading level0 col1\" >MSE</th>\n",
       "      <th id=\"T_dc855_level0_col2\" class=\"col_heading level0 col2\" >RMSE</th>\n",
       "      <th id=\"T_dc855_level0_col3\" class=\"col_heading level0 col3\" >R2</th>\n",
       "      <th id=\"T_dc855_level0_col4\" class=\"col_heading level0 col4\" >RMSLE</th>\n",
       "      <th id=\"T_dc855_level0_col5\" class=\"col_heading level0 col5\" >MAPE</th>\n",
       "    </tr>\n",
       "    <tr>\n",
       "      <th class=\"index_name level0\" >Fold</th>\n",
       "      <th class=\"blank col0\" >&nbsp;</th>\n",
       "      <th class=\"blank col1\" >&nbsp;</th>\n",
       "      <th class=\"blank col2\" >&nbsp;</th>\n",
       "      <th class=\"blank col3\" >&nbsp;</th>\n",
       "      <th class=\"blank col4\" >&nbsp;</th>\n",
       "      <th class=\"blank col5\" >&nbsp;</th>\n",
       "    </tr>\n",
       "  </thead>\n",
       "  <tbody>\n",
       "    <tr>\n",
       "      <th id=\"T_dc855_level0_row0\" class=\"row_heading level0 row0\" >0</th>\n",
       "      <td id=\"T_dc855_row0_col0\" class=\"data row0 col0\" >1930.3600</td>\n",
       "      <td id=\"T_dc855_row0_col1\" class=\"data row0 col1\" >7620046.6414</td>\n",
       "      <td id=\"T_dc855_row0_col2\" class=\"data row0 col2\" >2760.4432</td>\n",
       "      <td id=\"T_dc855_row0_col3\" class=\"data row0 col3\" >0.8742</td>\n",
       "      <td id=\"T_dc855_row0_col4\" class=\"data row0 col4\" >0.2718</td>\n",
       "      <td id=\"T_dc855_row0_col5\" class=\"data row0 col5\" >0.2068</td>\n",
       "    </tr>\n",
       "    <tr>\n",
       "      <th id=\"T_dc855_level0_row1\" class=\"row_heading level0 row1\" >1</th>\n",
       "      <td id=\"T_dc855_row1_col0\" class=\"data row1 col0\" >1917.7928</td>\n",
       "      <td id=\"T_dc855_row1_col1\" class=\"data row1 col1\" >7386427.1619</td>\n",
       "      <td id=\"T_dc855_row1_col2\" class=\"data row1 col2\" >2717.7982</td>\n",
       "      <td id=\"T_dc855_row1_col3\" class=\"data row1 col3\" >0.8796</td>\n",
       "      <td id=\"T_dc855_row1_col4\" class=\"data row1 col4\" >0.2546</td>\n",
       "      <td id=\"T_dc855_row1_col5\" class=\"data row1 col5\" >0.1911</td>\n",
       "    </tr>\n",
       "    <tr>\n",
       "      <th id=\"T_dc855_level0_row2\" class=\"row_heading level0 row2\" >2</th>\n",
       "      <td id=\"T_dc855_row2_col0\" class=\"data row2 col0\" >1913.5712</td>\n",
       "      <td id=\"T_dc855_row2_col1\" class=\"data row2 col1\" >7335581.4682</td>\n",
       "      <td id=\"T_dc855_row2_col2\" class=\"data row2 col2\" >2708.4279</td>\n",
       "      <td id=\"T_dc855_row2_col3\" class=\"data row2 col3\" >0.8778</td>\n",
       "      <td id=\"T_dc855_row2_col4\" class=\"data row2 col4\" >0.2518</td>\n",
       "      <td id=\"T_dc855_row2_col5\" class=\"data row2 col5\" >0.1887</td>\n",
       "    </tr>\n",
       "    <tr>\n",
       "      <th id=\"T_dc855_level0_row3\" class=\"row_heading level0 row3\" >3</th>\n",
       "      <td id=\"T_dc855_row3_col0\" class=\"data row3 col0\" >1908.2290</td>\n",
       "      <td id=\"T_dc855_row3_col1\" class=\"data row3 col1\" >7318177.6674</td>\n",
       "      <td id=\"T_dc855_row3_col2\" class=\"data row3 col2\" >2705.2131</td>\n",
       "      <td id=\"T_dc855_row3_col3\" class=\"data row3 col3\" >0.8769</td>\n",
       "      <td id=\"T_dc855_row3_col4\" class=\"data row3 col4\" >0.2653</td>\n",
       "      <td id=\"T_dc855_row3_col5\" class=\"data row3 col5\" >0.2010</td>\n",
       "    </tr>\n",
       "    <tr>\n",
       "      <th id=\"T_dc855_level0_row4\" class=\"row_heading level0 row4\" >4</th>\n",
       "      <td id=\"T_dc855_row4_col0\" class=\"data row4 col0\" >1901.7712</td>\n",
       "      <td id=\"T_dc855_row4_col1\" class=\"data row4 col1\" >7512650.5831</td>\n",
       "      <td id=\"T_dc855_row4_col2\" class=\"data row4 col2\" >2740.9215</td>\n",
       "      <td id=\"T_dc855_row4_col3\" class=\"data row4 col3\" >0.8779</td>\n",
       "      <td id=\"T_dc855_row4_col4\" class=\"data row4 col4\" >0.2713</td>\n",
       "      <td id=\"T_dc855_row4_col5\" class=\"data row4 col5\" >0.2037</td>\n",
       "    </tr>\n",
       "    <tr>\n",
       "      <th id=\"T_dc855_level0_row5\" class=\"row_heading level0 row5\" >5</th>\n",
       "      <td id=\"T_dc855_row5_col0\" class=\"data row5 col0\" >1970.9729</td>\n",
       "      <td id=\"T_dc855_row5_col1\" class=\"data row5 col1\" >7921850.5392</td>\n",
       "      <td id=\"T_dc855_row5_col2\" class=\"data row5 col2\" >2814.5782</td>\n",
       "      <td id=\"T_dc855_row5_col3\" class=\"data row5 col3\" >0.8754</td>\n",
       "      <td id=\"T_dc855_row5_col4\" class=\"data row5 col4\" >0.2704</td>\n",
       "      <td id=\"T_dc855_row5_col5\" class=\"data row5 col5\" >0.2053</td>\n",
       "    </tr>\n",
       "    <tr>\n",
       "      <th id=\"T_dc855_level0_row6\" class=\"row_heading level0 row6\" >6</th>\n",
       "      <td id=\"T_dc855_row6_col0\" class=\"data row6 col0\" >1913.5515</td>\n",
       "      <td id=\"T_dc855_row6_col1\" class=\"data row6 col1\" >7615294.4218</td>\n",
       "      <td id=\"T_dc855_row6_col2\" class=\"data row6 col2\" >2759.5823</td>\n",
       "      <td id=\"T_dc855_row6_col3\" class=\"data row6 col3\" >0.8759</td>\n",
       "      <td id=\"T_dc855_row6_col4\" class=\"data row6 col4\" >0.2610</td>\n",
       "      <td id=\"T_dc855_row6_col5\" class=\"data row6 col5\" >0.1975</td>\n",
       "    </tr>\n",
       "    <tr>\n",
       "      <th id=\"T_dc855_level0_row7\" class=\"row_heading level0 row7\" >7</th>\n",
       "      <td id=\"T_dc855_row7_col0\" class=\"data row7 col0\" >1959.1753</td>\n",
       "      <td id=\"T_dc855_row7_col1\" class=\"data row7 col1\" >7685351.3110</td>\n",
       "      <td id=\"T_dc855_row7_col2\" class=\"data row7 col2\" >2772.2466</td>\n",
       "      <td id=\"T_dc855_row7_col3\" class=\"data row7 col3\" >0.8755</td>\n",
       "      <td id=\"T_dc855_row7_col4\" class=\"data row7 col4\" >0.2659</td>\n",
       "      <td id=\"T_dc855_row7_col5\" class=\"data row7 col5\" >0.2019</td>\n",
       "    </tr>\n",
       "    <tr>\n",
       "      <th id=\"T_dc855_level0_row8\" class=\"row_heading level0 row8\" >8</th>\n",
       "      <td id=\"T_dc855_row8_col0\" class=\"data row8 col0\" >1915.8961</td>\n",
       "      <td id=\"T_dc855_row8_col1\" class=\"data row8 col1\" >7487125.4929</td>\n",
       "      <td id=\"T_dc855_row8_col2\" class=\"data row8 col2\" >2736.2612</td>\n",
       "      <td id=\"T_dc855_row8_col3\" class=\"data row8 col3\" >0.8799</td>\n",
       "      <td id=\"T_dc855_row8_col4\" class=\"data row8 col4\" >0.2704</td>\n",
       "      <td id=\"T_dc855_row8_col5\" class=\"data row8 col5\" >0.2043</td>\n",
       "    </tr>\n",
       "    <tr>\n",
       "      <th id=\"T_dc855_level0_row9\" class=\"row_heading level0 row9\" >9</th>\n",
       "      <td id=\"T_dc855_row9_col0\" class=\"data row9 col0\" >1932.6344</td>\n",
       "      <td id=\"T_dc855_row9_col1\" class=\"data row9 col1\" >7454006.4338</td>\n",
       "      <td id=\"T_dc855_row9_col2\" class=\"data row9 col2\" >2730.2026</td>\n",
       "      <td id=\"T_dc855_row9_col3\" class=\"data row9 col3\" >0.8787</td>\n",
       "      <td id=\"T_dc855_row9_col4\" class=\"data row9 col4\" >0.2658</td>\n",
       "      <td id=\"T_dc855_row9_col5\" class=\"data row9 col5\" >0.1988</td>\n",
       "    </tr>\n",
       "    <tr>\n",
       "      <th id=\"T_dc855_level0_row10\" class=\"row_heading level0 row10\" >Mean</th>\n",
       "      <td id=\"T_dc855_row10_col0\" class=\"data row10 col0\" >1926.3954</td>\n",
       "      <td id=\"T_dc855_row10_col1\" class=\"data row10 col1\" >7533651.1721</td>\n",
       "      <td id=\"T_dc855_row10_col2\" class=\"data row10 col2\" >2744.5675</td>\n",
       "      <td id=\"T_dc855_row10_col3\" class=\"data row10 col3\" >0.8772</td>\n",
       "      <td id=\"T_dc855_row10_col4\" class=\"data row10 col4\" >0.2648</td>\n",
       "      <td id=\"T_dc855_row10_col5\" class=\"data row10 col5\" >0.1999</td>\n",
       "    </tr>\n",
       "    <tr>\n",
       "      <th id=\"T_dc855_level0_row11\" class=\"row_heading level0 row11\" >Std</th>\n",
       "      <td id=\"T_dc855_row11_col0\" class=\"data row11 col0\" >21.3690</td>\n",
       "      <td id=\"T_dc855_row11_col1\" class=\"data row11 col1\" >174392.0222</td>\n",
       "      <td id=\"T_dc855_row11_col2\" class=\"data row11 col2\" >31.6310</td>\n",
       "      <td id=\"T_dc855_row11_col3\" class=\"data row11 col3\" >0.0018</td>\n",
       "      <td id=\"T_dc855_row11_col4\" class=\"data row11 col4\" >0.0067</td>\n",
       "      <td id=\"T_dc855_row11_col5\" class=\"data row11 col5\" >0.0057</td>\n",
       "    </tr>\n",
       "  </tbody>\n",
       "</table>\n"
      ],
      "text/plain": [
       "<pandas.io.formats.style.Styler at 0x24bf26bfe50>"
      ]
     },
     "metadata": {},
     "output_type": "display_data"
    },
    {
     "data": {
      "text/html": [],
      "text/plain": [
       "<IPython.core.display.HTML object>"
      ]
     },
     "metadata": {},
     "output_type": "display_data"
    },
    {
     "name": "stderr",
     "output_type": "stream",
     "text": [
      "[I 2024-04-18 02:15:57,818] Searching the best hyperparameters using 46005 samples...\n",
      "[I 2024-04-18 02:21:56,668] Finished hyperparameter search!\n"
     ]
    }
   ],
   "source": [
    "tuned_model = exp2.tune_model(best_model_2,optimize='MAPE',n_iter=30,search_library='optuna')"
   ]
  },
  {
   "cell_type": "code",
   "execution_count": 256,
   "metadata": {},
   "outputs": [
    {
     "data": {
      "text/html": [],
      "text/plain": [
       "<IPython.core.display.HTML object>"
      ]
     },
     "metadata": {},
     "output_type": "display_data"
    },
    {
     "data": {
      "text/html": [
       "<style type=\"text/css\">\n",
       "#T_5553b_row10_col0, #T_5553b_row10_col1, #T_5553b_row10_col2, #T_5553b_row10_col3, #T_5553b_row10_col4, #T_5553b_row10_col5 {\n",
       "  background: yellow;\n",
       "}\n",
       "</style>\n",
       "<table id=\"T_5553b\">\n",
       "  <thead>\n",
       "    <tr>\n",
       "      <th class=\"blank level0\" >&nbsp;</th>\n",
       "      <th id=\"T_5553b_level0_col0\" class=\"col_heading level0 col0\" >MAE</th>\n",
       "      <th id=\"T_5553b_level0_col1\" class=\"col_heading level0 col1\" >MSE</th>\n",
       "      <th id=\"T_5553b_level0_col2\" class=\"col_heading level0 col2\" >RMSE</th>\n",
       "      <th id=\"T_5553b_level0_col3\" class=\"col_heading level0 col3\" >R2</th>\n",
       "      <th id=\"T_5553b_level0_col4\" class=\"col_heading level0 col4\" >RMSLE</th>\n",
       "      <th id=\"T_5553b_level0_col5\" class=\"col_heading level0 col5\" >MAPE</th>\n",
       "    </tr>\n",
       "    <tr>\n",
       "      <th class=\"index_name level0\" >Fold</th>\n",
       "      <th class=\"blank col0\" >&nbsp;</th>\n",
       "      <th class=\"blank col1\" >&nbsp;</th>\n",
       "      <th class=\"blank col2\" >&nbsp;</th>\n",
       "      <th class=\"blank col3\" >&nbsp;</th>\n",
       "      <th class=\"blank col4\" >&nbsp;</th>\n",
       "      <th class=\"blank col5\" >&nbsp;</th>\n",
       "    </tr>\n",
       "  </thead>\n",
       "  <tbody>\n",
       "    <tr>\n",
       "      <th id=\"T_5553b_level0_row0\" class=\"row_heading level0 row0\" >0</th>\n",
       "      <td id=\"T_5553b_row0_col0\" class=\"data row0 col0\" >1928.7615</td>\n",
       "      <td id=\"T_5553b_row0_col1\" class=\"data row0 col1\" >7606906.1834</td>\n",
       "      <td id=\"T_5553b_row0_col2\" class=\"data row0 col2\" >2758.0620</td>\n",
       "      <td id=\"T_5553b_row0_col3\" class=\"data row0 col3\" >0.8745</td>\n",
       "      <td id=\"T_5553b_row0_col4\" class=\"data row0 col4\" >0.2733</td>\n",
       "      <td id=\"T_5553b_row0_col5\" class=\"data row0 col5\" >0.2071</td>\n",
       "    </tr>\n",
       "    <tr>\n",
       "      <th id=\"T_5553b_level0_row1\" class=\"row_heading level0 row1\" >1</th>\n",
       "      <td id=\"T_5553b_row1_col0\" class=\"data row1 col0\" >1925.6640</td>\n",
       "      <td id=\"T_5553b_row1_col1\" class=\"data row1 col1\" >7463390.8270</td>\n",
       "      <td id=\"T_5553b_row1_col2\" class=\"data row1 col2\" >2731.9207</td>\n",
       "      <td id=\"T_5553b_row1_col3\" class=\"data row1 col3\" >0.8783</td>\n",
       "      <td id=\"T_5553b_row1_col4\" class=\"data row1 col4\" >0.2567</td>\n",
       "      <td id=\"T_5553b_row1_col5\" class=\"data row1 col5\" >0.1919</td>\n",
       "    </tr>\n",
       "    <tr>\n",
       "      <th id=\"T_5553b_level0_row2\" class=\"row_heading level0 row2\" >2</th>\n",
       "      <td id=\"T_5553b_row2_col0\" class=\"data row2 col0\" >1910.6224</td>\n",
       "      <td id=\"T_5553b_row2_col1\" class=\"data row2 col1\" >7356222.9402</td>\n",
       "      <td id=\"T_5553b_row2_col2\" class=\"data row2 col2\" >2712.2358</td>\n",
       "      <td id=\"T_5553b_row2_col3\" class=\"data row2 col3\" >0.8774</td>\n",
       "      <td id=\"T_5553b_row2_col4\" class=\"data row2 col4\" >0.2516</td>\n",
       "      <td id=\"T_5553b_row2_col5\" class=\"data row2 col5\" >0.1882</td>\n",
       "    </tr>\n",
       "    <tr>\n",
       "      <th id=\"T_5553b_level0_row3\" class=\"row_heading level0 row3\" >3</th>\n",
       "      <td id=\"T_5553b_row3_col0\" class=\"data row3 col0\" >1908.1138</td>\n",
       "      <td id=\"T_5553b_row3_col1\" class=\"data row3 col1\" >7379406.4469</td>\n",
       "      <td id=\"T_5553b_row3_col2\" class=\"data row3 col2\" >2716.5063</td>\n",
       "      <td id=\"T_5553b_row3_col3\" class=\"data row3 col3\" >0.8759</td>\n",
       "      <td id=\"T_5553b_row3_col4\" class=\"data row3 col4\" >0.2646</td>\n",
       "      <td id=\"T_5553b_row3_col5\" class=\"data row3 col5\" >0.1996</td>\n",
       "    </tr>\n",
       "    <tr>\n",
       "      <th id=\"T_5553b_level0_row4\" class=\"row_heading level0 row4\" >4</th>\n",
       "      <td id=\"T_5553b_row4_col0\" class=\"data row4 col0\" >1903.0708</td>\n",
       "      <td id=\"T_5553b_row4_col1\" class=\"data row4 col1\" >7571947.3648</td>\n",
       "      <td id=\"T_5553b_row4_col2\" class=\"data row4 col2\" >2751.7172</td>\n",
       "      <td id=\"T_5553b_row4_col3\" class=\"data row4 col3\" >0.8769</td>\n",
       "      <td id=\"T_5553b_row4_col4\" class=\"data row4 col4\" >0.2729</td>\n",
       "      <td id=\"T_5553b_row4_col5\" class=\"data row4 col5\" >0.2032</td>\n",
       "    </tr>\n",
       "    <tr>\n",
       "      <th id=\"T_5553b_level0_row5\" class=\"row_heading level0 row5\" >5</th>\n",
       "      <td id=\"T_5553b_row5_col0\" class=\"data row5 col0\" >1967.3238</td>\n",
       "      <td id=\"T_5553b_row5_col1\" class=\"data row5 col1\" >7933155.1509</td>\n",
       "      <td id=\"T_5553b_row5_col2\" class=\"data row5 col2\" >2816.5857</td>\n",
       "      <td id=\"T_5553b_row5_col3\" class=\"data row5 col3\" >0.8753</td>\n",
       "      <td id=\"T_5553b_row5_col4\" class=\"data row5 col4\" >0.2701</td>\n",
       "      <td id=\"T_5553b_row5_col5\" class=\"data row5 col5\" >0.2039</td>\n",
       "    </tr>\n",
       "    <tr>\n",
       "      <th id=\"T_5553b_level0_row6\" class=\"row_heading level0 row6\" >6</th>\n",
       "      <td id=\"T_5553b_row6_col0\" class=\"data row6 col0\" >1912.5147</td>\n",
       "      <td id=\"T_5553b_row6_col1\" class=\"data row6 col1\" >7612635.3332</td>\n",
       "      <td id=\"T_5553b_row6_col2\" class=\"data row6 col2\" >2759.1005</td>\n",
       "      <td id=\"T_5553b_row6_col3\" class=\"data row6 col3\" >0.8760</td>\n",
       "      <td id=\"T_5553b_row6_col4\" class=\"data row6 col4\" >0.2589</td>\n",
       "      <td id=\"T_5553b_row6_col5\" class=\"data row6 col5\" >0.1959</td>\n",
       "    </tr>\n",
       "    <tr>\n",
       "      <th id=\"T_5553b_level0_row7\" class=\"row_heading level0 row7\" >7</th>\n",
       "      <td id=\"T_5553b_row7_col0\" class=\"data row7 col0\" >1961.9424</td>\n",
       "      <td id=\"T_5553b_row7_col1\" class=\"data row7 col1\" >7717989.0611</td>\n",
       "      <td id=\"T_5553b_row7_col2\" class=\"data row7 col2\" >2778.1269</td>\n",
       "      <td id=\"T_5553b_row7_col3\" class=\"data row7 col3\" >0.8750</td>\n",
       "      <td id=\"T_5553b_row7_col4\" class=\"data row7 col4\" >0.2669</td>\n",
       "      <td id=\"T_5553b_row7_col5\" class=\"data row7 col5\" >0.2026</td>\n",
       "    </tr>\n",
       "    <tr>\n",
       "      <th id=\"T_5553b_level0_row8\" class=\"row_heading level0 row8\" >8</th>\n",
       "      <td id=\"T_5553b_row8_col0\" class=\"data row8 col0\" >1912.8362</td>\n",
       "      <td id=\"T_5553b_row8_col1\" class=\"data row8 col1\" >7495284.4853</td>\n",
       "      <td id=\"T_5553b_row8_col2\" class=\"data row8 col2\" >2737.7517</td>\n",
       "      <td id=\"T_5553b_row8_col3\" class=\"data row8 col3\" >0.8798</td>\n",
       "      <td id=\"T_5553b_row8_col4\" class=\"data row8 col4\" >0.2697</td>\n",
       "      <td id=\"T_5553b_row8_col5\" class=\"data row8 col5\" >0.2027</td>\n",
       "    </tr>\n",
       "    <tr>\n",
       "      <th id=\"T_5553b_level0_row9\" class=\"row_heading level0 row9\" >9</th>\n",
       "      <td id=\"T_5553b_row9_col0\" class=\"data row9 col0\" >1934.6054</td>\n",
       "      <td id=\"T_5553b_row9_col1\" class=\"data row9 col1\" >7472208.6648</td>\n",
       "      <td id=\"T_5553b_row9_col2\" class=\"data row9 col2\" >2733.5341</td>\n",
       "      <td id=\"T_5553b_row9_col3\" class=\"data row9 col3\" >0.8784</td>\n",
       "      <td id=\"T_5553b_row9_col4\" class=\"data row9 col4\" >0.2657</td>\n",
       "      <td id=\"T_5553b_row9_col5\" class=\"data row9 col5\" >0.1991</td>\n",
       "    </tr>\n",
       "    <tr>\n",
       "      <th id=\"T_5553b_level0_row10\" class=\"row_heading level0 row10\" >Mean</th>\n",
       "      <td id=\"T_5553b_row10_col0\" class=\"data row10 col0\" >1926.5455</td>\n",
       "      <td id=\"T_5553b_row10_col1\" class=\"data row10 col1\" >7560914.6458</td>\n",
       "      <td id=\"T_5553b_row10_col2\" class=\"data row10 col2\" >2749.5541</td>\n",
       "      <td id=\"T_5553b_row10_col3\" class=\"data row10 col3\" >0.8767</td>\n",
       "      <td id=\"T_5553b_row10_col4\" class=\"data row10 col4\" >0.2650</td>\n",
       "      <td id=\"T_5553b_row10_col5\" class=\"data row10 col5\" >0.1994</td>\n",
       "    </tr>\n",
       "    <tr>\n",
       "      <th id=\"T_5553b_level0_row11\" class=\"row_heading level0 row11\" >Std</th>\n",
       "      <td id=\"T_5553b_row11_col0\" class=\"data row11 col0\" >21.2499</td>\n",
       "      <td id=\"T_5553b_row11_col1\" class=\"data row11 col1\" >162689.3427</td>\n",
       "      <td id=\"T_5553b_row11_col2\" class=\"data row11 col2\" >29.4441</td>\n",
       "      <td id=\"T_5553b_row11_col3\" class=\"data row11 col3\" >0.0016</td>\n",
       "      <td id=\"T_5553b_row11_col4\" class=\"data row11 col4\" >0.0069</td>\n",
       "      <td id=\"T_5553b_row11_col5\" class=\"data row11 col5\" >0.0055</td>\n",
       "    </tr>\n",
       "  </tbody>\n",
       "</table>\n"
      ],
      "text/plain": [
       "<pandas.io.formats.style.Styler at 0x24bfa5f69a0>"
      ]
     },
     "metadata": {},
     "output_type": "display_data"
    },
    {
     "data": {
      "text/html": [],
      "text/plain": [
       "<IPython.core.display.HTML object>"
      ]
     },
     "metadata": {},
     "output_type": "display_data"
    },
    {
     "name": "stderr",
     "output_type": "stream",
     "text": [
      "[I 2024-04-18 02:27:12,159] Searching the best hyperparameters using 46005 samples...\n",
      "[I 2024-04-18 02:53:19,599] Finished hyperparameter search!\n"
     ]
    }
   ],
   "source": [
    "tuned_model = exp2.tune_model(tuned_model,optimize='MAPE',n_iter=100, search_library='optuna')"
   ]
  },
  {
   "cell_type": "markdown",
   "metadata": {},
   "source": [
    "#### Финализация и сохранение модели"
   ]
  },
  {
   "cell_type": "code",
   "execution_count": 258,
   "metadata": {},
   "outputs": [
    {
     "name": "stdout",
     "output_type": "stream",
     "text": [
      "Transformation Pipeline and Model Successfully Saved\n"
     ]
    },
    {
     "data": {
      "text/plain": [
       "(Pipeline(memory=Memory(location=None),\n",
       "          steps=[('numerical_imputer',\n",
       "                  TransformerWrapper(include=[], transformer=SimpleImputer())),\n",
       "                 ('categorical_imputer',\n",
       "                  TransformerWrapper(include=['manufacturer', 'security_codes',\n",
       "                                              'model', 'engine', 'model_year',\n",
       "                                              'plant_code'],\n",
       "                                     transformer=SimpleImputer(strategy='most_frequent'))),\n",
       "                 ('rare_category_grouping',\n",
       "                  TransformerWrappe...\n",
       "                               feature_types=None, gamma=None, grow_policy=None,\n",
       "                               importance_type=None,\n",
       "                               interaction_constraints=None,\n",
       "                               learning_rate=0.07235752899247931, max_bin=None,\n",
       "                               max_cat_threshold=None, max_cat_to_onehot=None,\n",
       "                               max_delta_step=None, max_depth=11,\n",
       "                               max_leaves=None, min_child_weight=3, missing=nan,\n",
       "                               monotone_constraints=None, multi_strategy=None,\n",
       "                               n_estimators=250, n_jobs=-1,\n",
       "                               num_parallel_tree=None, random_state=100500, ...))]),\n",
       " 'tuned_model.pkl')"
      ]
     },
     "execution_count": 258,
     "metadata": {},
     "output_type": "execute_result"
    }
   ],
   "source": [
    "exp2.save_experiment('experement')\n",
    "exp2.save_model(tuned_model,'tuned_model')"
   ]
  },
  {
   "cell_type": "code",
   "execution_count": 45,
   "metadata": {},
   "outputs": [
    {
     "name": "stdout",
     "output_type": "stream",
     "text": [
      "Transformation Pipeline and Model Successfully Loaded\n"
     ]
    },
    {
     "data": {
      "text/html": [
       "<style type=\"text/css\">\n",
       "#T_44198_row8_col1 {\n",
       "  background-color: lightgreen;\n",
       "}\n",
       "</style>\n",
       "<table id=\"T_44198\">\n",
       "  <thead>\n",
       "    <tr>\n",
       "      <th class=\"blank level0\" >&nbsp;</th>\n",
       "      <th id=\"T_44198_level0_col0\" class=\"col_heading level0 col0\" >Description</th>\n",
       "      <th id=\"T_44198_level0_col1\" class=\"col_heading level0 col1\" >Value</th>\n",
       "    </tr>\n",
       "  </thead>\n",
       "  <tbody>\n",
       "    <tr>\n",
       "      <th id=\"T_44198_level0_row0\" class=\"row_heading level0 row0\" >0</th>\n",
       "      <td id=\"T_44198_row0_col0\" class=\"data row0 col0\" >Session id</td>\n",
       "      <td id=\"T_44198_row0_col1\" class=\"data row0 col1\" >100500</td>\n",
       "    </tr>\n",
       "    <tr>\n",
       "      <th id=\"T_44198_level0_row1\" class=\"row_heading level0 row1\" >1</th>\n",
       "      <td id=\"T_44198_row1_col0\" class=\"data row1 col0\" >Target</td>\n",
       "      <td id=\"T_44198_row1_col1\" class=\"data row1 col1\" >Price</td>\n",
       "    </tr>\n",
       "    <tr>\n",
       "      <th id=\"T_44198_level0_row2\" class=\"row_heading level0 row2\" >2</th>\n",
       "      <td id=\"T_44198_row2_col0\" class=\"data row2 col0\" >Target type</td>\n",
       "      <td id=\"T_44198_row2_col1\" class=\"data row2 col1\" >Regression</td>\n",
       "    </tr>\n",
       "    <tr>\n",
       "      <th id=\"T_44198_level0_row3\" class=\"row_heading level0 row3\" >3</th>\n",
       "      <td id=\"T_44198_row3_col0\" class=\"data row3 col0\" >Original data shape</td>\n",
       "      <td id=\"T_44198_row3_col1\" class=\"data row3 col1\" >(57507, 7)</td>\n",
       "    </tr>\n",
       "    <tr>\n",
       "      <th id=\"T_44198_level0_row4\" class=\"row_heading level0 row4\" >4</th>\n",
       "      <td id=\"T_44198_row4_col0\" class=\"data row4 col0\" >Transformed data shape</td>\n",
       "      <td id=\"T_44198_row4_col1\" class=\"data row4 col1\" >(57507, 7)</td>\n",
       "    </tr>\n",
       "    <tr>\n",
       "      <th id=\"T_44198_level0_row5\" class=\"row_heading level0 row5\" >5</th>\n",
       "      <td id=\"T_44198_row5_col0\" class=\"data row5 col0\" >Transformed train set shape</td>\n",
       "      <td id=\"T_44198_row5_col1\" class=\"data row5 col1\" >(46005, 7)</td>\n",
       "    </tr>\n",
       "    <tr>\n",
       "      <th id=\"T_44198_level0_row6\" class=\"row_heading level0 row6\" >6</th>\n",
       "      <td id=\"T_44198_row6_col0\" class=\"data row6 col0\" >Transformed test set shape</td>\n",
       "      <td id=\"T_44198_row6_col1\" class=\"data row6 col1\" >(11502, 7)</td>\n",
       "    </tr>\n",
       "    <tr>\n",
       "      <th id=\"T_44198_level0_row7\" class=\"row_heading level0 row7\" >7</th>\n",
       "      <td id=\"T_44198_row7_col0\" class=\"data row7 col0\" >Categorical features</td>\n",
       "      <td id=\"T_44198_row7_col1\" class=\"data row7 col1\" >6</td>\n",
       "    </tr>\n",
       "    <tr>\n",
       "      <th id=\"T_44198_level0_row8\" class=\"row_heading level0 row8\" >8</th>\n",
       "      <td id=\"T_44198_row8_col0\" class=\"data row8 col0\" >Preprocess</td>\n",
       "      <td id=\"T_44198_row8_col1\" class=\"data row8 col1\" >True</td>\n",
       "    </tr>\n",
       "    <tr>\n",
       "      <th id=\"T_44198_level0_row9\" class=\"row_heading level0 row9\" >9</th>\n",
       "      <td id=\"T_44198_row9_col0\" class=\"data row9 col0\" >Imputation type</td>\n",
       "      <td id=\"T_44198_row9_col1\" class=\"data row9 col1\" >simple</td>\n",
       "    </tr>\n",
       "    <tr>\n",
       "      <th id=\"T_44198_level0_row10\" class=\"row_heading level0 row10\" >10</th>\n",
       "      <td id=\"T_44198_row10_col0\" class=\"data row10 col0\" >Numeric imputation</td>\n",
       "      <td id=\"T_44198_row10_col1\" class=\"data row10 col1\" >mean</td>\n",
       "    </tr>\n",
       "    <tr>\n",
       "      <th id=\"T_44198_level0_row11\" class=\"row_heading level0 row11\" >11</th>\n",
       "      <td id=\"T_44198_row11_col0\" class=\"data row11 col0\" >Categorical imputation</td>\n",
       "      <td id=\"T_44198_row11_col1\" class=\"data row11 col1\" >mode</td>\n",
       "    </tr>\n",
       "    <tr>\n",
       "      <th id=\"T_44198_level0_row12\" class=\"row_heading level0 row12\" >12</th>\n",
       "      <td id=\"T_44198_row12_col0\" class=\"data row12 col0\" >Maximum one-hot encoding</td>\n",
       "      <td id=\"T_44198_row12_col1\" class=\"data row12 col1\" >3</td>\n",
       "    </tr>\n",
       "    <tr>\n",
       "      <th id=\"T_44198_level0_row13\" class=\"row_heading level0 row13\" >13</th>\n",
       "      <td id=\"T_44198_row13_col0\" class=\"data row13 col0\" >Encoding method</td>\n",
       "      <td id=\"T_44198_row13_col1\" class=\"data row13 col1\" >None</td>\n",
       "    </tr>\n",
       "    <tr>\n",
       "      <th id=\"T_44198_level0_row14\" class=\"row_heading level0 row14\" >14</th>\n",
       "      <td id=\"T_44198_row14_col0\" class=\"data row14 col0\" >Fold Generator</td>\n",
       "      <td id=\"T_44198_row14_col1\" class=\"data row14 col1\" >KFold</td>\n",
       "    </tr>\n",
       "    <tr>\n",
       "      <th id=\"T_44198_level0_row15\" class=\"row_heading level0 row15\" >15</th>\n",
       "      <td id=\"T_44198_row15_col0\" class=\"data row15 col0\" >Fold Number</td>\n",
       "      <td id=\"T_44198_row15_col1\" class=\"data row15 col1\" >10</td>\n",
       "    </tr>\n",
       "    <tr>\n",
       "      <th id=\"T_44198_level0_row16\" class=\"row_heading level0 row16\" >16</th>\n",
       "      <td id=\"T_44198_row16_col0\" class=\"data row16 col0\" >CPU Jobs</td>\n",
       "      <td id=\"T_44198_row16_col1\" class=\"data row16 col1\" >-1</td>\n",
       "    </tr>\n",
       "    <tr>\n",
       "      <th id=\"T_44198_level0_row17\" class=\"row_heading level0 row17\" >17</th>\n",
       "      <td id=\"T_44198_row17_col0\" class=\"data row17 col0\" >Use GPU</td>\n",
       "      <td id=\"T_44198_row17_col1\" class=\"data row17 col1\" >False</td>\n",
       "    </tr>\n",
       "    <tr>\n",
       "      <th id=\"T_44198_level0_row18\" class=\"row_heading level0 row18\" >18</th>\n",
       "      <td id=\"T_44198_row18_col0\" class=\"data row18 col0\" >Log Experiment</td>\n",
       "      <td id=\"T_44198_row18_col1\" class=\"data row18 col1\" >False</td>\n",
       "    </tr>\n",
       "    <tr>\n",
       "      <th id=\"T_44198_level0_row19\" class=\"row_heading level0 row19\" >19</th>\n",
       "      <td id=\"T_44198_row19_col0\" class=\"data row19 col0\" >Experiment Name</td>\n",
       "      <td id=\"T_44198_row19_col1\" class=\"data row19 col1\" >reg-default-name</td>\n",
       "    </tr>\n",
       "    <tr>\n",
       "      <th id=\"T_44198_level0_row20\" class=\"row_heading level0 row20\" >20</th>\n",
       "      <td id=\"T_44198_row20_col0\" class=\"data row20 col0\" >USI</td>\n",
       "      <td id=\"T_44198_row20_col1\" class=\"data row20 col1\" >da94</td>\n",
       "    </tr>\n",
       "  </tbody>\n",
       "</table>\n"
      ],
      "text/plain": [
       "<pandas.io.formats.style.Styler at 0x1f7bcbbed60>"
      ]
     },
     "metadata": {},
     "output_type": "display_data"
    }
   ],
   "source": [
    "tuned_model = load_model('tuned_model')\n",
    "exp = load_experiment('experement',train)"
   ]
  },
  {
   "cell_type": "code",
   "execution_count": 46,
   "metadata": {},
   "outputs": [],
   "source": [
    "final_model = exp.finalize_model(tuned_model)"
   ]
  },
  {
   "cell_type": "code",
   "execution_count": 47,
   "metadata": {},
   "outputs": [
    {
     "data": {
      "text/html": [
       "<style>#sk-container-id-1 {color: black;background-color: white;}#sk-container-id-1 pre{padding: 0;}#sk-container-id-1 div.sk-toggleable {background-color: white;}#sk-container-id-1 label.sk-toggleable__label {cursor: pointer;display: block;width: 100%;margin-bottom: 0;padding: 0.3em;box-sizing: border-box;text-align: center;}#sk-container-id-1 label.sk-toggleable__label-arrow:before {content: \"▸\";float: left;margin-right: 0.25em;color: #696969;}#sk-container-id-1 label.sk-toggleable__label-arrow:hover:before {color: black;}#sk-container-id-1 div.sk-estimator:hover label.sk-toggleable__label-arrow:before {color: black;}#sk-container-id-1 div.sk-toggleable__content {max-height: 0;max-width: 0;overflow: hidden;text-align: left;background-color: #f0f8ff;}#sk-container-id-1 div.sk-toggleable__content pre {margin: 0.2em;color: black;border-radius: 0.25em;background-color: #f0f8ff;}#sk-container-id-1 input.sk-toggleable__control:checked~div.sk-toggleable__content {max-height: 200px;max-width: 100%;overflow: auto;}#sk-container-id-1 input.sk-toggleable__control:checked~label.sk-toggleable__label-arrow:before {content: \"▾\";}#sk-container-id-1 div.sk-estimator input.sk-toggleable__control:checked~label.sk-toggleable__label {background-color: #d4ebff;}#sk-container-id-1 div.sk-label input.sk-toggleable__control:checked~label.sk-toggleable__label {background-color: #d4ebff;}#sk-container-id-1 input.sk-hidden--visually {border: 0;clip: rect(1px 1px 1px 1px);clip: rect(1px, 1px, 1px, 1px);height: 1px;margin: -1px;overflow: hidden;padding: 0;position: absolute;width: 1px;}#sk-container-id-1 div.sk-estimator {font-family: monospace;background-color: #f0f8ff;border: 1px dotted black;border-radius: 0.25em;box-sizing: border-box;margin-bottom: 0.5em;}#sk-container-id-1 div.sk-estimator:hover {background-color: #d4ebff;}#sk-container-id-1 div.sk-parallel-item::after {content: \"\";width: 100%;border-bottom: 1px solid gray;flex-grow: 1;}#sk-container-id-1 div.sk-label:hover label.sk-toggleable__label {background-color: #d4ebff;}#sk-container-id-1 div.sk-serial::before {content: \"\";position: absolute;border-left: 1px solid gray;box-sizing: border-box;top: 0;bottom: 0;left: 50%;z-index: 0;}#sk-container-id-1 div.sk-serial {display: flex;flex-direction: column;align-items: center;background-color: white;padding-right: 0.2em;padding-left: 0.2em;position: relative;}#sk-container-id-1 div.sk-item {position: relative;z-index: 1;}#sk-container-id-1 div.sk-parallel {display: flex;align-items: stretch;justify-content: center;background-color: white;position: relative;}#sk-container-id-1 div.sk-item::before, #sk-container-id-1 div.sk-parallel-item::before {content: \"\";position: absolute;border-left: 1px solid gray;box-sizing: border-box;top: 0;bottom: 0;left: 50%;z-index: -1;}#sk-container-id-1 div.sk-parallel-item {display: flex;flex-direction: column;z-index: 1;position: relative;background-color: white;}#sk-container-id-1 div.sk-parallel-item:first-child::after {align-self: flex-end;width: 50%;}#sk-container-id-1 div.sk-parallel-item:last-child::after {align-self: flex-start;width: 50%;}#sk-container-id-1 div.sk-parallel-item:only-child::after {width: 0;}#sk-container-id-1 div.sk-dashed-wrapped {border: 1px dashed gray;margin: 0 0.4em 0.5em 0.4em;box-sizing: border-box;padding-bottom: 0.4em;background-color: white;}#sk-container-id-1 div.sk-label label {font-family: monospace;font-weight: bold;display: inline-block;line-height: 1.2em;}#sk-container-id-1 div.sk-label-container {text-align: center;}#sk-container-id-1 div.sk-container {/* jupyter's `normalize.less` sets `[hidden] { display: none; }` but bootstrap.min.css set `[hidden] { display: none !important; }` so we also need the `!important` here to be able to override the default hidden behavior on the sphinx rendered scikit-learn.org. See: https://github.com/scikit-learn/scikit-learn/issues/21755 */display: inline-block !important;position: relative;}#sk-container-id-1 div.sk-text-repr-fallback {display: none;}</style><div id=\"sk-container-id-1\" class=\"sk-top-container\"><div class=\"sk-text-repr-fallback\"><pre>Pipeline(memory=Memory(location=None),\n",
       "         steps=[(&#x27;numerical_imputer&#x27;,\n",
       "                 TransformerWrapper(include=[], transformer=SimpleImputer())),\n",
       "                (&#x27;categorical_imputer&#x27;,\n",
       "                 TransformerWrapper(include=[&#x27;manufacturer&#x27;, &#x27;security_codes&#x27;,\n",
       "                                             &#x27;model&#x27;, &#x27;engine&#x27;, &#x27;model_year&#x27;,\n",
       "                                             &#x27;plant_code&#x27;],\n",
       "                                    transformer=SimpleImputer(strategy=&#x27;most_frequent&#x27;))),\n",
       "                (&#x27;rare_category_grouping&#x27;,\n",
       "                 TransformerWrappe...\n",
       "                              feature_types=None, gamma=None, grow_policy=None,\n",
       "                              importance_type=None,\n",
       "                              interaction_constraints=None,\n",
       "                              learning_rate=0.07235752899247931, max_bin=None,\n",
       "                              max_cat_threshold=None, max_cat_to_onehot=None,\n",
       "                              max_delta_step=None, max_depth=11,\n",
       "                              max_leaves=None, min_child_weight=3, missing=nan,\n",
       "                              monotone_constraints=None, multi_strategy=None,\n",
       "                              n_estimators=250, n_jobs=-1,\n",
       "                              num_parallel_tree=None, random_state=100500, ...))])</pre><b>In a Jupyter environment, please rerun this cell to show the HTML representation or trust the notebook. <br />On GitHub, the HTML representation is unable to render, please try loading this page with nbviewer.org.</b></div><div class=\"sk-container\" hidden><div class=\"sk-item sk-dashed-wrapped\"><div class=\"sk-label-container\"><div class=\"sk-label sk-toggleable\"><input class=\"sk-toggleable__control sk-hidden--visually\" id=\"sk-estimator-id-1\" type=\"checkbox\" ><label for=\"sk-estimator-id-1\" class=\"sk-toggleable__label sk-toggleable__label-arrow\">Pipeline</label><div class=\"sk-toggleable__content\"><pre>Pipeline(memory=Memory(location=None),\n",
       "         steps=[(&#x27;numerical_imputer&#x27;,\n",
       "                 TransformerWrapper(include=[], transformer=SimpleImputer())),\n",
       "                (&#x27;categorical_imputer&#x27;,\n",
       "                 TransformerWrapper(include=[&#x27;manufacturer&#x27;, &#x27;security_codes&#x27;,\n",
       "                                             &#x27;model&#x27;, &#x27;engine&#x27;, &#x27;model_year&#x27;,\n",
       "                                             &#x27;plant_code&#x27;],\n",
       "                                    transformer=SimpleImputer(strategy=&#x27;most_frequent&#x27;))),\n",
       "                (&#x27;rare_category_grouping&#x27;,\n",
       "                 TransformerWrappe...\n",
       "                              feature_types=None, gamma=None, grow_policy=None,\n",
       "                              importance_type=None,\n",
       "                              interaction_constraints=None,\n",
       "                              learning_rate=0.07235752899247931, max_bin=None,\n",
       "                              max_cat_threshold=None, max_cat_to_onehot=None,\n",
       "                              max_delta_step=None, max_depth=11,\n",
       "                              max_leaves=None, min_child_weight=3, missing=nan,\n",
       "                              monotone_constraints=None, multi_strategy=None,\n",
       "                              n_estimators=250, n_jobs=-1,\n",
       "                              num_parallel_tree=None, random_state=100500, ...))])</pre></div></div></div><div class=\"sk-serial\"><div class=\"sk-item sk-dashed-wrapped\"><div class=\"sk-label-container\"><div class=\"sk-label sk-toggleable\"><input class=\"sk-toggleable__control sk-hidden--visually\" id=\"sk-estimator-id-2\" type=\"checkbox\" ><label for=\"sk-estimator-id-2\" class=\"sk-toggleable__label sk-toggleable__label-arrow\">numerical_imputer: TransformerWrapper</label><div class=\"sk-toggleable__content\"><pre>TransformerWrapper(include=[], transformer=SimpleImputer())</pre></div></div></div><div class=\"sk-parallel\"><div class=\"sk-parallel-item\"><div class=\"sk-item\"><div class=\"sk-label-container\"><div class=\"sk-label sk-toggleable\"><input class=\"sk-toggleable__control sk-hidden--visually\" id=\"sk-estimator-id-3\" type=\"checkbox\" ><label for=\"sk-estimator-id-3\" class=\"sk-toggleable__label sk-toggleable__label-arrow\">transformer: SimpleImputer</label><div class=\"sk-toggleable__content\"><pre>SimpleImputer()</pre></div></div></div><div class=\"sk-serial\"><div class=\"sk-item\"><div class=\"sk-estimator sk-toggleable\"><input class=\"sk-toggleable__control sk-hidden--visually\" id=\"sk-estimator-id-4\" type=\"checkbox\" ><label for=\"sk-estimator-id-4\" class=\"sk-toggleable__label sk-toggleable__label-arrow\">SimpleImputer</label><div class=\"sk-toggleable__content\"><pre>SimpleImputer()</pre></div></div></div></div></div></div></div></div><div class=\"sk-item sk-dashed-wrapped\"><div class=\"sk-label-container\"><div class=\"sk-label sk-toggleable\"><input class=\"sk-toggleable__control sk-hidden--visually\" id=\"sk-estimator-id-5\" type=\"checkbox\" ><label for=\"sk-estimator-id-5\" class=\"sk-toggleable__label sk-toggleable__label-arrow\">categorical_imputer: TransformerWrapper</label><div class=\"sk-toggleable__content\"><pre>TransformerWrapper(include=[&#x27;manufacturer&#x27;, &#x27;security_codes&#x27;, &#x27;model&#x27;, &#x27;engine&#x27;,\n",
       "                            &#x27;model_year&#x27;, &#x27;plant_code&#x27;],\n",
       "                   transformer=SimpleImputer(strategy=&#x27;most_frequent&#x27;))</pre></div></div></div><div class=\"sk-parallel\"><div class=\"sk-parallel-item\"><div class=\"sk-item\"><div class=\"sk-label-container\"><div class=\"sk-label sk-toggleable\"><input class=\"sk-toggleable__control sk-hidden--visually\" id=\"sk-estimator-id-6\" type=\"checkbox\" ><label for=\"sk-estimator-id-6\" class=\"sk-toggleable__label sk-toggleable__label-arrow\">transformer: SimpleImputer</label><div class=\"sk-toggleable__content\"><pre>SimpleImputer(strategy=&#x27;most_frequent&#x27;)</pre></div></div></div><div class=\"sk-serial\"><div class=\"sk-item\"><div class=\"sk-estimator sk-toggleable\"><input class=\"sk-toggleable__control sk-hidden--visually\" id=\"sk-estimator-id-7\" type=\"checkbox\" ><label for=\"sk-estimator-id-7\" class=\"sk-toggleable__label sk-toggleable__label-arrow\">SimpleImputer</label><div class=\"sk-toggleable__content\"><pre>SimpleImputer(strategy=&#x27;most_frequent&#x27;)</pre></div></div></div></div></div></div></div></div><div class=\"sk-item sk-dashed-wrapped\"><div class=\"sk-label-container\"><div class=\"sk-label sk-toggleable\"><input class=\"sk-toggleable__control sk-hidden--visually\" id=\"sk-estimator-id-8\" type=\"checkbox\" ><label for=\"sk-estimator-id-8\" class=\"sk-toggleable__label sk-toggleable__label-arrow\">rare_category_grouping: TransformerWrapper</label><div class=\"sk-toggleable__content\"><pre>TransformerWrapper(include=[&#x27;manufacturer&#x27;, &#x27;security_codes&#x27;, &#x27;model&#x27;, &#x27;engine&#x27;,\n",
       "                            &#x27;model_year&#x27;, &#x27;plant_code&#x27;],\n",
       "                   transformer=RareCategoryGrouping(rare_to_value=0.0001))</pre></div></div></div><div class=\"sk-parallel\"><div class=\"sk-parallel-item\"><div class=\"sk-item\"><div class=\"sk-label-container\"><div class=\"sk-label sk-toggleable\"><input class=\"sk-toggleable__control sk-hidden--visually\" id=\"sk-estimator-id-9\" type=\"checkbox\" ><label for=\"sk-estimator-id-9\" class=\"sk-toggleable__label sk-toggleable__label-arrow\">transformer: RareCategoryGrouping</label><div class=\"sk-toggleable__content\"><pre>RareCategoryGrouping(rare_to_value=0.0001)</pre></div></div></div><div class=\"sk-serial\"><div class=\"sk-item\"><div class=\"sk-estimator sk-toggleable\"><input class=\"sk-toggleable__control sk-hidden--visually\" id=\"sk-estimator-id-10\" type=\"checkbox\" ><label for=\"sk-estimator-id-10\" class=\"sk-toggleable__label sk-toggleable__label-arrow\">RareCategoryGrouping</label><div class=\"sk-toggleable__content\"><pre>RareCategoryGrouping(rare_to_value=0.0001)</pre></div></div></div></div></div></div></div></div><div class=\"sk-item sk-dashed-wrapped\"><div class=\"sk-label-container\"><div class=\"sk-label sk-toggleable\"><input class=\"sk-toggleable__control sk-hidden--visually\" id=\"sk-estimator-id-11\" type=\"checkbox\" ><label for=\"sk-estimator-id-11\" class=\"sk-toggleable__label sk-toggleable__label-arrow\">rest_encoding: TransformerWrapper</label><div class=\"sk-toggleable__content\"><pre>TransformerWrapper(include=[&#x27;manufacturer&#x27;, &#x27;security_codes&#x27;, &#x27;model&#x27;, &#x27;engine&#x27;,\n",
       "                            &#x27;model_year&#x27;, &#x27;plant_code&#x27;],\n",
       "                   transformer=TargetEncoder(cols=[&#x27;manufacturer&#x27;,\n",
       "                                                   &#x27;security_codes&#x27;, &#x27;model&#x27;,\n",
       "                                                   &#x27;engine&#x27;, &#x27;model_year&#x27;,\n",
       "                                                   &#x27;plant_code&#x27;],\n",
       "                                             handle_missing=&#x27;return_nan&#x27;))</pre></div></div></div><div class=\"sk-parallel\"><div class=\"sk-parallel-item\"><div class=\"sk-item\"><div class=\"sk-label-container\"><div class=\"sk-label sk-toggleable\"><input class=\"sk-toggleable__control sk-hidden--visually\" id=\"sk-estimator-id-12\" type=\"checkbox\" ><label for=\"sk-estimator-id-12\" class=\"sk-toggleable__label sk-toggleable__label-arrow\">transformer: TargetEncoder</label><div class=\"sk-toggleable__content\"><pre>TargetEncoder(cols=[&#x27;manufacturer&#x27;, &#x27;security_codes&#x27;, &#x27;model&#x27;, &#x27;engine&#x27;,\n",
       "                    &#x27;model_year&#x27;, &#x27;plant_code&#x27;],\n",
       "              handle_missing=&#x27;return_nan&#x27;)</pre></div></div></div><div class=\"sk-serial\"><div class=\"sk-item\"><div class=\"sk-estimator sk-toggleable\"><input class=\"sk-toggleable__control sk-hidden--visually\" id=\"sk-estimator-id-13\" type=\"checkbox\" ><label for=\"sk-estimator-id-13\" class=\"sk-toggleable__label sk-toggleable__label-arrow\">TargetEncoder</label><div class=\"sk-toggleable__content\"><pre>TargetEncoder(cols=[&#x27;manufacturer&#x27;, &#x27;security_codes&#x27;, &#x27;model&#x27;, &#x27;engine&#x27;,\n",
       "                    &#x27;model_year&#x27;, &#x27;plant_code&#x27;],\n",
       "              handle_missing=&#x27;return_nan&#x27;)</pre></div></div></div></div></div></div></div></div><div class=\"sk-item\"><div class=\"sk-estimator sk-toggleable\"><input class=\"sk-toggleable__control sk-hidden--visually\" id=\"sk-estimator-id-14\" type=\"checkbox\" ><label for=\"sk-estimator-id-14\" class=\"sk-toggleable__label sk-toggleable__label-arrow\">XGBRegressor</label><div class=\"sk-toggleable__content\"><pre>XGBRegressor(base_score=None, booster=&#x27;gbtree&#x27;, callbacks=None,\n",
       "             colsample_bylevel=None, colsample_bynode=None,\n",
       "             colsample_bytree=0.7033636419144419, device=None,\n",
       "             early_stopping_rounds=None, enable_categorical=False,\n",
       "             eval_metric=None, feature_types=None, gamma=None, grow_policy=None,\n",
       "             importance_type=None, interaction_constraints=None,\n",
       "             learning_rate=0.07235752899247931, max_bin=None,\n",
       "             max_cat_threshold=None, max_cat_to_onehot=None,\n",
       "             max_delta_step=None, max_depth=11, max_leaves=None,\n",
       "             min_child_weight=3, missing=nan, monotone_constraints=None,\n",
       "             multi_strategy=None, n_estimators=250, n_jobs=-1,\n",
       "             num_parallel_tree=None, random_state=100500, ...)</pre></div></div></div></div></div></div></div>"
      ],
      "text/plain": [
       "Pipeline(memory=Memory(location=None),\n",
       "         steps=[('numerical_imputer',\n",
       "                 TransformerWrapper(include=[], transformer=SimpleImputer())),\n",
       "                ('categorical_imputer',\n",
       "                 TransformerWrapper(include=['manufacturer', 'security_codes',\n",
       "                                             'model', 'engine', 'model_year',\n",
       "                                             'plant_code'],\n",
       "                                    transformer=SimpleImputer(strategy='most_frequent'))),\n",
       "                ('rare_category_grouping',\n",
       "                 TransformerWrappe...\n",
       "                              feature_types=None, gamma=None, grow_policy=None,\n",
       "                              importance_type=None,\n",
       "                              interaction_constraints=None,\n",
       "                              learning_rate=0.07235752899247931, max_bin=None,\n",
       "                              max_cat_threshold=None, max_cat_to_onehot=None,\n",
       "                              max_delta_step=None, max_depth=11,\n",
       "                              max_leaves=None, min_child_weight=3, missing=nan,\n",
       "                              monotone_constraints=None, multi_strategy=None,\n",
       "                              n_estimators=250, n_jobs=-1,\n",
       "                              num_parallel_tree=None, random_state=100500, ...))])"
      ]
     },
     "execution_count": 47,
     "metadata": {},
     "output_type": "execute_result"
    }
   ],
   "source": [
    "final_model"
   ]
  },
  {
   "cell_type": "code",
   "execution_count": 48,
   "metadata": {},
   "outputs": [
    {
     "name": "stdout",
     "output_type": "stream",
     "text": [
      "Transformation Pipeline and Model Successfully Saved\n"
     ]
    },
    {
     "data": {
      "text/plain": [
       "(Pipeline(memory=Memory(location=None),\n",
       "          steps=[('numerical_imputer',\n",
       "                  TransformerWrapper(include=[], transformer=SimpleImputer())),\n",
       "                 ('categorical_imputer',\n",
       "                  TransformerWrapper(include=['manufacturer', 'security_codes',\n",
       "                                              'model', 'engine', 'model_year',\n",
       "                                              'plant_code'],\n",
       "                                     transformer=SimpleImputer(strategy='most_frequent'))),\n",
       "                 ('rare_category_grouping',\n",
       "                  TransformerWrappe...\n",
       "                               feature_types=None, gamma=None, grow_policy=None,\n",
       "                               importance_type=None,\n",
       "                               interaction_constraints=None,\n",
       "                               learning_rate=0.07235752899247931, max_bin=None,\n",
       "                               max_cat_threshold=None, max_cat_to_onehot=None,\n",
       "                               max_delta_step=None, max_depth=11,\n",
       "                               max_leaves=None, min_child_weight=3, missing=nan,\n",
       "                               monotone_constraints=None, multi_strategy=None,\n",
       "                               n_estimators=250, n_jobs=-1,\n",
       "                               num_parallel_tree=None, random_state=100500, ...))]),\n",
       " 'final_model.pkl')"
      ]
     },
     "execution_count": 48,
     "metadata": {},
     "output_type": "execute_result"
    }
   ],
   "source": [
    "save_model(final_model,'final_model')"
   ]
  },
  {
   "cell_type": "markdown",
   "metadata": {},
   "source": [
    "## Тестирование модели"
   ]
  },
  {
   "cell_type": "code",
   "execution_count": 52,
   "metadata": {},
   "outputs": [],
   "source": [
    "preds = final_model.predict(X_test)"
   ]
  },
  {
   "cell_type": "code",
   "execution_count": 51,
   "metadata": {},
   "outputs": [],
   "source": [
    "from sklearn.metrics import (mean_absolute_error as mae, mean_absolute_percentage_error as mape,\n",
    "                             mean_squared_error as mse, r2_score as r2)"
   ]
  },
  {
   "cell_type": "code",
   "execution_count": 53,
   "metadata": {},
   "outputs": [
    {
     "data": {
      "text/plain": [
       "0.19866413162805563"
      ]
     },
     "execution_count": 53,
     "metadata": {},
     "output_type": "execute_result"
    }
   ],
   "source": [
    "mape(y_test, preds)"
   ]
  },
  {
   "cell_type": "code",
   "execution_count": 66,
   "metadata": {},
   "outputs": [
    {
     "name": "stdout",
     "output_type": "stream",
     "text": [
      "MAPE 0.1987\n",
      "MAE 1914.3\n",
      "RMSE 2757.63\n"
     ]
    }
   ],
   "source": [
    "print('MAPE', mape(y_test, preds).round(4))\n",
    "print('MAE', mae(y_test, preds).round(2))\n",
    "print('RMSE', np.sqrt(mse(y_test, preds)).round(2))"
   ]
  },
  {
   "cell_type": "code",
   "execution_count": 50,
   "metadata": {},
   "outputs": [
    {
     "data": {
      "text/html": [
       "<div>\n",
       "<style scoped>\n",
       "    .dataframe tbody tr th:only-of-type {\n",
       "        vertical-align: middle;\n",
       "    }\n",
       "\n",
       "    .dataframe tbody tr th {\n",
       "        vertical-align: top;\n",
       "    }\n",
       "\n",
       "    .dataframe thead th {\n",
       "        text-align: right;\n",
       "    }\n",
       "</style>\n",
       "<table border=\"1\" class=\"dataframe\">\n",
       "  <thead>\n",
       "    <tr style=\"text-align: right;\">\n",
       "      <th></th>\n",
       "      <th>manufacturer</th>\n",
       "      <th>security_codes</th>\n",
       "      <th>model</th>\n",
       "      <th>engine</th>\n",
       "      <th>model_year</th>\n",
       "      <th>plant_code</th>\n",
       "      <th>prediction_label</th>\n",
       "    </tr>\n",
       "    <tr>\n",
       "      <th>VIN</th>\n",
       "      <th></th>\n",
       "      <th></th>\n",
       "      <th></th>\n",
       "      <th></th>\n",
       "      <th></th>\n",
       "      <th></th>\n",
       "      <th></th>\n",
       "    </tr>\n",
       "  </thead>\n",
       "  <tbody>\n",
       "    <tr>\n",
       "      <th>1FTFW1CF7DFD45401</th>\n",
       "      <td>1FT</td>\n",
       "      <td>F</td>\n",
       "      <td>W1C</td>\n",
       "      <td>F</td>\n",
       "      <td>D</td>\n",
       "      <td>F</td>\n",
       "      <td>25754.351562</td>\n",
       "    </tr>\n",
       "  </tbody>\n",
       "</table>\n",
       "</div>"
      ],
      "text/plain": [
       "                  manufacturer security_codes model engine model_year  \\\n",
       "VIN                                                                     \n",
       "1FTFW1CF7DFD45401          1FT              F   W1C      F          D   \n",
       "\n",
       "                  plant_code  prediction_label  \n",
       "VIN                                             \n",
       "1FTFW1CF7DFD45401          F      25754.351562  "
      ]
     },
     "execution_count": 50,
     "metadata": {},
     "output_type": "execute_result"
    }
   ],
   "source": [
    "predict_model(final_model,X_test.sample(1))\n"
   ]
  },
  {
   "cell_type": "markdown",
   "metadata": {},
   "source": [
    "## Приминение"
   ]
  },
  {
   "cell_type": "code",
   "execution_count": 158,
   "metadata": {},
   "outputs": [
    {
     "name": "stdout",
     "output_type": "stream",
     "text": [
      "Help on function predict_car_price in module __main__:\n",
      "\n",
      "predict_car_price(vin_code, price_only=True, lang='Ru')\n",
      "    Предсказывает цену автомобиля по VIN-коду (или списку кодов).\n",
      "    \n",
      "    Args:\n",
      "        vin_code (str или list): VIN-код автомобиля или список VIN-кодов.\n",
      "    \n",
      "        price_only (bool, optional): Если True, возвращает только предсказанную цену (DataFrame). \n",
      "                                     Иначе, возвращает DataFrame с информацией о VIN и ценой.\n",
      "                                     По умолчанию True.\n",
      "                                     \n",
      "        lang (str, optional): Язык вывода информации. 'Ru' для русского, 'En' для английского.\n",
      "                              По умолчанию 'Ru'.\n",
      "    \n",
      "    Returns:\n",
      "        pd.DataFrame:  DataFrame с информацией о VIN и ценой.\n",
      "    \n",
      "    Exemple:\n",
      "    \n",
      "        vin_codes = ['1FTNE2EW0EDA31393','1FANE2EW0EDA31393','3FANE2EW0EDA31393']\n",
      "        result = predict_car_price(vin_codes,price_only=False)\n",
      "\n"
     ]
    }
   ],
   "source": [
    "help(predict_car_price)"
   ]
  },
  {
   "cell_type": "code",
   "execution_count": 157,
   "metadata": {},
   "outputs": [],
   "source": [
    "def predict_car_price(vin_code, price_only = True, lang='Ru'):\n",
    "    \"\"\"Предсказывает цену автомобиля по VIN-коду (или списку кодов).\n",
    "\n",
    "    Args:\n",
    "        vin_code (str или list): VIN-код автомобиля или список VIN-кодов.\n",
    "\n",
    "        price_only (bool, optional): Если True, возвращает только предсказанную цену (DataFrame). \n",
    "                                     Иначе, возвращает DataFrame с информацией о VIN и ценой.\n",
    "                                     По умолчанию True.\n",
    "                                     \n",
    "        lang (str, optional): Язык вывода информации. 'Ru' для русского, 'En' для английского.\n",
    "                              По умолчанию 'Ru'.\n",
    "\n",
    "    Returns:\n",
    "        pd.DataFrame:  DataFrame с информацией о VIN и ценой.\n",
    "    \n",
    "    Exemple:\n",
    "    \n",
    "        vin_codes = ['1FTNE2EW0EDA31393','1FANE2EW0EDA31393','3FANE2EW0EDA31393']\n",
    "        result = predict_car_price(vin_codes,price_only=False)\n",
    "    \"\"\"\n",
    "\n",
    "    \n",
    "    model = load_model('final_model',verbose=False)\n",
    "\n",
    "    results = []\n",
    "    if isinstance(vin_code, str):\n",
    "        vin_code = [vin_code]\n",
    "    \n",
    "    for vin in vin_code:\n",
    "        vin_info = extract_vin_info(vin)\n",
    "        manufacturer = vin_info['manufacturer']\n",
    "        security_codes = vin_info['security_codes']\n",
    "        model_car = vin_info['model']\n",
    "        engine = vin_info['engine']\n",
    "        check_digit = vin_info['check_digit']\n",
    "        model_year = vin_info['model_year']\n",
    "        plant_code = vin_info['plant_code']\n",
    "        serial_number = vin_info['serial_number']\n",
    "        \n",
    "        data = pd.DataFrame({'manufacturer': [manufacturer], \n",
    "                            'security_codes': [security_codes],\n",
    "                            'model': [model_car],\n",
    "                            'engine': [engine],\n",
    "                            'check_digit' : [check_digit],\n",
    "                            'model_year': [model_year],\n",
    "                            'plant_code': [plant_code],\n",
    "                            'serial_number' : [serial_number]})\n",
    "        \n",
    "        prediction = predict_model(model, data=data.drop(['check_digit','serial_number'], axis=1))\n",
    "        price = data.copy()\n",
    "        price['predicted_price'] = prediction['prediction_label'].round(2)\n",
    "        price['VIN'] = vin\n",
    "        price = price.set_index('VIN')\n",
    "\n",
    "        if lang == 'Ru':\n",
    "            price.columns = ['Производитель', 'Код безопасности', 'Модель', \n",
    "                            'Двигатель','Знак качества', 'Год','Завод', 'Серийный номер',\n",
    "                            'Предсказанная цена']\n",
    "        \n",
    "        results.append(price)\n",
    "    \n",
    "    if len(results) == 1:\n",
    "        final = results[0]\n",
    "\n",
    "    else:  \n",
    "        final =  pd.concat(results)\n",
    "    \n",
    "    if price_only:\n",
    "        return pd.DataFrame(final.iloc[:,-1])\n",
    "\n",
    "    else:\n",
    "        return final"
   ]
  },
  {
   "cell_type": "code",
   "execution_count": 161,
   "metadata": {},
   "outputs": [
    {
     "data": {
      "text/html": [
       "<div>\n",
       "<style scoped>\n",
       "    .dataframe tbody tr th:only-of-type {\n",
       "        vertical-align: middle;\n",
       "    }\n",
       "\n",
       "    .dataframe tbody tr th {\n",
       "        vertical-align: top;\n",
       "    }\n",
       "\n",
       "    .dataframe thead th {\n",
       "        text-align: right;\n",
       "    }\n",
       "</style>\n",
       "<table border=\"1\" class=\"dataframe\">\n",
       "  <thead>\n",
       "    <tr style=\"text-align: right;\">\n",
       "      <th></th>\n",
       "      <th>Производитель</th>\n",
       "      <th>Код безопасности</th>\n",
       "      <th>Модель</th>\n",
       "      <th>Двигатель</th>\n",
       "      <th>Знак качества</th>\n",
       "      <th>Год</th>\n",
       "      <th>Завод</th>\n",
       "      <th>Серийный номер</th>\n",
       "      <th>Предсказанная цена</th>\n",
       "    </tr>\n",
       "    <tr>\n",
       "      <th>VIN</th>\n",
       "      <th></th>\n",
       "      <th></th>\n",
       "      <th></th>\n",
       "      <th></th>\n",
       "      <th></th>\n",
       "      <th></th>\n",
       "      <th></th>\n",
       "      <th></th>\n",
       "      <th></th>\n",
       "    </tr>\n",
       "  </thead>\n",
       "  <tbody>\n",
       "    <tr>\n",
       "      <th>1FTGE2EW0EDA31393</th>\n",
       "      <td>1FT</td>\n",
       "      <td>G</td>\n",
       "      <td>E2E</td>\n",
       "      <td>W</td>\n",
       "      <td>0</td>\n",
       "      <td>E</td>\n",
       "      <td>D</td>\n",
       "      <td>A31393</td>\n",
       "      <td>23462.849609</td>\n",
       "    </tr>\n",
       "    <tr>\n",
       "      <th>1FANE2EC0EDA31393</th>\n",
       "      <td>1FA</td>\n",
       "      <td>N</td>\n",
       "      <td>E2E</td>\n",
       "      <td>C</td>\n",
       "      <td>0</td>\n",
       "      <td>E</td>\n",
       "      <td>D</td>\n",
       "      <td>A31393</td>\n",
       "      <td>18431.740234</td>\n",
       "    </tr>\n",
       "    <tr>\n",
       "      <th>3FANF2EE0EDA31393</th>\n",
       "      <td>3FA</td>\n",
       "      <td>N</td>\n",
       "      <td>F2E</td>\n",
       "      <td>E</td>\n",
       "      <td>0</td>\n",
       "      <td>E</td>\n",
       "      <td>D</td>\n",
       "      <td>A31393</td>\n",
       "      <td>18645.050781</td>\n",
       "    </tr>\n",
       "  </tbody>\n",
       "</table>\n",
       "</div>"
      ],
      "text/plain": [
       "                  Производитель Код безопасности Модель Двигатель  \\\n",
       "VIN                                                                 \n",
       "1FTGE2EW0EDA31393           1FT                G    E2E         W   \n",
       "1FANE2EC0EDA31393           1FA                N    E2E         C   \n",
       "3FANF2EE0EDA31393           3FA                N    F2E         E   \n",
       "\n",
       "                  Знак качества Год Завод Серийный номер  Предсказанная цена  \n",
       "VIN                                                                           \n",
       "1FTGE2EW0EDA31393             0   E     D         A31393        23462.849609  \n",
       "1FANE2EC0EDA31393             0   E     D         A31393        18431.740234  \n",
       "3FANF2EE0EDA31393             0   E     D         A31393        18645.050781  "
      ]
     },
     "execution_count": 161,
     "metadata": {},
     "output_type": "execute_result"
    }
   ],
   "source": [
    "predict_car_price(['1FTGE2EW0EDA31393','1FANE2EC0EDA31393','3FANF2EE0EDA31393'], price_only=False)"
   ]
  }
 ],
 "metadata": {
  "kernelspec": {
   "display_name": "ds_practicum_env",
   "language": "python",
   "name": "python3"
  },
  "language_info": {
   "codemirror_mode": {
    "name": "ipython",
    "version": 3
   },
   "file_extension": ".py",
   "mimetype": "text/x-python",
   "name": "python",
   "nbconvert_exporter": "python",
   "pygments_lexer": "ipython3",
   "version": "3.9.17"
  }
 },
 "nbformat": 4,
 "nbformat_minor": 2
}
